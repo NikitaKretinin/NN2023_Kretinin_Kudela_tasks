{
 "cells": [
  {
   "cell_type": "code",
   "execution_count": 1,
   "id": "d6c3b533",
   "metadata": {},
   "outputs": [
    {
     "name": "stdout",
     "output_type": "stream",
     "text": [
      "Tensorflow version: 2.10.1\n",
      "GPU detected: [PhysicalDevice(name='/physical_device:GPU:0', device_type='GPU')]\n"
     ]
    }
   ],
   "source": [
    "import tensorflow as tf\n",
    "import pandas as pd\n",
    "import numpy as np\n",
    "import pickle\n",
    "from keras_preprocessing.sequence import pad_sequences\n",
    "from sklearn.model_selection import train_test_split\n",
    "from keras.layers import LSTM, Embedding, Dense, TimeDistributed, Dropout, Bidirectional, Attention\n",
    "from keras import Input\n",
    "from tensorflow.keras.models import Sequential, Model\n",
    "import keras\n",
    "from tqdm import tqdm\n",
    "import matplotlib.pyplot as plt\n",
    "\n",
    "print('Tensorflow version:', tf.__version__)\n",
    "print('GPU detected:', tf.config.list_physical_devices('GPU'))\n",
    "gpus = tf.config.list_physical_devices('GPU')\n",
    "if gpus:\n",
    "    strategy = tf.distribute.OneDeviceStrategy(device=\"/GPU:0\")\n",
    "else:\n",
    "    strategy = tf.distribute.OneDeviceStrategy(device=\"/CPU:0\")"
   ]
  },
  {
   "cell_type": "code",
   "execution_count": 2,
   "id": "bfb43059",
   "metadata": {},
   "outputs": [
    {
     "data": {
      "text/html": [
       "<div>\n",
       "<style scoped>\n",
       "    .dataframe tbody tr th:only-of-type {\n",
       "        vertical-align: middle;\n",
       "    }\n",
       "\n",
       "    .dataframe tbody tr th {\n",
       "        vertical-align: top;\n",
       "    }\n",
       "\n",
       "    .dataframe thead th {\n",
       "        text-align: right;\n",
       "    }\n",
       "</style>\n",
       "<table border=\"1\" class=\"dataframe\">\n",
       "  <thead>\n",
       "    <tr style=\"text-align: right;\">\n",
       "      <th></th>\n",
       "      <th>word</th>\n",
       "      <th>entity</th>\n",
       "      <th>sentence</th>\n",
       "    </tr>\n",
       "  </thead>\n",
       "  <tbody>\n",
       "    <tr>\n",
       "      <th>0</th>\n",
       "      <td>angiotensin-converting</td>\n",
       "      <td>B-GENE_OR_GENOME</td>\n",
       "      <td>0</td>\n",
       "    </tr>\n",
       "    <tr>\n",
       "      <th>1</th>\n",
       "      <td>enzyme</td>\n",
       "      <td>I-GENE_OR_GENOME</td>\n",
       "      <td>0</td>\n",
       "    </tr>\n",
       "    <tr>\n",
       "      <th>2</th>\n",
       "      <td>2</td>\n",
       "      <td>I-GENE_OR_GENOME</td>\n",
       "      <td>0</td>\n",
       "    </tr>\n",
       "    <tr>\n",
       "      <th>3</th>\n",
       "      <td>ace2</td>\n",
       "      <td>B-GENE_OR_GENOME</td>\n",
       "      <td>0</td>\n",
       "    </tr>\n",
       "    <tr>\n",
       "      <th>4</th>\n",
       "      <td>as</td>\n",
       "      <td>Other</td>\n",
       "      <td>0</td>\n",
       "    </tr>\n",
       "    <tr>\n",
       "      <th>...</th>\n",
       "      <td>...</td>\n",
       "      <td>...</td>\n",
       "      <td>...</td>\n",
       "    </tr>\n",
       "    <tr>\n",
       "      <th>63308695</th>\n",
       "      <td>advise</td>\n",
       "      <td>I-CHEMICAL</td>\n",
       "      <td>140498</td>\n",
       "    </tr>\n",
       "    <tr>\n",
       "      <th>63308696</th>\n",
       "      <td>caution</td>\n",
       "      <td>I-CHEMICAL</td>\n",
       "      <td>140498</td>\n",
       "    </tr>\n",
       "    <tr>\n",
       "      <th>63308697</th>\n",
       "      <td>in</td>\n",
       "      <td>I-CHEMICAL</td>\n",
       "      <td>140498</td>\n",
       "    </tr>\n",
       "    <tr>\n",
       "      <th>63308698</th>\n",
       "      <td>interpreting</td>\n",
       "      <td>I-CHEMICAL</td>\n",
       "      <td>140498</td>\n",
       "    </tr>\n",
       "    <tr>\n",
       "      <th>63308699</th>\n",
       "      <td>this</td>\n",
       "      <td>I-CHEMICAL</td>\n",
       "      <td>140498</td>\n",
       "    </tr>\n",
       "  </tbody>\n",
       "</table>\n",
       "<p>63308700 rows × 3 columns</p>\n",
       "</div>"
      ],
      "text/plain": [
       "                            word            entity  sentence\n",
       "0         angiotensin-converting  B-GENE_OR_GENOME         0\n",
       "1                         enzyme  I-GENE_OR_GENOME         0\n",
       "2                              2  I-GENE_OR_GENOME         0\n",
       "3                           ace2  B-GENE_OR_GENOME         0\n",
       "4                             as             Other         0\n",
       "...                          ...               ...       ...\n",
       "63308695                  advise        I-CHEMICAL    140498\n",
       "63308696                 caution        I-CHEMICAL    140498\n",
       "63308697                      in        I-CHEMICAL    140498\n",
       "63308698            interpreting        I-CHEMICAL    140498\n",
       "63308699                    this        I-CHEMICAL    140498\n",
       "\n",
       "[63308700 rows x 3 columns]"
      ]
     },
     "execution_count": 2,
     "metadata": {},
     "output_type": "execute_result"
    }
   ],
   "source": [
    "data = pd.read_parquet('datasets/cord-ner-full.parquet.gzip')\n",
    "data"
   ]
  },
  {
   "cell_type": "code",
   "execution_count": 3,
   "id": "888cec3c",
   "metadata": {},
   "outputs": [
    {
     "name": "stdout",
     "output_type": "stream",
     "text": [
      "Number of unique entities: 125\n"
     ]
    },
    {
     "data": {
      "text/plain": [
       "array(['B-GENE_OR_GENOME', 'I-GENE_OR_GENOME', 'Other', 'B-CORONAVIRUS',\n",
       "       'B-CHEMICAL', 'B-EVOLUTION', 'B-WILDLIFE', 'B-NORP', 'I-NORP',\n",
       "       'B-ORGANISM', 'B-EUKARYOTE', 'B-PERSON', 'I-PERSON',\n",
       "       'B-PHYSICAL_SCIENCE', 'I-PHYSICAL_SCIENCE', 'I-CHEMICAL',\n",
       "       'B-DISEASE_OR_SYNDROME', 'I-DISEASE_OR_SYNDROME', 'I-ORGANISM',\n",
       "       'B-DATE', 'B-CARDINAL', 'B-MOLECULAR_FUNCTION',\n",
       "       'B-EXPERIMENTAL_MODEL_OF_DISEASE',\n",
       "       'I-EXPERIMENTAL_MODEL_OF_DISEASE', 'B-CELL',\n",
       "       'B-BODY_PART_ORGAN_OR_ORGAN_COMPONENT', 'B-LIVESTOCK', 'B-ORG',\n",
       "       'B-TISSUE', 'I-TISSUE', 'B-GROUP', 'I-CELL', 'B-CELL_COMPONENT',\n",
       "       'I-CELL_COMPONENT', 'B-FOOD', 'B-CELL_FUNCTION', 'I-DATE', 'B-GPE',\n",
       "       'B-DAILY_OR_RECREATIONAL_ACTIVITY', 'B-BODY_SUBSTANCE',\n",
       "       'B-INDIVIDUAL_BEHAVIOR', 'B-GOVERNMENTAL_OR_REGULATORY_ACTIVITY',\n",
       "       'B-ORDINAL', 'B-LABORATORY_PROCEDURE', 'I-LABORATORY_PROCEDURE',\n",
       "       'B-VIRUS', 'B-PRODUCT', 'B-SIGN_OR_SYMPTOM',\n",
       "       'B-LABORATORY_OR_TEST_RESULT', 'I-CARDINAL', 'B-RESEARCH_ACTIVITY',\n",
       "       'I-PRODUCT', 'B-CELL_OR_MOLECULAR_DYSFUNCTION',\n",
       "       'B-INJURY_OR_POISONING', 'I-INJURY_OR_POISONING',\n",
       "       'B-THERAPEUTIC_OR_PREVENTIVE_PROCEDURE', 'B-TIME', 'I-TIME',\n",
       "       'I-GPE', 'I-ORG', 'I-RESEARCH_ACTIVITY', 'B-PERCENT', 'I-PERCENT',\n",
       "       'B-QUANTITY', 'I-QUANTITY', 'I-WILDLIFE', 'B-SOCIAL_BEHAVIOR',\n",
       "       'I-EVOLUTION', 'I-CORONAVIRUS', 'B-SUBSTRATE', 'I-SIGN_OR_SYMPTOM',\n",
       "       'B-MONEY', 'I-MONEY', 'I-THERAPEUTIC_OR_PREVENTIVE_PROCEDURE',\n",
       "       'B-ORGAN_OR_TISSUE_FUNCTION', 'I-ORGAN_OR_TISSUE_FUNCTION',\n",
       "       'B-FAC', 'I-FAC', 'B-EDUCATIONAL_ACTIVITY',\n",
       "       'I-EDUCATIONAL_ACTIVITY', 'I-GROUP', 'B-DIAGNOSTIC_PROCEDURE',\n",
       "       'B-VIRAL_PROTEIN', 'B-ANATOMICAL_STRUCTURE', 'B-LOC',\n",
       "       'I-DIAGNOSTIC_PROCEDURE', 'B-EVENT', 'I-EVENT',\n",
       "       'I-LABORATORY_OR_TEST_RESULT', 'B-GROUP_ATTRIBUTE',\n",
       "       'B-WORK_OF_ART', 'I-WORK_OF_ART', 'I-MOLECULAR_FUNCTION',\n",
       "       'I-VIRUS', 'B-LAW', 'I-LAW', 'B-BACTERIUM', 'I-LOC', 'B-LANGUAGE',\n",
       "       'B-IMMUNE_RESPONSE', 'I-IMMUNE_RESPONSE', 'I-EUKARYOTE',\n",
       "       'I-VIRAL_PROTEIN', 'B-MACHINE_ACTIVITY',\n",
       "       'I-BODY_PART_ORGAN_OR_ORGAN_COMPONENT', 'I-ORDINAL', 'B-MATERIAL',\n",
       "       'I-BODY_SUBSTANCE', 'I-SUBSTRATE',\n",
       "       'I-GOVERNMENTAL_OR_REGULATORY_ACTIVITY',\n",
       "       'B-HUMAN-CAUSED_PHENOMENON_OR_PROCESS', 'I-INDIVIDUAL_BEHAVIOR',\n",
       "       'I-CELL_FUNCTION', 'B-ARCHAEON', 'I-ANATOMICAL_STRUCTURE',\n",
       "       'I-DAILY_OR_RECREATIONAL_ACTIVITY',\n",
       "       'I-HUMAN-CAUSED_PHENOMENON_OR_PROCESS', 'I-LANGUAGE',\n",
       "       'I-BACTERIUM', 'I-GROUP_ATTRIBUTE',\n",
       "       'I-CELL_OR_MOLECULAR_DYSFUNCTION', 'I-FOOD', 'I-MATERIAL',\n",
       "       'I-LIVESTOCK', 'I-SOCIAL_BEHAVIOR'], dtype=object)"
      ]
     },
     "execution_count": 3,
     "metadata": {},
     "output_type": "execute_result"
    }
   ],
   "source": [
    "print(f\"Number of unique entities: {len(data['entity'].unique())}\")\n",
    "data['entity'].unique()"
   ]
  },
  {
   "cell_type": "code",
   "execution_count": 4,
   "id": "e2c350f5",
   "metadata": {},
   "outputs": [],
   "source": [
    "words = list(set(data['word'].values))\n",
    "words.append(\"ENDPAD\")\n",
    "num_words = len(words)\n",
    "\n",
    "tags = list(set(data['entity'].values))\n",
    "num_tags = len(tags)"
   ]
  },
  {
   "cell_type": "code",
   "execution_count": 5,
   "id": "103e732b",
   "metadata": {},
   "outputs": [
    {
     "data": {
      "text/plain": [
       "[[('angiotensin-converting', 'B-GENE_OR_GENOME'),\n",
       "  ('enzyme', 'I-GENE_OR_GENOME'),\n",
       "  ('2', 'I-GENE_OR_GENOME'),\n",
       "  ('ace2', 'B-GENE_OR_GENOME'),\n",
       "  ('as', 'Other'),\n",
       "  ('a', 'Other'),\n",
       "  ('sars-cov-2', 'B-CORONAVIRUS'),\n",
       "  ('receptor', 'B-CHEMICAL'),\n",
       "  ('molecular', 'Other'),\n",
       "  ('mechanisms', 'Other'),\n",
       "  ('and', 'Other'),\n",
       "  ('potential', 'Other'),\n",
       "  ('therapeutic', 'Other'),\n",
       "  ('target', 'Other'),\n",
       "  ('sars-cov-2', 'B-CORONAVIRUS'),\n",
       "  ('has', 'Other'),\n",
       "  ('been', 'Other'),\n",
       "  ('sequenced', 'Other'),\n",
       "  ('[3]', 'Other'),\n",
       "  ('.', 'Other'),\n",
       "  ('a', 'Other'),\n",
       "  ('phylogenetic', 'B-EVOLUTION'),\n",
       "  ('analysis', 'Other'),\n",
       "  ('[3,', 'Other'),\n",
       "  ('4]', 'Other'),\n",
       "  ('found', 'Other'),\n",
       "  ('a', 'Other'),\n",
       "  ('bat', 'B-WILDLIFE'),\n",
       "  ('origin', 'Other'),\n",
       "  ('for', 'Other'),\n",
       "  ('the', 'Other'),\n",
       "  ('sars-cov-2', 'B-CORONAVIRUS'),\n",
       "  ('there', 'Other'),\n",
       "  ('is', 'Other'),\n",
       "  ('a', 'Other'),\n",
       "  ('diversity', 'Other'),\n",
       "  ('of', 'Other'),\n",
       "  ('possible', 'Other'),\n",
       "  ('intermediate', 'B-NORP'),\n",
       "  ('hosts', 'I-NORP'),\n",
       "  ('for', 'Other'),\n",
       "  ('sars-cov-2', 'B-CORONAVIRUS'),\n",
       "  ('including', 'Other'),\n",
       "  ('pangolins', 'B-WILDLIFE'),\n",
       "  ('but', 'Other'),\n",
       "  ('not', 'Other'),\n",
       "  ('mice', 'B-ORGANISM'),\n",
       "  ('and', 'Other'),\n",
       "  ('rats', 'B-EUKARYOTE'),\n",
       "  ('[5]', 'Other'),\n",
       "  ('.', 'Other'),\n",
       "  ('there', 'Other'),\n",
       "  ('are', 'Other'),\n",
       "  ('many', 'Other'),\n",
       "  ('similarities', 'Other'),\n",
       "  ('of', 'Other'),\n",
       "  ('sars-cov-2', 'B-CORONAVIRUS'),\n",
       "  ('with', 'Other'),\n",
       "  ('the', 'Other'),\n",
       "  ('original', 'Other'),\n",
       "  ('sars', 'B-CORONAVIRUS'),\n",
       "  ('cov', 'B-CORONAVIRUS'),\n",
       "  ('using', 'Other'),\n",
       "  ('computer', 'Other'),\n",
       "  ('modeling,', 'Other'),\n",
       "  ('xu', 'B-PERSON'),\n",
       "  ('et', 'I-PERSON'),\n",
       "  ('al', 'I-PERSON'),\n",
       "  ('[6]', 'Other'),\n",
       "  ('found', 'Other'),\n",
       "  ('that', 'Other'),\n",
       "  ('the', 'Other'),\n",
       "  ('spike', 'B-GENE_OR_GENOME'),\n",
       "  ('proteins', 'I-GENE_OR_GENOME'),\n",
       "  ('of', 'Other'),\n",
       "  ('sars-cov-2', 'B-CORONAVIRUS'),\n",
       "  ('and', 'Other'),\n",
       "  ('sars', 'B-CORONAVIRUS'),\n",
       "  ('cov', 'B-CORONAVIRUS'),\n",
       "  ('have', 'Other'),\n",
       "  ('almost', 'Other'),\n",
       "  ('identical', 'Other'),\n",
       "  ('3-d', 'Other'),\n",
       "  ('structures', 'Other'),\n",
       "  ('in', 'Other'),\n",
       "  ('the', 'Other'),\n",
       "  ('receptor-binding', 'Other'),\n",
       "  ('domain', 'Other'),\n",
       "  ('that', 'Other'),\n",
       "  ('maintains', 'Other'),\n",
       "  ('van', 'B-PHYSICAL_SCIENCE'),\n",
       "  ('der', 'I-PHYSICAL_SCIENCE'),\n",
       "  ('waals', 'I-PHYSICAL_SCIENCE'),\n",
       "  ('forces', 'I-PHYSICAL_SCIENCE'),\n",
       "  ('sars-cov', 'B-CHEMICAL'),\n",
       "  ('spike', 'I-CHEMICAL'),\n",
       "  ('protein', 'I-CHEMICAL'),\n",
       "  ('has', 'Other'),\n",
       "  ('a', 'Other'),\n",
       "  ('strong', 'Other'),\n",
       "  ('binding', 'B-DISEASE_OR_SYNDROME'),\n",
       "  ('affinity', 'I-DISEASE_OR_SYNDROME'),\n",
       "  ('to', 'Other'),\n",
       "  ('human', 'B-ORGANISM'),\n",
       "  ('ace2', 'I-ORGANISM'),\n",
       "  ('based', 'Other'),\n",
       "  ('on', 'Other'),\n",
       "  ('biochemical', 'Other'),\n",
       "  ('interaction', 'Other'),\n",
       "  ('studies', 'Other'),\n",
       "  ('and', 'Other'),\n",
       "  ('crystal', 'B-GENE_OR_GENOME'),\n",
       "  ('structure', 'I-GENE_OR_GENOME'),\n",
       "  ('analysis', 'I-GENE_OR_GENOME'),\n",
       "  ('[7', 'I-GENE_OR_GENOME'),\n",
       "  ('.', 'Other'),\n",
       "  ('sars-cov-2', 'B-CORONAVIRUS'),\n",
       "  ('and', 'Other'),\n",
       "  ('sars', 'B-CORONAVIRUS'),\n",
       "  ('cov', 'B-CORONAVIRUS'),\n",
       "  ('spike', 'Other'),\n",
       "  ('proteins', 'Other'),\n",
       "  ('share', 'Other'),\n",
       "  ('76', 'B-DATE'),\n",
       "  ('5%', 'Other'),\n",
       "  ('identity', 'B-DISEASE_OR_SYNDROME'),\n",
       "  ('in', 'Other'),\n",
       "  ('amino', 'B-CHEMICAL'),\n",
       "  ('acid', 'I-CHEMICAL'),\n",
       "  ('sequences', 'Other'),\n",
       "  ('[6]', 'Other'),\n",
       "  ('and,', 'Other'),\n",
       "  ('importantly,', 'Other'),\n",
       "  ('the', 'Other'),\n",
       "  ('sars-cov-2', 'B-CORONAVIRUS'),\n",
       "  ('and', 'Other'),\n",
       "  ('sars', 'B-CORONAVIRUS'),\n",
       "  ('cov', 'B-CORONAVIRUS'),\n",
       "  ('spike', 'Other'),\n",
       "  ('proteins', 'Other'),\n",
       "  ('have', 'Other'),\n",
       "  ('a', 'Other'),\n",
       "  ('high', 'Other'),\n",
       "  ('degree', 'Other'),\n",
       "  ('of', 'Other'),\n",
       "  ('homology', 'Other'),\n",
       "  ('[6,', 'Other'),\n",
       "  ('7]', 'Other'),\n",
       "  ('.', 'Other'),\n",
       "  ('wan', 'B-PERSON'),\n",
       "  ('et', 'I-PERSON'),\n",
       "  ('al', 'I-PERSON'),\n",
       "  ('[4]', 'Other'),\n",
       "  ('reported', 'Other'),\n",
       "  ('that', 'Other'),\n",
       "  ('residue', 'Other'),\n",
       "  ('394', 'B-CARDINAL'),\n",
       "  ('glutamine', 'B-CHEMICAL'),\n",
       "  ('in', 'Other'),\n",
       "  ('the', 'Other'),\n",
       "  ('sars-cov-2', 'B-CORONAVIRUS'),\n",
       "  ('receptor-binding', 'Other'),\n",
       "  ('domain', 'Other'),\n",
       "  ('(rbd),', 'Other'),\n",
       "  ('corresponding', 'Other'),\n",
       "  ('to', 'Other'),\n",
       "  ('residue', 'Other'),\n",
       "  ('479', 'B-CARDINAL'),\n",
       "  ('in', 'Other'),\n",
       "  ('sars', 'B-CORONAVIRUS'),\n",
       "  ('cov', 'B-CORONAVIRUS'),\n",
       "  ('can', 'Other'),\n",
       "  ('be', 'Other'),\n",
       "  ('recognized', 'Other'),\n",
       "  ('by', 'Other'),\n",
       "  ('the', 'Other'),\n",
       "  ('critical', 'Other'),\n",
       "  ('lysine', 'B-CHEMICAL'),\n",
       "  ('31', 'Other'),\n",
       "  ('on', 'Other'),\n",
       "  ('the', 'Other'),\n",
       "  ('human', 'B-GENE_OR_GENOME'),\n",
       "  ('ace2', 'I-GENE_OR_GENOME'),\n",
       "  ('receptor', 'I-GENE_OR_GENOME'),\n",
       "  ('[8', 'I-GENE_OR_GENOME'),\n",
       "  ('.', 'Other'),\n",
       "  ('further', 'Other'),\n",
       "  ('analysis', 'Other'),\n",
       "  ('even', 'Other'),\n",
       "  ('suggested', 'Other'),\n",
       "  ('that', 'Other'),\n",
       "  ('sars-cov-2', 'B-CORONAVIRUS'),\n",
       "  ('recognizes', 'Other'),\n",
       "  ('human', 'B-ORGANISM'),\n",
       "  ('ace2', 'I-ORGANISM'),\n",
       "  ('more', 'Other'),\n",
       "  ('efficiently', 'Other'),\n",
       "  ('than', 'Other'),\n",
       "  ('sars', 'B-CORONAVIRUS'),\n",
       "  ('cov', 'B-CORONAVIRUS'),\n",
       "  ('increasing', 'Other'),\n",
       "  ('the', 'Other'),\n",
       "  ('ability', 'Other'),\n",
       "  ('of', 'Other'),\n",
       "  ('sars-cov-2', 'B-CORONAVIRUS'),\n",
       "  ('to', 'Other'),\n",
       "  ('transmit', 'Other'),\n",
       "  ('from', 'Other'),\n",
       "  ('person', 'Other'),\n",
       "  ('to', 'Other'),\n",
       "  ('person', 'Other'),\n",
       "  ('[4]', 'Other'),\n",
       "  ('.', 'Other'),\n",
       "  ('thus,', 'Other'),\n",
       "  ('the', 'Other'),\n",
       "  ('sars-cov-2', 'B-CORONAVIRUS'),\n",
       "  ('spike', 'B-CHEMICAL'),\n",
       "  ('protein', 'I-CHEMICAL'),\n",
       "  ('was', 'Other'),\n",
       "  ('predicted', 'Other'),\n",
       "  ('to', 'Other'),\n",
       "  ('also', 'Other'),\n",
       "  ('have', 'Other'),\n",
       "  ('a', 'Other'),\n",
       "  ('strong', 'Other'),\n",
       "  ('binding', 'B-DISEASE_OR_SYNDROME'),\n",
       "  ('affinity', 'I-DISEASE_OR_SYNDROME'),\n",
       "  ('to', 'Other'),\n",
       "  ('human', 'B-ORGANISM'),\n",
       "  ('ace2', 'I-ORGANISM'),\n",
       "  ('this', 'Other'),\n",
       "  ('similarity', 'Other'),\n",
       "  ('with', 'Other'),\n",
       "  ('sars', 'B-CORONAVIRUS'),\n",
       "  ('cov', 'B-CORONAVIRUS'),\n",
       "  ('is', 'Other'),\n",
       "  ('critical', 'Other'),\n",
       "  ('because', 'Other'),\n",
       "  ('ace2', 'B-GENE_OR_GENOME'),\n",
       "  ('is', 'Other'),\n",
       "  ('a', 'Other'),\n",
       "  ('functional', 'Other'),\n",
       "  ('sars', 'B-CORONAVIRUS'),\n",
       "  ('cov', 'B-CORONAVIRUS'),\n",
       "  ('receptor', 'B-CHEMICAL'),\n",
       "  ('in', 'Other'),\n",
       "  ('vitro', 'Other'),\n",
       "  ('[9]', 'Other'),\n",
       "  ('and', 'Other'),\n",
       "  ('in', 'Other'),\n",
       "  ('vivo', 'Other'),\n",
       "  ('[10]', 'Other'),\n",
       "  ('.', 'Other'),\n",
       "  ('it', 'Other'),\n",
       "  ('is', 'Other'),\n",
       "  ('required', 'Other'),\n",
       "  ('for', 'Other'),\n",
       "  ('host', 'B-CHEMICAL'),\n",
       "  ('cell', 'I-CHEMICAL'),\n",
       "  ('entry', 'Other'),\n",
       "  ('and', 'Other'),\n",
       "  ('subsequent', 'Other'),\n",
       "  ('viral', 'Other'),\n",
       "  ('replication.', 'Other'),\n",
       "  ('overexpression', 'B-MOLECULAR_FUNCTION'),\n",
       "  ('of', 'Other'),\n",
       "  ('human', 'B-ORGANISM'),\n",
       "  ('ace2', 'I-ORGANISM'),\n",
       "  ('enhanced', 'Other'),\n",
       "  ('disease', 'Other'),\n",
       "  ('severity', 'Other'),\n",
       "  ('in', 'Other'),\n",
       "  ('a', 'Other'),\n",
       "  ('mouse', 'B-EXPERIMENTAL_MODEL_OF_DISEASE'),\n",
       "  ('model', 'I-EXPERIMENTAL_MODEL_OF_DISEASE'),\n",
       "  ('of', 'Other'),\n",
       "  ('sars', 'B-CORONAVIRUS'),\n",
       "  ('cov', 'B-CORONAVIRUS'),\n",
       "  ('infection,', 'Other'),\n",
       "  ('demonstrating', 'Other'),\n",
       "  ('that', 'Other'),\n",
       "  ('viral', 'Other'),\n",
       "  ('entry', 'Other'),\n",
       "  ('into', 'Other'),\n",
       "  ('cells', 'B-CELL'),\n",
       "  ('is', 'Other'),\n",
       "  ('a', 'Other'),\n",
       "  ('critical', 'Other'),\n",
       "  ('step', 'Other'),\n",
       "  ('[11]', 'Other'),\n",
       "  (';', 'Other'),\n",
       "  ('injecting', 'Other'),\n",
       "  ('sars', 'B-CORONAVIRUS'),\n",
       "  ('cov', 'B-CORONAVIRUS'),\n",
       "  ('spike', 'Other'),\n",
       "  ('into', 'Other'),\n",
       "  ('mice', 'B-ORGANISM'),\n",
       "  ('worsened', 'Other'),\n",
       "  ('lung', 'B-DISEASE_OR_SYNDROME'),\n",
       "  ('injury', 'I-DISEASE_OR_SYNDROME'),\n",
       "  ('critically,', 'Other'),\n",
       "  ('this', 'Other'),\n",
       "  ('injury', 'Other'),\n",
       "  ('was', 'Other'),\n",
       "  ('attenuated', 'Other'),\n",
       "  ('by', 'Other'),\n",
       "  ('blocking', 'Other'),\n",
       "  ('the', 'Other'),\n",
       "  ('renin', 'Other'),\n",
       "  ('angiotensin', 'B-CHEMICAL'),\n",
       "  ('pathway', 'Other'),\n",
       "  ('and', 'Other'),\n",
       "  ('depended', 'Other'),\n",
       "  ('on', 'Other'),\n",
       "  ('ace2', 'Other'),\n",
       "  ('expression', 'Other'),\n",
       "  ('[12]', 'Other'),\n",
       "  ('.', 'Other'),\n",
       "  ('thus,', 'Other'),\n",
       "  ('for', 'Other'),\n",
       "  ('sars', 'B-CORONAVIRUS'),\n",
       "  ('cov', 'B-CORONAVIRUS'),\n",
       "  ('pathogenesis,', 'Other'),\n",
       "  ('ace2', 'B-GENE_OR_GENOME'),\n",
       "  ('is', 'Other'),\n",
       "  ('not', 'Other'),\n",
       "  ('only', 'Other'),\n",
       "  ('the', 'Other'),\n",
       "  ('entry', 'B-PERSON'),\n",
       "  ('receptor', 'I-PERSON'),\n",
       "  ('of', 'Other'),\n",
       "  ('the', 'Other'),\n",
       "  ('virus', 'Other'),\n",
       "  ('but', 'Other'),\n",
       "  ('also', 'Other'),\n",
       "  ('protects', 'Other'),\n",
       "  ('from', 'Other'),\n",
       "  ('lung', 'B-DISEASE_OR_SYNDROME'),\n",
       "  ('injury', 'I-DISEASE_OR_SYNDROME'),\n",
       "  ('we', 'Other'),\n",
       "  ('therefore', 'Other'),\n",
       "  ('previously', 'Other'),\n",
       "  ('suggested', 'Other'),\n",
       "  ('that', 'Other'),\n",
       "  ('in', 'Other'),\n",
       "  ('contrast', 'Other'),\n",
       "  ('to', 'Other'),\n",
       "  ('most', 'Other'),\n",
       "  ('other', 'Other'),\n",
       "  ('coronaviruses', 'B-CORONAVIRUS'),\n",
       "  ('sars', 'B-CORONAVIRUS'),\n",
       "  ('cov', 'B-CORONAVIRUS'),\n",
       "  ('became', 'Other'),\n",
       "  ('highly', 'B-GENE_OR_GENOME'),\n",
       "  ('lethal', 'I-GENE_OR_GENOME'),\n",
       "  ('because', 'Other'),\n",
       "  ('the', 'Other'),\n",
       "  ('virus', 'Other'),\n",
       "  ('deregulates', 'Other'),\n",
       "  ('a', 'Other'),\n",
       "  ('lung', 'B-BODY_PART_ORGAN_OR_ORGAN_COMPONENT'),\n",
       "  ('protective', 'Other'),\n",
       "  ('pathway', 'Other'),\n",
       "  ('[10,', 'Other'),\n",
       "  ('12]', 'Other'),\n",
       "  ('.', 'Other'),\n",
       "  ('zhou', 'B-PERSON'),\n",
       "  ('et', 'I-PERSON'),\n",
       "  ('al', 'I-PERSON'),\n",
       "  ('[13]', 'Other'),\n",
       "  ('demonstrated', 'Other'),\n",
       "  ('that', 'Other'),\n",
       "  ('overexpressing', 'Other'),\n",
       "  ('ace2', 'B-GENE_OR_GENOME'),\n",
       "  ('from', 'Other'),\n",
       "  ('different', 'Other'),\n",
       "  ('species', 'Other'),\n",
       "  ('in', 'Other'),\n",
       "  ('hela', 'B-GENE_OR_GENOME'),\n",
       "  ('cells', 'I-GENE_OR_GENOME'),\n",
       "  ('with', 'Other'),\n",
       "  ('human', 'B-ORGANISM'),\n",
       "  ('ace2', 'I-ORGANISM'),\n",
       "  ('pig', 'B-LIVESTOCK'),\n",
       "  ('ace2,', 'Other'),\n",
       "  ('civet', 'B-EUKARYOTE'),\n",
       "  ('ace2', 'Other'),\n",
       "  ('(but', 'Other'),\n",
       "  ('not', 'Other'),\n",
       "  ('mouse', 'B-ORGANISM'),\n",
       "  ('ace2', 'I-ORGANISM'),\n",
       "  ('allowed', 'Other'),\n",
       "  ('sars-cov-2', 'B-CORONAVIRUS'),\n",
       "  ('infection', 'Other'),\n",
       "  ('and', 'Other'),\n",
       "  ('replication,', 'Other'),\n",
       "  ('thereby', 'Other'),\n",
       "  ('directly', 'Other'),\n",
       "  ('showing', 'Other'),\n",
       "  ('that', 'Other'),\n",
       "  ('sars-cov-2', 'B-CORONAVIRUS'),\n",
       "  ('uses', 'Other'),\n",
       "  ('ace2', 'B-GENE_OR_GENOME'),\n",
       "  ('as', 'Other'),\n",
       "  ('a', 'Other'),\n",
       "  ('cellular', 'B-GENE_OR_GENOME'),\n",
       "  ('entry', 'I-GENE_OR_GENOME'),\n",
       "  ('receptor', 'I-GENE_OR_GENOME'),\n",
       "  ('they', 'Other'),\n",
       "  ('further', 'Other'),\n",
       "  ('demonstrated', 'Other'),\n",
       "  ('that', 'Other'),\n",
       "  ('sars-cov-2', 'B-CORONAVIRUS'),\n",
       "  ('does', 'Other'),\n",
       "  ('not', 'Other'),\n",
       "  ('use', 'Other'),\n",
       "  ('other', 'Other'),\n",
       "  ('coronavirus', 'B-CORONAVIRUS'),\n",
       "  ('receptors', 'B-CHEMICAL'),\n",
       "  ('such', 'Other'),\n",
       "  ('as', 'Other'),\n",
       "  ('aminopeptidase', 'B-CHEMICAL'),\n",
       "  ('n', 'Other'),\n",
       "  ('and', 'Other'),\n",
       "  ('dipeptidyl', 'B-CHEMICAL'),\n",
       "  ('peptidase', 'I-CHEMICAL'),\n",
       "  ('4', 'I-CHEMICAL'),\n",
       "  ('[13]', 'Other'),\n",
       "  ('.', 'Other'),\n",
       "  ('in', 'Other'),\n",
       "  ('summary', 'B-ORG'),\n",
       "  ('the', 'Other'),\n",
       "  ('sars-cov-2', 'B-CORONAVIRUS'),\n",
       "  ('spike', 'B-CHEMICAL'),\n",
       "  ('protein', 'I-CHEMICAL'),\n",
       "  ('directly', 'Other'),\n",
       "  ('binds', 'B-MOLECULAR_FUNCTION'),\n",
       "  ('with', 'Other'),\n",
       "  ('the', 'Other'),\n",
       "  ('host', 'B-GENE_OR_GENOME'),\n",
       "  ('cell', 'I-GENE_OR_GENOME'),\n",
       "  ('surface', 'I-GENE_OR_GENOME'),\n",
       "  ('ace2', 'I-GENE_OR_GENOME'),\n",
       "  ('receptor', 'I-GENE_OR_GENOME'),\n",
       "  ('facilitating', 'Other'),\n",
       "  ('virus', 'Other'),\n",
       "  ('entry', 'Other'),\n",
       "  ('and', 'Other'),\n",
       "  ('replication.', 'Other'),\n",
       "  ('a', 'Other'),\n",
       "  ('key', 'Other'),\n",
       "  ('question', 'Other'),\n",
       "  ('is', 'Other'),\n",
       "  ('why', 'Other'),\n",
       "  ('the', 'Other'),\n",
       "  ('lung', 'B-BODY_PART_ORGAN_OR_ORGAN_COMPONENT'),\n",
       "  ('appears', 'Other'),\n",
       "  ('to', 'Other'),\n",
       "  ('be', 'Other'),\n",
       "  ('the', 'Other'),\n",
       "  ('most', 'Other'),\n",
       "  ('vulnerable', 'Other'),\n",
       "  ('target', 'Other'),\n",
       "  ('organ', 'B-BODY_PART_ORGAN_OR_ORGAN_COMPONENT'),\n",
       "  ('one', 'B-CARDINAL'),\n",
       "  ('reason', 'Other'),\n",
       "  ('is', 'Other'),\n",
       "  ('that', 'Other'),\n",
       "  ('the', 'Other'),\n",
       "  ('vast', 'Other'),\n",
       "  ('surface', 'Other'),\n",
       "  ('area', 'Other'),\n",
       "  ('of', 'Other'),\n",
       "  ('the', 'Other'),\n",
       "  ('lung', 'B-BODY_PART_ORGAN_OR_ORGAN_COMPONENT'),\n",
       "  ('makes', 'Other'),\n",
       "  ('the', 'Other'),\n",
       "  ('lung', 'B-DISEASE_OR_SYNDROME'),\n",
       "  ('highly', 'I-DISEASE_OR_SYNDROME'),\n",
       "  ('susceptible', 'I-DISEASE_OR_SYNDROME'),\n",
       "  ('to', 'Other'),\n",
       "  ('inhaled', 'B-CHEMICAL'),\n",
       "  ('viruses', 'I-CHEMICAL'),\n",
       "  ('but', 'Other'),\n",
       "  ('there', 'Other'),\n",
       "  ('is', 'Other'),\n",
       "  ('also', 'Other'),\n",
       "  ('a', 'Other'),\n",
       "  ('biological', 'Other'),\n",
       "  ('factor.', 'Other'),\n",
       "  ('using', 'Other'),\n",
       "  ('normal', 'Other'),\n",
       "  ('lung', 'B-TISSUE'),\n",
       "  ('tissue', 'I-TISSUE'),\n",
       "  ('from', 'Other'),\n",
       "  ('eight', 'B-CARDINAL'),\n",
       "  ('adult', 'Other'),\n",
       "  ('donors', 'B-GROUP'),\n",
       "  ('zhao', 'B-DISEASE_OR_SYNDROME'),\n",
       "  ('et', 'Other'),\n",
       "  ('al.', 'Other'),\n",
       "  ('[14]', 'Other'),\n",
       "  ('demonstrated', 'Other'),\n",
       "  ('that', 'Other'),\n",
       "  ('83%', 'Other'),\n",
       "  ('of', 'Other'),\n",
       "  ('ace2-expressing', 'B-GENE_OR_GENOME'),\n",
       "  ('cells', 'I-GENE_OR_GENOME'),\n",
       "  ('were', 'Other'),\n",
       "  ('alveolar', 'B-CELL'),\n",
       "  ('epithelial', 'I-CELL'),\n",
       "  ('type', 'I-CELL')]]"
      ]
     },
     "execution_count": 5,
     "metadata": {},
     "output_type": "execute_result"
    }
   ],
   "source": [
    "class SentenceGetter(object):\n",
    "    def __init__(self, data):\n",
    "        self.n_sent = 1\n",
    "        self.data = data\n",
    "        self.empty = False\n",
    "        agg_func = lambda s: [(w, t) for w, t in zip(s['word'].values.tolist(), s['entity'].values.tolist())]\n",
    "        self.grouped = self.data.groupby('sentence').apply(agg_func)\n",
    "        self.sentences = [s for s in self.grouped]\n",
    "\n",
    "    def get_next(self):\n",
    "        try:\n",
    "            s = self.grouped[\"{}\".format(self.n_sent)]\n",
    "            self.n_sent += 1\n",
    "            return s\n",
    "        except:\n",
    "            return None\n",
    "\n",
    "# Init SentenceGetter object to preprocess and parse dataset into separate sentences\n",
    "# 'sentences' object is an array of arrays, which contains tuples of word-entity pairs\n",
    "getter = SentenceGetter(data)\n",
    "sentences = getter.sentences\n",
    "sentences[:1]"
   ]
  },
  {
   "cell_type": "code",
   "execution_count": 6,
   "id": "8d2bbd16",
   "metadata": {},
   "outputs": [],
   "source": [
    "word2idx = {w: i for i, w in enumerate(words)}\n",
    "tag2idx = {t: i for i, t in enumerate(tags)}\n",
    "\n",
    "max_len = data.groupby(['sentence'], sort=False).size().max()\n",
    "\n",
    "x = [[word2idx[w[0]] for w in s] for s in sentences]\n",
    "x = pad_sequences(maxlen=max_len, sequences=x, padding=\"post\", value=word2idx[\"ENDPAD\"])\n",
    "\n",
    "y = [[tag2idx[w[1]] for w in s] for s in sentences]\n",
    "y = pad_sequences(maxlen=max_len, sequences=y, padding=\"post\", value=tag2idx['Other'])\n",
    "\n",
    "x_train, x_test, y_train, y_test = train_test_split(x, y, test_size=0.2, random_state=1)"
   ]
  },
  {
   "cell_type": "code",
   "execution_count": 7,
   "id": "8f9f0c04",
   "metadata": {},
   "outputs": [
    {
     "data": {
      "text/plain": [
       "[[('angiotensin-converting', 'B-GENE_OR_GENOME'),\n",
       "  ('enzyme', 'I-GENE_OR_GENOME'),\n",
       "  ('2', 'I-GENE_OR_GENOME'),\n",
       "  ('ace2', 'B-GENE_OR_GENOME'),\n",
       "  ('as', 'Other'),\n",
       "  ('a', 'Other'),\n",
       "  ('sars-cov-2', 'B-CORONAVIRUS'),\n",
       "  ('receptor', 'B-CHEMICAL'),\n",
       "  ('molecular', 'Other'),\n",
       "  ('mechanisms', 'Other'),\n",
       "  ('and', 'Other'),\n",
       "  ('potential', 'Other'),\n",
       "  ('therapeutic', 'Other'),\n",
       "  ('target', 'Other'),\n",
       "  ('sars-cov-2', 'B-CORONAVIRUS'),\n",
       "  ('has', 'Other'),\n",
       "  ('been', 'Other'),\n",
       "  ('sequenced', 'Other'),\n",
       "  ('[3]', 'Other'),\n",
       "  ('.', 'Other'),\n",
       "  ('a', 'Other'),\n",
       "  ('phylogenetic', 'B-EVOLUTION'),\n",
       "  ('analysis', 'Other'),\n",
       "  ('[3,', 'Other'),\n",
       "  ('4]', 'Other'),\n",
       "  ('found', 'Other'),\n",
       "  ('a', 'Other'),\n",
       "  ('bat', 'B-WILDLIFE'),\n",
       "  ('origin', 'Other'),\n",
       "  ('for', 'Other'),\n",
       "  ('the', 'Other'),\n",
       "  ('sars-cov-2', 'B-CORONAVIRUS'),\n",
       "  ('there', 'Other'),\n",
       "  ('is', 'Other'),\n",
       "  ('a', 'Other'),\n",
       "  ('diversity', 'Other'),\n",
       "  ('of', 'Other'),\n",
       "  ('possible', 'Other'),\n",
       "  ('intermediate', 'B-NORP'),\n",
       "  ('hosts', 'I-NORP'),\n",
       "  ('for', 'Other'),\n",
       "  ('sars-cov-2', 'B-CORONAVIRUS'),\n",
       "  ('including', 'Other'),\n",
       "  ('pangolins', 'B-WILDLIFE'),\n",
       "  ('but', 'Other'),\n",
       "  ('not', 'Other'),\n",
       "  ('mice', 'B-ORGANISM'),\n",
       "  ('and', 'Other'),\n",
       "  ('rats', 'B-EUKARYOTE'),\n",
       "  ('[5]', 'Other'),\n",
       "  ('.', 'Other'),\n",
       "  ('there', 'Other'),\n",
       "  ('are', 'Other'),\n",
       "  ('many', 'Other'),\n",
       "  ('similarities', 'Other'),\n",
       "  ('of', 'Other'),\n",
       "  ('sars-cov-2', 'B-CORONAVIRUS'),\n",
       "  ('with', 'Other'),\n",
       "  ('the', 'Other'),\n",
       "  ('original', 'Other'),\n",
       "  ('sars', 'B-CORONAVIRUS'),\n",
       "  ('cov', 'B-CORONAVIRUS'),\n",
       "  ('using', 'Other'),\n",
       "  ('computer', 'Other'),\n",
       "  ('modeling,', 'Other'),\n",
       "  ('xu', 'B-PERSON'),\n",
       "  ('et', 'I-PERSON'),\n",
       "  ('al', 'I-PERSON'),\n",
       "  ('[6]', 'Other'),\n",
       "  ('found', 'Other'),\n",
       "  ('that', 'Other'),\n",
       "  ('the', 'Other'),\n",
       "  ('spike', 'B-GENE_OR_GENOME'),\n",
       "  ('proteins', 'I-GENE_OR_GENOME'),\n",
       "  ('of', 'Other'),\n",
       "  ('sars-cov-2', 'B-CORONAVIRUS'),\n",
       "  ('and', 'Other'),\n",
       "  ('sars', 'B-CORONAVIRUS'),\n",
       "  ('cov', 'B-CORONAVIRUS'),\n",
       "  ('have', 'Other'),\n",
       "  ('almost', 'Other'),\n",
       "  ('identical', 'Other'),\n",
       "  ('3-d', 'Other'),\n",
       "  ('structures', 'Other'),\n",
       "  ('in', 'Other'),\n",
       "  ('the', 'Other'),\n",
       "  ('receptor-binding', 'Other'),\n",
       "  ('domain', 'Other'),\n",
       "  ('that', 'Other'),\n",
       "  ('maintains', 'Other'),\n",
       "  ('van', 'B-PHYSICAL_SCIENCE'),\n",
       "  ('der', 'I-PHYSICAL_SCIENCE'),\n",
       "  ('waals', 'I-PHYSICAL_SCIENCE'),\n",
       "  ('forces', 'I-PHYSICAL_SCIENCE'),\n",
       "  ('sars-cov', 'B-CHEMICAL'),\n",
       "  ('spike', 'I-CHEMICAL'),\n",
       "  ('protein', 'I-CHEMICAL'),\n",
       "  ('has', 'Other'),\n",
       "  ('a', 'Other'),\n",
       "  ('strong', 'Other'),\n",
       "  ('binding', 'B-DISEASE_OR_SYNDROME'),\n",
       "  ('affinity', 'I-DISEASE_OR_SYNDROME'),\n",
       "  ('to', 'Other'),\n",
       "  ('human', 'B-ORGANISM'),\n",
       "  ('ace2', 'I-ORGANISM'),\n",
       "  ('based', 'Other'),\n",
       "  ('on', 'Other'),\n",
       "  ('biochemical', 'Other'),\n",
       "  ('interaction', 'Other'),\n",
       "  ('studies', 'Other'),\n",
       "  ('and', 'Other'),\n",
       "  ('crystal', 'B-GENE_OR_GENOME'),\n",
       "  ('structure', 'I-GENE_OR_GENOME'),\n",
       "  ('analysis', 'I-GENE_OR_GENOME'),\n",
       "  ('[7', 'I-GENE_OR_GENOME'),\n",
       "  ('.', 'Other'),\n",
       "  ('sars-cov-2', 'B-CORONAVIRUS'),\n",
       "  ('and', 'Other'),\n",
       "  ('sars', 'B-CORONAVIRUS'),\n",
       "  ('cov', 'B-CORONAVIRUS'),\n",
       "  ('spike', 'Other'),\n",
       "  ('proteins', 'Other'),\n",
       "  ('share', 'Other'),\n",
       "  ('76', 'B-DATE'),\n",
       "  ('5%', 'Other'),\n",
       "  ('identity', 'B-DISEASE_OR_SYNDROME'),\n",
       "  ('in', 'Other'),\n",
       "  ('amino', 'B-CHEMICAL'),\n",
       "  ('acid', 'I-CHEMICAL'),\n",
       "  ('sequences', 'Other'),\n",
       "  ('[6]', 'Other'),\n",
       "  ('and,', 'Other'),\n",
       "  ('importantly,', 'Other'),\n",
       "  ('the', 'Other'),\n",
       "  ('sars-cov-2', 'B-CORONAVIRUS'),\n",
       "  ('and', 'Other'),\n",
       "  ('sars', 'B-CORONAVIRUS'),\n",
       "  ('cov', 'B-CORONAVIRUS'),\n",
       "  ('spike', 'Other'),\n",
       "  ('proteins', 'Other'),\n",
       "  ('have', 'Other'),\n",
       "  ('a', 'Other'),\n",
       "  ('high', 'Other'),\n",
       "  ('degree', 'Other'),\n",
       "  ('of', 'Other'),\n",
       "  ('homology', 'Other'),\n",
       "  ('[6,', 'Other'),\n",
       "  ('7]', 'Other'),\n",
       "  ('.', 'Other'),\n",
       "  ('wan', 'B-PERSON'),\n",
       "  ('et', 'I-PERSON'),\n",
       "  ('al', 'I-PERSON'),\n",
       "  ('[4]', 'Other'),\n",
       "  ('reported', 'Other'),\n",
       "  ('that', 'Other'),\n",
       "  ('residue', 'Other'),\n",
       "  ('394', 'B-CARDINAL'),\n",
       "  ('glutamine', 'B-CHEMICAL'),\n",
       "  ('in', 'Other'),\n",
       "  ('the', 'Other'),\n",
       "  ('sars-cov-2', 'B-CORONAVIRUS'),\n",
       "  ('receptor-binding', 'Other'),\n",
       "  ('domain', 'Other'),\n",
       "  ('(rbd),', 'Other'),\n",
       "  ('corresponding', 'Other'),\n",
       "  ('to', 'Other'),\n",
       "  ('residue', 'Other'),\n",
       "  ('479', 'B-CARDINAL'),\n",
       "  ('in', 'Other'),\n",
       "  ('sars', 'B-CORONAVIRUS'),\n",
       "  ('cov', 'B-CORONAVIRUS'),\n",
       "  ('can', 'Other'),\n",
       "  ('be', 'Other'),\n",
       "  ('recognized', 'Other'),\n",
       "  ('by', 'Other'),\n",
       "  ('the', 'Other'),\n",
       "  ('critical', 'Other'),\n",
       "  ('lysine', 'B-CHEMICAL'),\n",
       "  ('31', 'Other'),\n",
       "  ('on', 'Other'),\n",
       "  ('the', 'Other'),\n",
       "  ('human', 'B-GENE_OR_GENOME'),\n",
       "  ('ace2', 'I-GENE_OR_GENOME'),\n",
       "  ('receptor', 'I-GENE_OR_GENOME'),\n",
       "  ('[8', 'I-GENE_OR_GENOME'),\n",
       "  ('.', 'Other'),\n",
       "  ('further', 'Other'),\n",
       "  ('analysis', 'Other'),\n",
       "  ('even', 'Other'),\n",
       "  ('suggested', 'Other'),\n",
       "  ('that', 'Other'),\n",
       "  ('sars-cov-2', 'B-CORONAVIRUS'),\n",
       "  ('recognizes', 'Other'),\n",
       "  ('human', 'B-ORGANISM'),\n",
       "  ('ace2', 'I-ORGANISM'),\n",
       "  ('more', 'Other'),\n",
       "  ('efficiently', 'Other'),\n",
       "  ('than', 'Other'),\n",
       "  ('sars', 'B-CORONAVIRUS'),\n",
       "  ('cov', 'B-CORONAVIRUS'),\n",
       "  ('increasing', 'Other'),\n",
       "  ('the', 'Other'),\n",
       "  ('ability', 'Other'),\n",
       "  ('of', 'Other'),\n",
       "  ('sars-cov-2', 'B-CORONAVIRUS'),\n",
       "  ('to', 'Other'),\n",
       "  ('transmit', 'Other'),\n",
       "  ('from', 'Other'),\n",
       "  ('person', 'Other'),\n",
       "  ('to', 'Other'),\n",
       "  ('person', 'Other'),\n",
       "  ('[4]', 'Other'),\n",
       "  ('.', 'Other'),\n",
       "  ('thus,', 'Other'),\n",
       "  ('the', 'Other'),\n",
       "  ('sars-cov-2', 'B-CORONAVIRUS'),\n",
       "  ('spike', 'B-CHEMICAL'),\n",
       "  ('protein', 'I-CHEMICAL'),\n",
       "  ('was', 'Other'),\n",
       "  ('predicted', 'Other'),\n",
       "  ('to', 'Other'),\n",
       "  ('also', 'Other'),\n",
       "  ('have', 'Other'),\n",
       "  ('a', 'Other'),\n",
       "  ('strong', 'Other'),\n",
       "  ('binding', 'B-DISEASE_OR_SYNDROME'),\n",
       "  ('affinity', 'I-DISEASE_OR_SYNDROME'),\n",
       "  ('to', 'Other'),\n",
       "  ('human', 'B-ORGANISM'),\n",
       "  ('ace2', 'I-ORGANISM'),\n",
       "  ('this', 'Other'),\n",
       "  ('similarity', 'Other'),\n",
       "  ('with', 'Other'),\n",
       "  ('sars', 'B-CORONAVIRUS'),\n",
       "  ('cov', 'B-CORONAVIRUS'),\n",
       "  ('is', 'Other'),\n",
       "  ('critical', 'Other'),\n",
       "  ('because', 'Other'),\n",
       "  ('ace2', 'B-GENE_OR_GENOME'),\n",
       "  ('is', 'Other'),\n",
       "  ('a', 'Other'),\n",
       "  ('functional', 'Other'),\n",
       "  ('sars', 'B-CORONAVIRUS'),\n",
       "  ('cov', 'B-CORONAVIRUS'),\n",
       "  ('receptor', 'B-CHEMICAL'),\n",
       "  ('in', 'Other'),\n",
       "  ('vitro', 'Other'),\n",
       "  ('[9]', 'Other'),\n",
       "  ('and', 'Other'),\n",
       "  ('in', 'Other'),\n",
       "  ('vivo', 'Other'),\n",
       "  ('[10]', 'Other'),\n",
       "  ('.', 'Other'),\n",
       "  ('it', 'Other'),\n",
       "  ('is', 'Other'),\n",
       "  ('required', 'Other'),\n",
       "  ('for', 'Other'),\n",
       "  ('host', 'B-CHEMICAL'),\n",
       "  ('cell', 'I-CHEMICAL'),\n",
       "  ('entry', 'Other'),\n",
       "  ('and', 'Other'),\n",
       "  ('subsequent', 'Other'),\n",
       "  ('viral', 'Other'),\n",
       "  ('replication.', 'Other'),\n",
       "  ('overexpression', 'B-MOLECULAR_FUNCTION'),\n",
       "  ('of', 'Other'),\n",
       "  ('human', 'B-ORGANISM'),\n",
       "  ('ace2', 'I-ORGANISM'),\n",
       "  ('enhanced', 'Other'),\n",
       "  ('disease', 'Other'),\n",
       "  ('severity', 'Other'),\n",
       "  ('in', 'Other'),\n",
       "  ('a', 'Other'),\n",
       "  ('mouse', 'B-EXPERIMENTAL_MODEL_OF_DISEASE'),\n",
       "  ('model', 'I-EXPERIMENTAL_MODEL_OF_DISEASE'),\n",
       "  ('of', 'Other'),\n",
       "  ('sars', 'B-CORONAVIRUS'),\n",
       "  ('cov', 'B-CORONAVIRUS'),\n",
       "  ('infection,', 'Other'),\n",
       "  ('demonstrating', 'Other'),\n",
       "  ('that', 'Other'),\n",
       "  ('viral', 'Other'),\n",
       "  ('entry', 'Other'),\n",
       "  ('into', 'Other'),\n",
       "  ('cells', 'B-CELL'),\n",
       "  ('is', 'Other'),\n",
       "  ('a', 'Other'),\n",
       "  ('critical', 'Other'),\n",
       "  ('step', 'Other'),\n",
       "  ('[11]', 'Other'),\n",
       "  (';', 'Other'),\n",
       "  ('injecting', 'Other'),\n",
       "  ('sars', 'B-CORONAVIRUS'),\n",
       "  ('cov', 'B-CORONAVIRUS'),\n",
       "  ('spike', 'Other'),\n",
       "  ('into', 'Other'),\n",
       "  ('mice', 'B-ORGANISM'),\n",
       "  ('worsened', 'Other'),\n",
       "  ('lung', 'B-DISEASE_OR_SYNDROME'),\n",
       "  ('injury', 'I-DISEASE_OR_SYNDROME'),\n",
       "  ('critically,', 'Other'),\n",
       "  ('this', 'Other'),\n",
       "  ('injury', 'Other'),\n",
       "  ('was', 'Other'),\n",
       "  ('attenuated', 'Other'),\n",
       "  ('by', 'Other'),\n",
       "  ('blocking', 'Other'),\n",
       "  ('the', 'Other'),\n",
       "  ('renin', 'Other'),\n",
       "  ('angiotensin', 'B-CHEMICAL'),\n",
       "  ('pathway', 'Other'),\n",
       "  ('and', 'Other'),\n",
       "  ('depended', 'Other'),\n",
       "  ('on', 'Other'),\n",
       "  ('ace2', 'Other'),\n",
       "  ('expression', 'Other'),\n",
       "  ('[12]', 'Other'),\n",
       "  ('.', 'Other'),\n",
       "  ('thus,', 'Other'),\n",
       "  ('for', 'Other'),\n",
       "  ('sars', 'B-CORONAVIRUS'),\n",
       "  ('cov', 'B-CORONAVIRUS'),\n",
       "  ('pathogenesis,', 'Other'),\n",
       "  ('ace2', 'B-GENE_OR_GENOME'),\n",
       "  ('is', 'Other'),\n",
       "  ('not', 'Other'),\n",
       "  ('only', 'Other'),\n",
       "  ('the', 'Other'),\n",
       "  ('entry', 'B-PERSON'),\n",
       "  ('receptor', 'I-PERSON'),\n",
       "  ('of', 'Other'),\n",
       "  ('the', 'Other'),\n",
       "  ('virus', 'Other'),\n",
       "  ('but', 'Other'),\n",
       "  ('also', 'Other'),\n",
       "  ('protects', 'Other'),\n",
       "  ('from', 'Other'),\n",
       "  ('lung', 'B-DISEASE_OR_SYNDROME'),\n",
       "  ('injury', 'I-DISEASE_OR_SYNDROME'),\n",
       "  ('we', 'Other'),\n",
       "  ('therefore', 'Other'),\n",
       "  ('previously', 'Other'),\n",
       "  ('suggested', 'Other'),\n",
       "  ('that', 'Other'),\n",
       "  ('in', 'Other'),\n",
       "  ('contrast', 'Other'),\n",
       "  ('to', 'Other'),\n",
       "  ('most', 'Other'),\n",
       "  ('other', 'Other'),\n",
       "  ('coronaviruses', 'B-CORONAVIRUS'),\n",
       "  ('sars', 'B-CORONAVIRUS'),\n",
       "  ('cov', 'B-CORONAVIRUS'),\n",
       "  ('became', 'Other'),\n",
       "  ('highly', 'B-GENE_OR_GENOME'),\n",
       "  ('lethal', 'I-GENE_OR_GENOME'),\n",
       "  ('because', 'Other'),\n",
       "  ('the', 'Other'),\n",
       "  ('virus', 'Other'),\n",
       "  ('deregulates', 'Other'),\n",
       "  ('a', 'Other'),\n",
       "  ('lung', 'B-BODY_PART_ORGAN_OR_ORGAN_COMPONENT'),\n",
       "  ('protective', 'Other'),\n",
       "  ('pathway', 'Other'),\n",
       "  ('[10,', 'Other'),\n",
       "  ('12]', 'Other'),\n",
       "  ('.', 'Other'),\n",
       "  ('zhou', 'B-PERSON'),\n",
       "  ('et', 'I-PERSON'),\n",
       "  ('al', 'I-PERSON'),\n",
       "  ('[13]', 'Other'),\n",
       "  ('demonstrated', 'Other'),\n",
       "  ('that', 'Other'),\n",
       "  ('overexpressing', 'Other'),\n",
       "  ('ace2', 'B-GENE_OR_GENOME'),\n",
       "  ('from', 'Other'),\n",
       "  ('different', 'Other'),\n",
       "  ('species', 'Other'),\n",
       "  ('in', 'Other'),\n",
       "  ('hela', 'B-GENE_OR_GENOME'),\n",
       "  ('cells', 'I-GENE_OR_GENOME'),\n",
       "  ('with', 'Other'),\n",
       "  ('human', 'B-ORGANISM'),\n",
       "  ('ace2', 'I-ORGANISM'),\n",
       "  ('pig', 'B-LIVESTOCK'),\n",
       "  ('ace2,', 'Other'),\n",
       "  ('civet', 'B-EUKARYOTE'),\n",
       "  ('ace2', 'Other'),\n",
       "  ('(but', 'Other'),\n",
       "  ('not', 'Other'),\n",
       "  ('mouse', 'B-ORGANISM'),\n",
       "  ('ace2', 'I-ORGANISM'),\n",
       "  ('allowed', 'Other'),\n",
       "  ('sars-cov-2', 'B-CORONAVIRUS'),\n",
       "  ('infection', 'Other'),\n",
       "  ('and', 'Other'),\n",
       "  ('replication,', 'Other'),\n",
       "  ('thereby', 'Other'),\n",
       "  ('directly', 'Other'),\n",
       "  ('showing', 'Other'),\n",
       "  ('that', 'Other'),\n",
       "  ('sars-cov-2', 'B-CORONAVIRUS'),\n",
       "  ('uses', 'Other'),\n",
       "  ('ace2', 'B-GENE_OR_GENOME'),\n",
       "  ('as', 'Other'),\n",
       "  ('a', 'Other'),\n",
       "  ('cellular', 'B-GENE_OR_GENOME'),\n",
       "  ('entry', 'I-GENE_OR_GENOME'),\n",
       "  ('receptor', 'I-GENE_OR_GENOME'),\n",
       "  ('they', 'Other'),\n",
       "  ('further', 'Other'),\n",
       "  ('demonstrated', 'Other'),\n",
       "  ('that', 'Other'),\n",
       "  ('sars-cov-2', 'B-CORONAVIRUS'),\n",
       "  ('does', 'Other'),\n",
       "  ('not', 'Other'),\n",
       "  ('use', 'Other'),\n",
       "  ('other', 'Other'),\n",
       "  ('coronavirus', 'B-CORONAVIRUS'),\n",
       "  ('receptors', 'B-CHEMICAL'),\n",
       "  ('such', 'Other'),\n",
       "  ('as', 'Other'),\n",
       "  ('aminopeptidase', 'B-CHEMICAL'),\n",
       "  ('n', 'Other'),\n",
       "  ('and', 'Other'),\n",
       "  ('dipeptidyl', 'B-CHEMICAL'),\n",
       "  ('peptidase', 'I-CHEMICAL'),\n",
       "  ('4', 'I-CHEMICAL'),\n",
       "  ('[13]', 'Other'),\n",
       "  ('.', 'Other'),\n",
       "  ('in', 'Other'),\n",
       "  ('summary', 'B-ORG'),\n",
       "  ('the', 'Other'),\n",
       "  ('sars-cov-2', 'B-CORONAVIRUS'),\n",
       "  ('spike', 'B-CHEMICAL'),\n",
       "  ('protein', 'I-CHEMICAL'),\n",
       "  ('directly', 'Other'),\n",
       "  ('binds', 'B-MOLECULAR_FUNCTION'),\n",
       "  ('with', 'Other'),\n",
       "  ('the', 'Other'),\n",
       "  ('host', 'B-GENE_OR_GENOME'),\n",
       "  ('cell', 'I-GENE_OR_GENOME'),\n",
       "  ('surface', 'I-GENE_OR_GENOME'),\n",
       "  ('ace2', 'I-GENE_OR_GENOME'),\n",
       "  ('receptor', 'I-GENE_OR_GENOME'),\n",
       "  ('facilitating', 'Other'),\n",
       "  ('virus', 'Other'),\n",
       "  ('entry', 'Other'),\n",
       "  ('and', 'Other'),\n",
       "  ('replication.', 'Other'),\n",
       "  ('a', 'Other'),\n",
       "  ('key', 'Other'),\n",
       "  ('question', 'Other'),\n",
       "  ('is', 'Other'),\n",
       "  ('why', 'Other'),\n",
       "  ('the', 'Other'),\n",
       "  ('lung', 'B-BODY_PART_ORGAN_OR_ORGAN_COMPONENT'),\n",
       "  ('appears', 'Other'),\n",
       "  ('to', 'Other'),\n",
       "  ('be', 'Other'),\n",
       "  ('the', 'Other'),\n",
       "  ('most', 'Other'),\n",
       "  ('vulnerable', 'Other'),\n",
       "  ('target', 'Other'),\n",
       "  ('organ', 'B-BODY_PART_ORGAN_OR_ORGAN_COMPONENT'),\n",
       "  ('one', 'B-CARDINAL'),\n",
       "  ('reason', 'Other'),\n",
       "  ('is', 'Other'),\n",
       "  ('that', 'Other'),\n",
       "  ('the', 'Other'),\n",
       "  ('vast', 'Other'),\n",
       "  ('surface', 'Other'),\n",
       "  ('area', 'Other'),\n",
       "  ('of', 'Other'),\n",
       "  ('the', 'Other'),\n",
       "  ('lung', 'B-BODY_PART_ORGAN_OR_ORGAN_COMPONENT'),\n",
       "  ('makes', 'Other'),\n",
       "  ('the', 'Other'),\n",
       "  ('lung', 'B-DISEASE_OR_SYNDROME'),\n",
       "  ('highly', 'I-DISEASE_OR_SYNDROME'),\n",
       "  ('susceptible', 'I-DISEASE_OR_SYNDROME'),\n",
       "  ('to', 'Other'),\n",
       "  ('inhaled', 'B-CHEMICAL'),\n",
       "  ('viruses', 'I-CHEMICAL'),\n",
       "  ('but', 'Other'),\n",
       "  ('there', 'Other'),\n",
       "  ('is', 'Other'),\n",
       "  ('also', 'Other'),\n",
       "  ('a', 'Other'),\n",
       "  ('biological', 'Other'),\n",
       "  ('factor.', 'Other'),\n",
       "  ('using', 'Other'),\n",
       "  ('normal', 'Other'),\n",
       "  ('lung', 'B-TISSUE'),\n",
       "  ('tissue', 'I-TISSUE'),\n",
       "  ('from', 'Other'),\n",
       "  ('eight', 'B-CARDINAL'),\n",
       "  ('adult', 'Other'),\n",
       "  ('donors', 'B-GROUP'),\n",
       "  ('zhao', 'B-DISEASE_OR_SYNDROME'),\n",
       "  ('et', 'Other'),\n",
       "  ('al.', 'Other'),\n",
       "  ('[14]', 'Other'),\n",
       "  ('demonstrated', 'Other'),\n",
       "  ('that', 'Other'),\n",
       "  ('83%', 'Other'),\n",
       "  ('of', 'Other'),\n",
       "  ('ace2-expressing', 'B-GENE_OR_GENOME'),\n",
       "  ('cells', 'I-GENE_OR_GENOME'),\n",
       "  ('were', 'Other'),\n",
       "  ('alveolar', 'B-CELL'),\n",
       "  ('epithelial', 'I-CELL'),\n",
       "  ('type', 'I-CELL')],\n",
       " [('ii', 'I-CELL'),\n",
       "  ('cells', 'I-CELL'),\n",
       "  ('aecii', 'B-DISEASE_OR_SYNDROME'),\n",
       "  (',', 'Other'),\n",
       "  ('suggesting', 'Other'),\n",
       "  ('that', 'Other'),\n",
       "  ('these', 'Other'),\n",
       "  ('cells', 'B-CELL'),\n",
       "  ('can', 'Other'),\n",
       "  ('serve', 'Other'),\n",
       "  ('as', 'Other'),\n",
       "  ('a', 'Other'),\n",
       "  ('reservoir', 'Other'),\n",
       "  ('for', 'Other'),\n",
       "  ('viral', 'Other'),\n",
       "  ('invasion.', 'Other'),\n",
       "  ('in', 'Other'),\n",
       "  ('addition,', 'Other'),\n",
       "  ('gene', 'Other'),\n",
       "  ('ontology', 'Other'),\n",
       "  ('enrichment', 'Other'),\n",
       "  ('analysis', 'Other'),\n",
       "  ('showed', 'Other'),\n",
       "  ('that', 'Other'),\n",
       "  ('the', 'Other'),\n",
       "  ('ace2', 'B-GENE_OR_GENOME'),\n",
       "  ('expressing', 'Other'),\n",
       "  ('aecii', 'B-DISEASE_OR_SYNDROME'),\n",
       "  ('have', 'Other'),\n",
       "  ('high', 'Other'),\n",
       "  ('levels', 'Other'),\n",
       "  ('of', 'Other'),\n",
       "  ('multiple', 'Other'),\n",
       "  ('viral', 'Other'),\n",
       "  ('process', 'Other'),\n",
       "  ('related', 'B-CHEMICAL'),\n",
       "  ('genes', 'I-CHEMICAL'),\n",
       "  ('including', 'Other'),\n",
       "  ('regulatory', 'Other'),\n",
       "  ('genes', 'Other'),\n",
       "  ('for', 'Other'),\n",
       "  ('viral', 'Other'),\n",
       "  ('processes,', 'Other'),\n",
       "  ('viral', 'Other'),\n",
       "  ('life', 'Other'),\n",
       "  ('cycle,', 'Other'),\n",
       "  ('viral', 'Other'),\n",
       "  ('assembly,', 'Other'),\n",
       "  ('and', 'Other'),\n",
       "  ('viral', 'B-CELL_COMPONENT'),\n",
       "  ('genome', 'I-CELL_COMPONENT'),\n",
       "  ('replication', 'Other'),\n",
       "  ('[14]', 'Other'),\n",
       "  (',', 'Other'),\n",
       "  ('suggesting', 'Other'),\n",
       "  ('that', 'Other'),\n",
       "  ('the', 'Other'),\n",
       "  ('ace2', 'B-GENE_OR_GENOME'),\n",
       "  ('expressing', 'Other'),\n",
       "  ('aecii', 'B-DISEASE_OR_SYNDROME'),\n",
       "  ('facilitate', 'Other'),\n",
       "  ('coronaviral', 'B-DISEASE_OR_SYNDROME'),\n",
       "  ('replication', 'I-DISEASE_OR_SYNDROME'),\n",
       "  ('in', 'Other'),\n",
       "  ('the', 'Other'),\n",
       "  ('lung', 'B-BODY_PART_ORGAN_OR_ORGAN_COMPONENT'),\n",
       "  ('expression', 'Other'),\n",
       "  ('of', 'Other'),\n",
       "  ('the', 'Other'),\n",
       "  ('ace2', 'B-GENE_OR_GENOME'),\n",
       "  ('receptor', 'I-GENE_OR_GENOME'),\n",
       "  ('is', 'Other'),\n",
       "  ('also', 'Other'),\n",
       "  ('found', 'Other'),\n",
       "  ('in', 'Other'),\n",
       "  ('many', 'Other'),\n",
       "  ('extrapulmonary', 'B-CHEMICAL'),\n",
       "  ('tissues', 'I-CHEMICAL'),\n",
       "  ('including', 'Other'),\n",
       "  ('heart', 'B-BODY_PART_ORGAN_OR_ORGAN_COMPONENT'),\n",
       "  ('kidney', 'B-BODY_PART_ORGAN_OR_ORGAN_COMPONENT'),\n",
       "  ('endothelium', 'B-TISSUE'),\n",
       "  ('and', 'Other'),\n",
       "  ('intestine', 'B-BODY_PART_ORGAN_OR_ORGAN_COMPONENT'),\n",
       "  ('[15]', 'Other'),\n",
       "  ('[16]', 'Other'),\n",
       "  ('[17]', 'Other'),\n",
       "  ('[18]', 'Other'),\n",
       "  ('[19]', 'Other'),\n",
       "  ('.', 'Other'),\n",
       "  ('importantly,', 'Other'),\n",
       "  ('ace2', 'B-GENE_OR_GENOME'),\n",
       "  ('is', 'Other'),\n",
       "  ('highly', 'B-GENE_OR_GENOME'),\n",
       "  ('expressed', 'I-GENE_OR_GENOME'),\n",
       "  ('on', 'Other'),\n",
       "  ('the', 'Other'),\n",
       "  ('luminal', 'B-CHEMICAL'),\n",
       "  ('surface', 'Other'),\n",
       "  ('of', 'Other'),\n",
       "  ('intestinal', 'B-GENE_OR_GENOME'),\n",
       "  ('epithelial', 'I-GENE_OR_GENOME'),\n",
       "  ('cells', 'I-GENE_OR_GENOME'),\n",
       "  ('functioning', 'Other'),\n",
       "  ('as', 'Other'),\n",
       "  ('a', 'Other'),\n",
       "  ('co', 'Other'),\n",
       "  ('receptor', 'B-CHEMICAL'),\n",
       "  ('for', 'Other'),\n",
       "  ('nutrient', 'B-FOOD'),\n",
       "  ('uptake', 'B-CELL_FUNCTION'),\n",
       "  ('in', 'Other'),\n",
       "  ('particular', 'Other'),\n",
       "  ('for', 'Other'),\n",
       "  ('amino', 'B-CHEMICAL'),\n",
       "  ('acid', 'I-CHEMICAL'),\n",
       "  ('resorption', 'Other'),\n",
       "  ('from', 'Other'),\n",
       "  ('food', 'Other'),\n",
       "  ('[20]', 'Other'),\n",
       "  ('.', 'Other'),\n",
       "  ('we', 'Other'),\n",
       "  ('therefore', 'Other'),\n",
       "  ('predict', 'Other'),\n",
       "  ('that', 'Other'),\n",
       "  ('the', 'Other'),\n",
       "  ('intestine', 'B-BODY_PART_ORGAN_OR_ORGAN_COMPONENT'),\n",
       "  ('might', 'Other'),\n",
       "  ('also', 'Other'),\n",
       "  ('be', 'Other'),\n",
       "  ('a', 'Other'),\n",
       "  ('major', 'Other'),\n",
       "  ('entry', 'Other'),\n",
       "  ('site', 'Other'),\n",
       "  ('for', 'Other'),\n",
       "  ('sars-cov-2', 'B-CORONAVIRUS'),\n",
       "  ('and', 'Other'),\n",
       "  ('that', 'Other'),\n",
       "  ('the', 'Other'),\n",
       "  ('infection', 'B-DISEASE_OR_SYNDROME'),\n",
       "  ('might', 'Other'),\n",
       "  ('have', 'Other'),\n",
       "  ('been', 'Other'),\n",
       "  ('initiated', 'Other'),\n",
       "  ('by', 'Other'),\n",
       "  ('eating', 'Other'),\n",
       "  ('food', 'Other'),\n",
       "  ('from', 'Other'),\n",
       "  ('the', 'Other'),\n",
       "  ('wuhan', 'Other'),\n",
       "  ('market,', 'Other'),\n",
       "  ('the', 'Other'),\n",
       "  ('putative', 'Other'),\n",
       "  ('site', 'Other'),\n",
       "  ('of', 'Other'),\n",
       "  ('the', 'Other'),\n",
       "  ('outbreak.', 'Other'),\n",
       "  ('whether', 'Other'),\n",
       "  ('sars-cov-2', 'B-CORONAVIRUS'),\n",
       "  ('can', 'Other'),\n",
       "  ('indeed', 'Other'),\n",
       "  ('infect', 'Other'),\n",
       "  ('the', 'Other'),\n",
       "  ('human', 'B-ORGANISM'),\n",
       "  ('gut', 'B-CHEMICAL'),\n",
       "  ('epithelium', 'I-CHEMICAL'),\n",
       "  ('has', 'Other'),\n",
       "  ('important', 'Other'),\n",
       "  ('implications', 'Other'),\n",
       "  ('for', 'Other'),\n",
       "  ('fecal-oral', 'B-DISEASE_OR_SYNDROME'),\n",
       "  ('transmission', 'I-DISEASE_OR_SYNDROME'),\n",
       "  ('and', 'Other'),\n",
       "  ('containment', 'Other'),\n",
       "  ('of', 'Other'),\n",
       "  ('viral', 'Other'),\n",
       "  ('spread.', 'Other'),\n",
       "  ('ace2', 'B-GENE_OR_GENOME'),\n",
       "  ('tissue', 'Other'),\n",
       "  ('distribution', 'Other'),\n",
       "  ('in', 'Other'),\n",
       "  ('other', 'Other'),\n",
       "  ('organs', 'B-BODY_PART_ORGAN_OR_ORGAN_COMPONENT'),\n",
       "  ('could', 'Other'),\n",
       "  ('explain', 'Other'),\n",
       "  ('the', 'Other'),\n",
       "  ('multi-organ', 'Other'),\n",
       "  ('dysfunction', 'Other'),\n",
       "  ('observed', 'Other'),\n",
       "  ('in', 'Other'),\n",
       "  ('patients', 'B-GROUP'),\n",
       "  ('21]', 'B-DATE'),\n",
       "  ('[22]', 'I-DATE'),\n",
       "  ('[23', 'I-DATE'),\n",
       "  ('.', 'Other'),\n",
       "  ('of', 'Other'),\n",
       "  ('note,', 'Other'),\n",
       "  ('however,', 'Other'),\n",
       "  ('according', 'Other'),\n",
       "  ('to', 'Other'),\n",
       "  ('the', 'Other'),\n",
       "  ('centers', 'B-CHEMICAL'),\n",
       "  ('for', 'I-CHEMICAL'),\n",
       "  ('disease', 'I-CHEMICAL'),\n",
       "  ('control', 'I-CHEMICAL'),\n",
       "  ('and', 'Other'),\n",
       "  ('prevention', 'Other'),\n",
       "  ('[24],', 'Other'),\n",
       "  ('whether', 'Other'),\n",
       "  ('a', 'Other'),\n",
       "  ('person', 'Other'),\n",
       "  ('can', 'Other'),\n",
       "  ('get', 'Other'),\n",
       "  ('covid-19', 'B-CORONAVIRUS'),\n",
       "  ('by', 'Other'),\n",
       "  ('touching', 'Other'),\n",
       "  ('surfaces', 'Other'),\n",
       "  ('or', 'Other'),\n",
       "  ('objects', 'Other'),\n",
       "  ('that', 'Other'),\n",
       "  ('have', 'Other'),\n",
       "  ('virus', 'Other'),\n",
       "  ('on', 'Other'),\n",
       "  ('them', 'Other'),\n",
       "  ('and', 'Other'),\n",
       "  ('then', 'Other'),\n",
       "  ('touching', 'Other'),\n",
       "  ('mucus', 'B-CELL_COMPONENT'),\n",
       "  ('membranes', 'I-CELL_COMPONENT'),\n",
       "  ('is', 'Other'),\n",
       "  ('yet', 'Other'),\n",
       "  ('to', 'Other'),\n",
       "  ('be', 'Other'),\n",
       "  ('confirmed.', 'Other'),\n",
       "  ('there', 'Other'),\n",
       "  ('are', 'Other'),\n",
       "  ('several', 'Other'),\n",
       "  ('potential', 'Other'),\n",
       "  ('therapeutic', 'Other'),\n",
       "  ('approaches', 'Other'),\n",
       "  ('fig', 'B-DISEASE_OR_SYNDROME'),\n",
       "  ('1)', 'Other'),\n",
       "  ('.', 'Other'),\n",
       "  ('development', 'Other'),\n",
       "  ('of', 'Other'),\n",
       "  ('a', 'Other'),\n",
       "  ('spike1', 'B-GENE_OR_GENOME'),\n",
       "  ('subunit', 'Other'),\n",
       "  ('protein', 'Other'),\n",
       "  ('based', 'B-CHEMICAL'),\n",
       "  ('vaccine', 'I-CHEMICAL'),\n",
       "  ('may', 'Other'),\n",
       "  ('rely', 'Other'),\n",
       "  ('on', 'Other'),\n",
       "  ('the', 'Other'),\n",
       "  ('fact', 'Other'),\n",
       "  ('that', 'Other'),\n",
       "  ('ace2', 'B-GENE_OR_GENOME'),\n",
       "  ('is', 'Other'),\n",
       "  ('the', 'Other'),\n",
       "  ('sars-cov-2', 'B-CORONAVIRUS'),\n",
       "  ('receptor', 'B-CHEMICAL'),\n",
       "  ('cell', 'B-CELL'),\n",
       "  ('lines', 'I-CELL'),\n",
       "  ('that', 'Other'),\n",
       "  ('facilitate', 'Other'),\n",
       "  ('viral', 'Other'),\n",
       "  ('replication', 'Other'),\n",
       "  ('in', 'Other'),\n",
       "  ('the', 'Other'),\n",
       "  ('presence', 'Other'),\n",
       "  ('of', 'Other'),\n",
       "  ('ace2', 'B-GENE_OR_GENOME'),\n",
       "  ('may', 'Other'),\n",
       "  ('be', 'Other'),\n",
       "  ('most', 'Other'),\n",
       "  ('efficient', 'Other'),\n",
       "  ('in', 'Other'),\n",
       "  ('large-scale', 'B-GENE_OR_GENOME'),\n",
       "  ('vaccine', 'B-CHEMICAL'),\n",
       "  ('production.', 'Other'),\n",
       "  ('2.', 'Other'),\n",
       "  ('inhibition', 'Other'),\n",
       "  ('of', 'Other'),\n",
       "  ('transmembrane', 'B-GENE_OR_GENOME'),\n",
       "  ('protease', 'I-GENE_OR_GENOME'),\n",
       "  ('serine', 'I-GENE_OR_GENOME'),\n",
       "  ('2', 'I-GENE_OR_GENOME'),\n",
       "  ('tmprss2', 'B-GENE_OR_GENOME'),\n",
       "  ('activity.', 'Other'),\n",
       "  ('hoffman', 'B-DISEASE_OR_SYNDROME'),\n",
       "  ('et', 'Other'),\n",
       "  ('al.', 'Other'),\n",
       "  ('[25]', 'Other'),\n",
       "  ('recently', 'Other'),\n",
       "  ('demonstrated', 'Other'),\n",
       "  ('that', 'Other'),\n",
       "  ('initial', 'Other'),\n",
       "  ('spike', 'B-CHEMICAL'),\n",
       "  ('protein', 'I-CHEMICAL'),\n",
       "  ('priming', 'Other'),\n",
       "  ('by', 'Other'),\n",
       "  ('transmembrane', 'B-GENE_OR_GENOME'),\n",
       "  ('protease', 'I-GENE_OR_GENOME'),\n",
       "  ('serine', 'I-GENE_OR_GENOME'),\n",
       "  ('2', 'I-GENE_OR_GENOME'),\n",
       "  ('tmprss2', 'B-GENE_OR_GENOME'),\n",
       "  ('is', 'Other'),\n",
       "  ('essential', 'Other'),\n",
       "  ('for', 'Other'),\n",
       "  ('entry', 'Other'),\n",
       "  ('and', 'Other'),\n",
       "  ('viral', 'Other'),\n",
       "  ('spread', 'Other'),\n",
       "  ('of', 'Other'),\n",
       "  ('sars-cov-2', 'B-CORONAVIRUS'),\n",
       "  ('through', 'Other'),\n",
       "  ('interaction', 'Other'),\n",
       "  ('with', 'Other'),\n",
       "  ('the', 'Other'),\n",
       "  ('ace2', 'B-DATE'),\n",
       "  ('receptor', 'I-DATE'),\n",
       "  ('[26,', 'I-DATE'),\n",
       "  ('27', 'B-DATE'),\n",
       "  ('.', 'Other'),\n",
       "  ('the', 'Other'),\n",
       "  ('serine', 'B-GENE_OR_GENOME'),\n",
       "  ('protease', 'I-GENE_OR_GENOME'),\n",
       "  ('inhibitor', 'B-CHEMICAL'),\n",
       "  ('camostat', 'B-CHEMICAL'),\n",
       "  ('mesylate', 'I-CHEMICAL'),\n",
       "  ('approved', 'Other'),\n",
       "  ('in', 'Other'),\n",
       "  ('japan', 'B-GPE'),\n",
       "  ('to', 'Other'),\n",
       "  ('treat', 'Other'),\n",
       "  ('unrelated', 'Other'),\n",
       "  ('diseases,', 'Other'),\n",
       "  ('has', 'Other'),\n",
       "  ('been', 'Other'),\n",
       "  ('shown', 'Other'),\n",
       "  ('to', 'Other'),\n",
       "  ('block', 'Other'),\n",
       "  ('tmprss2', 'B-GENE_OR_GENOME'),\n",
       "  ('activity', 'Other'),\n",
       "  ('[28,', 'Other'),\n",
       "  ('29', 'B-DATE'),\n",
       "  ('and', 'Other'),\n",
       "  ('is', 'Other'),\n",
       "  ('thus', 'Other'),\n",
       "  ('an', 'Other'),\n",
       "  ('interesting', 'Other'),\n",
       "  ('candidate.', 'Other'),\n",
       "  ('the', 'Other'),\n",
       "  ('interaction', 'Other'),\n",
       "  ('sites', 'Other'),\n",
       "  ('between', 'Other'),\n",
       "  ('ace2', 'B-GENE_OR_GENOME'),\n",
       "  ('and', 'Other'),\n",
       "  ('sars', 'B-CORONAVIRUS'),\n",
       "  ('cov', 'B-CORONAVIRUS'),\n",
       "  ('have', 'Other'),\n",
       "  ('been', 'Other'),\n",
       "  ('identified', 'Other'),\n",
       "  ('at', 'Other'),\n",
       "  ('the', 'Other'),\n",
       "  ('atomic', 'Other'),\n",
       "  ('level', 'Other'),\n",
       "  ('and', 'Other'),\n",
       "  ('from', 'Other'),\n",
       "  ('studies', 'Other'),\n",
       "  ('to', 'Other'),\n",
       "  ('date', 'Other'),\n",
       "  ('should', 'Other'),\n",
       "  ('also', 'Other'),\n",
       "  ('hold', 'Other'),\n",
       "  ('true', 'Other'),\n",
       "  ('for', 'Other'),\n",
       "  ('interactions', 'Other'),\n",
       "  ('between', 'Other'),\n",
       "  ('ace2', 'B-GENE_OR_GENOME'),\n",
       "  ('and', 'Other'),\n",
       "  ('sars-cov-2', 'B-CORONAVIRUS'),\n",
       "  ('thus,', 'Other'),\n",
       "  ('one', 'Other'),\n",
       "  ('could', 'Other'),\n",
       "  ('target', 'Other'),\n",
       "  ('this', 'Other'),\n",
       "  ('interaction', 'Other'),\n",
       "  ('site', 'Other'),\n",
       "  ('with', 'Other'),\n",
       "  ('antibodies', 'B-CHEMICAL'),\n",
       "  ('or', 'Other'),\n",
       "  ('small', 'B-CELL_COMPONENT'),\n",
       "  ('molecules', 'I-CELL_COMPONENT'),\n",
       "  ('kuba', 'B-PERSON'),\n",
       "  ('et', 'I-PERSON'),\n",
       "  ('al', 'I-PERSON'),\n",
       "  ('[10]', 'Other'),\n",
       "  ('demonstrated', 'Other'),\n",
       "  ('in', 'Other'),\n",
       "  ('mice', 'B-ORGANISM'),\n",
       "  ('that', 'Other'),\n",
       "  ('sars', 'B-CORONAVIRUS'),\n",
       "  ('cov', 'B-CORONAVIRUS'),\n",
       "  ('downregulates', 'Other'),\n",
       "  ('ace2', 'B-GENE_OR_GENOME'),\n",
       "  ('protein', 'Other'),\n",
       "  ('(but', 'Other'),\n",
       "  ('not', 'Other'),\n",
       "  ('ace', 'B-GENE_OR_GENOME'),\n",
       "  ('by', 'Other'),\n",
       "  ('binding', 'Other'),\n",
       "  ('its', 'Other'),\n",
       "  ('spike', 'B-CHEMICAL'),\n",
       "  ('protein', 'I-CHEMICAL'),\n",
       "  ('contributing', 'Other'),\n",
       "  ('to', 'Other'),\n",
       "  ('severe', 'B-CHEMICAL'),\n",
       "  ('lung', 'I-CHEMICAL'),\n",
       "  ('injury', 'I-CHEMICAL'),\n",
       "  ('this', 'Other'),\n",
       "  ('suggests', 'Other'),\n",
       "  ('that', 'Other'),\n",
       "  ('excessive', 'Other'),\n",
       "  ('ace2', 'B-GENE_OR_GENOME'),\n",
       "  ('may', 'Other'),\n",
       "  ('competitively', 'B-GENE_OR_GENOME'),\n",
       "  ('bind', 'I-GENE_OR_GENOME'),\n",
       "  ('with', 'Other'),\n",
       "  ('sars-cov-2', 'B-CORONAVIRUS'),\n",
       "  ('not', 'Other'),\n",
       "  ('only', 'Other'),\n",
       "  ('to', 'Other'),\n",
       "  ('neutralize', 'Other'),\n",
       "  ('the', 'Other'),\n",
       "  ('virus', 'Other'),\n",
       "  ('but', 'Other'),\n",
       "  ('also', 'Other'),\n",
       "  ('rescue', 'Other'),\n",
       "  ('cellular', 'B-CELL'),\n",
       "  ('ace2', 'Other'),\n",
       "  ('activity', 'Other'),\n",
       "  ('which', 'Other'),\n",
       "  ('negatively', 'B-GENE_OR_GENOME'),\n",
       "  ('regulates', 'I-GENE_OR_GENOME'),\n",
       "  ('the', 'Other'),\n",
       "  ('renin', 'Other'),\n",
       "  ('angiotensin', 'B-CHEMICAL'),\n",
       "  ('system', 'Other'),\n",
       "  ('ras', 'B-GENE_OR_GENOME'),\n",
       "  ('to', 'Other'),\n",
       "  ('protect', 'Other'),\n",
       "  ('the', 'Other'),\n",
       "  ('lung', 'B-BODY_PART_ORGAN_OR_ORGAN_COMPONENT'),\n",
       "  ('from', 'Other'),\n",
       "  ('injury', 'Other'),\n",
       "  ('[12,', 'Other'),\n",
       "  ('30', 'B-DATE'),\n",
       "  ('.', 'Other'),\n",
       "  ('indeed,', 'Other'),\n",
       "  ('enhanced', 'Other'),\n",
       "  ('ace', 'B-GENE_OR_GENOME'),\n",
       "  ('activity', 'Other'),\n",
       "  ('and', 'Other'),\n",
       "  ('decreased', 'Other'),\n",
       "  ('ace2', 'B-GENE_OR_GENOME'),\n",
       "  ('availability', 'Other'),\n",
       "  ('contribute', 'Other'),\n",
       "  ('to', 'Other'),\n",
       "  ('lung', 'B-DISEASE_OR_SYNDROME'),\n",
       "  ('injury', 'I-DISEASE_OR_SYNDROME'),\n",
       "  ('during', 'Other'),\n",
       "  ('acid', 'B-CHEMICAL'),\n",
       "  ('and', 'Other'),\n",
       "  ('ventilator-induced', 'Other'),\n",
       "  ('lung', 'Other'),\n",
       "  ('injury', 'Other'),\n",
       "  ('12,', 'B-DATE'),\n",
       "  ('31', 'I-DATE'),\n",
       "  ('32', 'B-DATE'),\n",
       "  ('.', 'Other'),\n",
       "  ('thus,', 'Other'),\n",
       "  ('treatment', 'Other'),\n",
       "  ('with', 'Other'),\n",
       "  ('a', 'Other'),\n",
       "  ('soluble', 'Other'),\n",
       "  ('form', 'Other'),\n",
       "  ('of', 'Other'),\n",
       "  ('ace2', 'B-GENE_OR_GENOME'),\n",
       "  ('itself', 'Other'),\n",
       "  ('may', 'Other'),\n",
       "  ('exert', 'Other'),\n",
       "  ('dual', 'Other'),\n",
       "  ('functions', 'B-DAILY_OR_RECREATIONAL_ACTIVITY'),\n",
       "  ('(1)', 'Other'),\n",
       "  ('slow', 'Other'),\n",
       "  ('viral', 'Other'),\n",
       "  ('entry', 'Other'),\n",
       "  ('into', 'Other'),\n",
       "  ('cells', 'B-CELL'),\n",
       "  ('and', 'Other'),\n",
       "  ('hence', 'Other'),\n",
       "  ('viral', 'Other'),\n",
       "  ('spread', 'Other'),\n",
       "  ('[7,', 'Other'),\n",
       "  ('9]', 'Other'),\n",
       "  ('and', 'Other'),\n",
       "  ('(2)', 'Other'),\n",
       "  ('protect', 'Other'),\n",
       "  ('the', 'Other'),\n",
       "  ('lung', 'B-BODY_PART_ORGAN_OR_ORGAN_COMPONENT')]]"
      ]
     },
     "execution_count": 7,
     "metadata": {},
     "output_type": "execute_result"
    }
   ],
   "source": [
    "sentences[:2]"
   ]
  },
  {
   "cell_type": "markdown",
   "id": "bc80cfc5",
   "metadata": {},
   "source": [
    "## Model definition"
   ]
  },
  {
   "cell_type": "code",
   "execution_count": 8,
   "id": "b7624e6e",
   "metadata": {},
   "outputs": [],
   "source": [
    "def build_model(dropout, optimizer_name, learning_rate):\n",
    "    input_layer = Input(shape=(max_len,))\n",
    "    embed = Embedding(input_dim=len(words), output_dim=100, input_length=max_len)(input_layer)\n",
    "    rnn_1 = Bidirectional(LSTM(units=100, return_sequences=True, recurrent_dropout=0))(embed)\n",
    "    rnn_drop = Dropout(dropout)(rnn_1)\n",
    "    rnn_2 = Bidirectional(LSTM(units=100, return_sequences=True, recurrent_dropout=0))(rnn_drop)\n",
    "    attention = Attention()([rnn_2, rnn_2])\n",
    "    dense_1 = TimeDistributed(Dense(len(tags) * 4, activation=\"relu\"))(rnn_2)\n",
    "    dense_2 = TimeDistributed(Dense(len(tags) * 2, activation=\"relu\"))(dense_1)\n",
    "    out = keras.layers.Dense(units=len(tags), activation='softmax')(dense_2)\n",
    "    \n",
    "    \n",
    "    model = Model(input_layer, out)\n",
    "    \n",
    "    model.summary()\n",
    "\n",
    "    if optimizer_name == \"Adam\":\n",
    "        optimizer = tf.keras.optimizers.Adam(learning_rate)\n",
    "    elif optimizer_name == \"Nadam\":\n",
    "        optimizer = tf.keras.optimizers.Nadam(learning_rate)\n",
    "    elif optimizer_name == \"RMSprop\":\n",
    "        optimizer = tf.keras.optimizers.RMSprop(learning_rate)\n",
    "\n",
    "    model.compile(optimizer=optimizer,\n",
    "                  loss=\"sparse_categorical_crossentropy\",\n",
    "                  metrics=[\"accuracy\"])\n",
    "    \n",
    "    return model"
   ]
  },
  {
   "cell_type": "code",
   "execution_count": 9,
   "id": "e1fef726",
   "metadata": {},
   "outputs": [],
   "source": [
    "import wandb\n",
    "from wandb.keras import WandbCallback\n",
    "from tensorflow.keras.callbacks import EarlyStopping\n",
    "\n",
    "# early_stop = EarlyStopping(monitor='val_loss', mode='min', patience=1)\n",
    "\n",
    "def train():    \n",
    "    config_defaults = {\n",
    "        'dropout': 0,\n",
    "        'batch_size_divisor': 4,\n",
    "        'optimizer': 'Adam',\n",
    "        'learning_rate': 0.01,\n",
    "        'epochs': 1\n",
    "    }\n",
    "\n",
    "    wandb.init(config=config_defaults)\n",
    "\n",
    "    config = wandb.config\n",
    "    \n",
    "    with strategy.scope():\n",
    "        model = build_model(config.dropout, config.optimizer, config.learning_rate)\n",
    "\n",
    "        history = model.fit(\n",
    "            x=x_train,\n",
    "            y=y_train,\n",
    "            validation_split=0.1,\n",
    "            batch_size=int(max_len/config.batch_size_divisor),\n",
    "            epochs=config.epochs,\n",
    "            verbose=1,\n",
    "            callbacks=[\n",
    "#                 early_stop,\n",
    "#                 WandbCallback()\n",
    "            ]\n",
    "        )\n",
    "\n",
    "    metrics = {\n",
    "        'val_loss': history.history['val_loss'][-1],\n",
    "        'val_accuracy': history.history['val_accuracy'][-1],\n",
    "    }\n",
    "\n",
    "    wandb.log(metrics)\n",
    "\n",
    "#     print(config)"
   ]
  },
  {
   "cell_type": "code",
   "execution_count": 10,
   "id": "4fe14e2f",
   "metadata": {
    "scrolled": true
   },
   "outputs": [
    {
     "name": "stdout",
     "output_type": "stream",
     "text": [
      "Create sweep with ID: fla4xvjo\n",
      "Sweep URL: https://wandb.ai/xkretinin/uncategorized/sweeps/fla4xvjo\n"
     ]
    },
    {
     "name": "stderr",
     "output_type": "stream",
     "text": [
      "\u001b[34m\u001b[1mwandb\u001b[0m: Agent Starting Run: dfdzhm0f with config:\n",
      "\u001b[34m\u001b[1mwandb\u001b[0m: \tbatch_size_divisor: 2\n",
      "\u001b[34m\u001b[1mwandb\u001b[0m: \tdropout: 0.2\n",
      "\u001b[34m\u001b[1mwandb\u001b[0m: \tepochs: 6\n",
      "\u001b[34m\u001b[1mwandb\u001b[0m: \tlearning_rate: 0.0006247608963216003\n",
      "\u001b[34m\u001b[1mwandb\u001b[0m: \toptimizer: RMSprop\n",
      "\u001b[34m\u001b[1mwandb\u001b[0m: Currently logged in as: \u001b[33mxkretinin\u001b[0m. Use \u001b[1m`wandb login --relogin`\u001b[0m to force relogin\n"
     ]
    },
    {
     "data": {
      "text/html": [
       "wandb version 0.15.1 is available!  To upgrade, please run:\n",
       " $ pip install wandb --upgrade"
      ],
      "text/plain": [
       "<IPython.core.display.HTML object>"
      ]
     },
     "metadata": {},
     "output_type": "display_data"
    },
    {
     "data": {
      "text/html": [
       "Tracking run with wandb version 0.13.10"
      ],
      "text/plain": [
       "<IPython.core.display.HTML object>"
      ]
     },
     "metadata": {},
     "output_type": "display_data"
    },
    {
     "data": {
      "text/html": [
       "Run data is saved locally in <code>C:\\Programming\\NN_cvika\\NN2023_MLP_abalone_age_prediction\\wandb\\run-20230505_135939-dfdzhm0f</code>"
      ],
      "text/plain": [
       "<IPython.core.display.HTML object>"
      ]
     },
     "metadata": {},
     "output_type": "display_data"
    },
    {
     "data": {
      "text/html": [
       "Syncing run <strong><a href='https://wandb.ai/xkretinin/uncategorized/runs/dfdzhm0f' target=\"_blank\">sleek-sweep-1</a></strong> to <a href='https://wandb.ai/xkretinin/uncategorized' target=\"_blank\">Weights & Biases</a> (<a href='https://wandb.me/run' target=\"_blank\">docs</a>)<br/>Sweep page: <a href='https://wandb.ai/xkretinin/uncategorized/sweeps/fla4xvjo' target=\"_blank\">https://wandb.ai/xkretinin/uncategorized/sweeps/fla4xvjo</a>"
      ],
      "text/plain": [
       "<IPython.core.display.HTML object>"
      ]
     },
     "metadata": {},
     "output_type": "display_data"
    },
    {
     "data": {
      "text/html": [
       " View project at <a href='https://wandb.ai/xkretinin/uncategorized' target=\"_blank\">https://wandb.ai/xkretinin/uncategorized</a>"
      ],
      "text/plain": [
       "<IPython.core.display.HTML object>"
      ]
     },
     "metadata": {},
     "output_type": "display_data"
    },
    {
     "data": {
      "text/html": [
       " View sweep at <a href='https://wandb.ai/xkretinin/uncategorized/sweeps/fla4xvjo' target=\"_blank\">https://wandb.ai/xkretinin/uncategorized/sweeps/fla4xvjo</a>"
      ],
      "text/plain": [
       "<IPython.core.display.HTML object>"
      ]
     },
     "metadata": {},
     "output_type": "display_data"
    },
    {
     "data": {
      "text/html": [
       " View run at <a href='https://wandb.ai/xkretinin/uncategorized/runs/dfdzhm0f' target=\"_blank\">https://wandb.ai/xkretinin/uncategorized/runs/dfdzhm0f</a>"
      ],
      "text/plain": [
       "<IPython.core.display.HTML object>"
      ]
     },
     "metadata": {},
     "output_type": "display_data"
    },
    {
     "name": "stdout",
     "output_type": "stream",
     "text": [
      "Model: \"model\"\n",
      "_________________________________________________________________\n",
      " Layer (type)                Output Shape              Param #   \n",
      "=================================================================\n",
      " input_1 (InputLayer)        [(None, 512)]             0         \n",
      "                                                                 \n",
      " embedding (Embedding)       (None, 512, 100)          95134600  \n",
      "                                                                 \n",
      " bidirectional (Bidirectiona  (None, 512, 200)         160800    \n",
      " l)                                                              \n",
      "                                                                 \n",
      " dropout (Dropout)           (None, 512, 200)          0         \n",
      "                                                                 \n",
      " bidirectional_1 (Bidirectio  (None, 512, 200)         240800    \n",
      " nal)                                                            \n",
      "                                                                 \n",
      " time_distributed (TimeDistr  (None, 512, 500)         100500    \n",
      " ibuted)                                                         \n",
      "                                                                 \n",
      " time_distributed_1 (TimeDis  (None, 512, 250)         125250    \n",
      " tributed)                                                       \n",
      "                                                                 \n",
      " dense_2 (Dense)             (None, 512, 125)          31375     \n",
      "                                                                 \n",
      "=================================================================\n",
      "Total params: 95,793,325\n",
      "Trainable params: 95,793,325\n",
      "Non-trainable params: 0\n",
      "_________________________________________________________________\n",
      "Epoch 1/6\n",
      "394/394 [==============================] - 161s 369ms/step - loss: 1.0065 - accuracy: 0.7966 - val_loss: 0.6962 - val_accuracy: 0.8257\n",
      "Epoch 2/6\n",
      "394/394 [==============================] - 143s 364ms/step - loss: 0.6224 - accuracy: 0.8416 - val_loss: 0.5299 - val_accuracy: 0.8645\n",
      "Epoch 3/6\n",
      "394/394 [==============================] - 143s 364ms/step - loss: 0.4791 - accuracy: 0.8760 - val_loss: 0.4294 - val_accuracy: 0.8873\n",
      "Epoch 4/6\n",
      "394/394 [==============================] - 145s 368ms/step - loss: 0.4017 - accuracy: 0.8928 - val_loss: 0.3857 - val_accuracy: 0.8948\n",
      "Epoch 5/6\n",
      "394/394 [==============================] - 145s 367ms/step - loss: 0.3517 - accuracy: 0.9034 - val_loss: 0.3486 - val_accuracy: 0.9032\n",
      "Epoch 6/6\n",
      "394/394 [==============================] - 145s 367ms/step - loss: 0.3175 - accuracy: 0.9109 - val_loss: 0.3193 - val_accuracy: 0.9095\n"
     ]
    },
    {
     "data": {
      "text/html": [
       "Waiting for W&B process to finish... <strong style=\"color:green\">(success).</strong>"
      ],
      "text/plain": [
       "<IPython.core.display.HTML object>"
      ]
     },
     "metadata": {},
     "output_type": "display_data"
    },
    {
     "data": {
      "application/vnd.jupyter.widget-view+json": {
       "model_id": "1e393dc5ff70494486ab9b07cb0f660a",
       "version_major": 2,
       "version_minor": 0
      },
      "text/plain": [
       "VBox(children=(Label(value='0.001 MB of 0.001 MB uploaded (0.000 MB deduped)\\r'), FloatProgress(value=1.0, max…"
      ]
     },
     "metadata": {},
     "output_type": "display_data"
    },
    {
     "data": {
      "text/html": [
       "<style>\n",
       "    table.wandb td:nth-child(1) { padding: 0 10px; text-align: left ; width: auto;} td:nth-child(2) {text-align: left ; width: 100%}\n",
       "    .wandb-row { display: flex; flex-direction: row; flex-wrap: wrap; justify-content: flex-start; width: 100% }\n",
       "    .wandb-col { display: flex; flex-direction: column; flex-basis: 100%; flex: 1; padding: 10px; }\n",
       "    </style>\n",
       "<div class=\"wandb-row\"><div class=\"wandb-col\"><h3>Run history:</h3><br/><table class=\"wandb\"><tr><td>val_accuracy</td><td>▁</td></tr><tr><td>val_loss</td><td>▁</td></tr></table><br/></div><div class=\"wandb-col\"><h3>Run summary:</h3><br/><table class=\"wandb\"><tr><td>val_accuracy</td><td>0.90955</td></tr><tr><td>val_loss</td><td>0.31934</td></tr></table><br/></div></div>"
      ],
      "text/plain": [
       "<IPython.core.display.HTML object>"
      ]
     },
     "metadata": {},
     "output_type": "display_data"
    },
    {
     "data": {
      "text/html": [
       " View run <strong style=\"color:#cdcd00\">sleek-sweep-1</strong> at: <a href='https://wandb.ai/xkretinin/uncategorized/runs/dfdzhm0f' target=\"_blank\">https://wandb.ai/xkretinin/uncategorized/runs/dfdzhm0f</a><br/>Synced 5 W&B file(s), 0 media file(s), 0 artifact file(s) and 0 other file(s)"
      ],
      "text/plain": [
       "<IPython.core.display.HTML object>"
      ]
     },
     "metadata": {},
     "output_type": "display_data"
    },
    {
     "data": {
      "text/html": [
       "Find logs at: <code>.\\wandb\\run-20230505_135939-dfdzhm0f\\logs</code>"
      ],
      "text/plain": [
       "<IPython.core.display.HTML object>"
      ]
     },
     "metadata": {},
     "output_type": "display_data"
    },
    {
     "name": "stderr",
     "output_type": "stream",
     "text": [
      "\u001b[34m\u001b[1mwandb\u001b[0m: Agent Starting Run: 5v2vbj35 with config:\n",
      "\u001b[34m\u001b[1mwandb\u001b[0m: \tbatch_size_divisor: 2\n",
      "\u001b[34m\u001b[1mwandb\u001b[0m: \tdropout: 0.6\n",
      "\u001b[34m\u001b[1mwandb\u001b[0m: \tepochs: 6\n",
      "\u001b[34m\u001b[1mwandb\u001b[0m: \tlearning_rate: 0.00026825871872622063\n",
      "\u001b[34m\u001b[1mwandb\u001b[0m: \toptimizer: Nadam\n"
     ]
    },
    {
     "data": {
      "text/html": [
       "wandb version 0.15.1 is available!  To upgrade, please run:\n",
       " $ pip install wandb --upgrade"
      ],
      "text/plain": [
       "<IPython.core.display.HTML object>"
      ]
     },
     "metadata": {},
     "output_type": "display_data"
    },
    {
     "data": {
      "text/html": [
       "Tracking run with wandb version 0.13.10"
      ],
      "text/plain": [
       "<IPython.core.display.HTML object>"
      ]
     },
     "metadata": {},
     "output_type": "display_data"
    },
    {
     "data": {
      "text/html": [
       "Run data is saved locally in <code>C:\\Programming\\NN_cvika\\NN2023_MLP_abalone_age_prediction\\wandb\\run-20230505_141437-5v2vbj35</code>"
      ],
      "text/plain": [
       "<IPython.core.display.HTML object>"
      ]
     },
     "metadata": {},
     "output_type": "display_data"
    },
    {
     "data": {
      "text/html": [
       "Syncing run <strong><a href='https://wandb.ai/xkretinin/uncategorized/runs/5v2vbj35' target=\"_blank\">royal-sweep-2</a></strong> to <a href='https://wandb.ai/xkretinin/uncategorized' target=\"_blank\">Weights & Biases</a> (<a href='https://wandb.me/run' target=\"_blank\">docs</a>)<br/>Sweep page: <a href='https://wandb.ai/xkretinin/uncategorized/sweeps/fla4xvjo' target=\"_blank\">https://wandb.ai/xkretinin/uncategorized/sweeps/fla4xvjo</a>"
      ],
      "text/plain": [
       "<IPython.core.display.HTML object>"
      ]
     },
     "metadata": {},
     "output_type": "display_data"
    },
    {
     "data": {
      "text/html": [
       " View project at <a href='https://wandb.ai/xkretinin/uncategorized' target=\"_blank\">https://wandb.ai/xkretinin/uncategorized</a>"
      ],
      "text/plain": [
       "<IPython.core.display.HTML object>"
      ]
     },
     "metadata": {},
     "output_type": "display_data"
    },
    {
     "data": {
      "text/html": [
       " View sweep at <a href='https://wandb.ai/xkretinin/uncategorized/sweeps/fla4xvjo' target=\"_blank\">https://wandb.ai/xkretinin/uncategorized/sweeps/fla4xvjo</a>"
      ],
      "text/plain": [
       "<IPython.core.display.HTML object>"
      ]
     },
     "metadata": {},
     "output_type": "display_data"
    },
    {
     "data": {
      "text/html": [
       " View run at <a href='https://wandb.ai/xkretinin/uncategorized/runs/5v2vbj35' target=\"_blank\">https://wandb.ai/xkretinin/uncategorized/runs/5v2vbj35</a>"
      ],
      "text/plain": [
       "<IPython.core.display.HTML object>"
      ]
     },
     "metadata": {},
     "output_type": "display_data"
    },
    {
     "name": "stdout",
     "output_type": "stream",
     "text": [
      "Model: \"model\"\n",
      "_________________________________________________________________\n",
      " Layer (type)                Output Shape              Param #   \n",
      "=================================================================\n",
      " input_1 (InputLayer)        [(None, 512)]             0         \n",
      "                                                                 \n",
      " embedding (Embedding)       (None, 512, 100)          95134600  \n",
      "                                                                 \n",
      " bidirectional (Bidirectiona  (None, 512, 200)         160800    \n",
      " l)                                                              \n",
      "                                                                 \n",
      " dropout (Dropout)           (None, 512, 200)          0         \n",
      "                                                                 \n",
      " bidirectional_1 (Bidirectio  (None, 512, 200)         240800    \n",
      " nal)                                                            \n",
      "                                                                 \n",
      " time_distributed (TimeDistr  (None, 512, 500)         100500    \n",
      " ibuted)                                                         \n",
      "                                                                 \n",
      " time_distributed_1 (TimeDis  (None, 512, 250)         125250    \n",
      " tributed)                                                       \n",
      "                                                                 \n",
      " dense_2 (Dense)             (None, 512, 125)          31375     \n",
      "                                                                 \n",
      "=================================================================\n",
      "Total params: 95,793,325\n",
      "Trainable params: 95,793,325\n",
      "Non-trainable params: 0\n",
      "_________________________________________________________________\n",
      "Epoch 1/6\n",
      "394/394 [==============================] - 155s 376ms/step - loss: 1.2548 - accuracy: 0.7850 - val_loss: 0.9174 - val_accuracy: 0.7861\n",
      "Epoch 2/6\n",
      "394/394 [==============================] - 142s 360ms/step - loss: 0.8189 - accuracy: 0.8029 - val_loss: 0.7097 - val_accuracy: 0.8226\n",
      "Epoch 3/6\n",
      "394/394 [==============================] - 138s 351ms/step - loss: 0.6668 - accuracy: 0.8312 - val_loss: 0.5917 - val_accuracy: 0.8497\n",
      "Epoch 4/6\n",
      "394/394 [==============================] - 145s 369ms/step - loss: 0.5634 - accuracy: 0.8555 - val_loss: 0.5082 - val_accuracy: 0.8706\n",
      "Epoch 5/6\n",
      "394/394 [==============================] - 142s 361ms/step - loss: 0.4897 - accuracy: 0.8728 - val_loss: 0.4583 - val_accuracy: 0.8811\n",
      "Epoch 6/6\n",
      "394/394 [==============================] - 141s 357ms/step - loss: 0.4431 - accuracy: 0.8834 - val_loss: 0.4240 - val_accuracy: 0.8891\n"
     ]
    },
    {
     "data": {
      "text/html": [
       "Waiting for W&B process to finish... <strong style=\"color:green\">(success).</strong>"
      ],
      "text/plain": [
       "<IPython.core.display.HTML object>"
      ]
     },
     "metadata": {},
     "output_type": "display_data"
    },
    {
     "data": {
      "application/vnd.jupyter.widget-view+json": {
       "model_id": "9174bcafea804eb3a5608bd382701b9f",
       "version_major": 2,
       "version_minor": 0
      },
      "text/plain": [
       "VBox(children=(Label(value='0.001 MB of 0.001 MB uploaded (0.000 MB deduped)\\r'), FloatProgress(value=1.0, max…"
      ]
     },
     "metadata": {},
     "output_type": "display_data"
    },
    {
     "data": {
      "text/html": [
       "<style>\n",
       "    table.wandb td:nth-child(1) { padding: 0 10px; text-align: left ; width: auto;} td:nth-child(2) {text-align: left ; width: 100%}\n",
       "    .wandb-row { display: flex; flex-direction: row; flex-wrap: wrap; justify-content: flex-start; width: 100% }\n",
       "    .wandb-col { display: flex; flex-direction: column; flex-basis: 100%; flex: 1; padding: 10px; }\n",
       "    </style>\n",
       "<div class=\"wandb-row\"><div class=\"wandb-col\"><h3>Run history:</h3><br/><table class=\"wandb\"><tr><td>val_accuracy</td><td>▁</td></tr><tr><td>val_loss</td><td>▁</td></tr></table><br/></div><div class=\"wandb-col\"><h3>Run summary:</h3><br/><table class=\"wandb\"><tr><td>val_accuracy</td><td>0.88912</td></tr><tr><td>val_loss</td><td>0.42395</td></tr></table><br/></div></div>"
      ],
      "text/plain": [
       "<IPython.core.display.HTML object>"
      ]
     },
     "metadata": {},
     "output_type": "display_data"
    },
    {
     "data": {
      "text/html": [
       " View run <strong style=\"color:#cdcd00\">royal-sweep-2</strong> at: <a href='https://wandb.ai/xkretinin/uncategorized/runs/5v2vbj35' target=\"_blank\">https://wandb.ai/xkretinin/uncategorized/runs/5v2vbj35</a><br/>Synced 5 W&B file(s), 0 media file(s), 0 artifact file(s) and 0 other file(s)"
      ],
      "text/plain": [
       "<IPython.core.display.HTML object>"
      ]
     },
     "metadata": {},
     "output_type": "display_data"
    },
    {
     "data": {
      "text/html": [
       "Find logs at: <code>.\\wandb\\run-20230505_141437-5v2vbj35\\logs</code>"
      ],
      "text/plain": [
       "<IPython.core.display.HTML object>"
      ]
     },
     "metadata": {},
     "output_type": "display_data"
    },
    {
     "name": "stderr",
     "output_type": "stream",
     "text": [
      "\u001b[34m\u001b[1mwandb\u001b[0m: Agent Starting Run: v2ki5iw8 with config:\n",
      "\u001b[34m\u001b[1mwandb\u001b[0m: \tbatch_size_divisor: 2\n",
      "\u001b[34m\u001b[1mwandb\u001b[0m: \tdropout: 0.6\n",
      "\u001b[34m\u001b[1mwandb\u001b[0m: \tepochs: 6\n",
      "\u001b[34m\u001b[1mwandb\u001b[0m: \tlearning_rate: 0.0008733551737148384\n",
      "\u001b[34m\u001b[1mwandb\u001b[0m: \toptimizer: Nadam\n"
     ]
    },
    {
     "data": {
      "text/html": [
       "wandb version 0.15.1 is available!  To upgrade, please run:\n",
       " $ pip install wandb --upgrade"
      ],
      "text/plain": [
       "<IPython.core.display.HTML object>"
      ]
     },
     "metadata": {},
     "output_type": "display_data"
    },
    {
     "data": {
      "text/html": [
       "Tracking run with wandb version 0.13.10"
      ],
      "text/plain": [
       "<IPython.core.display.HTML object>"
      ]
     },
     "metadata": {},
     "output_type": "display_data"
    },
    {
     "data": {
      "text/html": [
       "Run data is saved locally in <code>C:\\Programming\\NN_cvika\\NN2023_MLP_abalone_age_prediction\\wandb\\run-20230505_142913-v2ki5iw8</code>"
      ],
      "text/plain": [
       "<IPython.core.display.HTML object>"
      ]
     },
     "metadata": {},
     "output_type": "display_data"
    },
    {
     "data": {
      "text/html": [
       "Syncing run <strong><a href='https://wandb.ai/xkretinin/uncategorized/runs/v2ki5iw8' target=\"_blank\">pretty-sweep-3</a></strong> to <a href='https://wandb.ai/xkretinin/uncategorized' target=\"_blank\">Weights & Biases</a> (<a href='https://wandb.me/run' target=\"_blank\">docs</a>)<br/>Sweep page: <a href='https://wandb.ai/xkretinin/uncategorized/sweeps/fla4xvjo' target=\"_blank\">https://wandb.ai/xkretinin/uncategorized/sweeps/fla4xvjo</a>"
      ],
      "text/plain": [
       "<IPython.core.display.HTML object>"
      ]
     },
     "metadata": {},
     "output_type": "display_data"
    },
    {
     "data": {
      "text/html": [
       " View project at <a href='https://wandb.ai/xkretinin/uncategorized' target=\"_blank\">https://wandb.ai/xkretinin/uncategorized</a>"
      ],
      "text/plain": [
       "<IPython.core.display.HTML object>"
      ]
     },
     "metadata": {},
     "output_type": "display_data"
    },
    {
     "data": {
      "text/html": [
       " View sweep at <a href='https://wandb.ai/xkretinin/uncategorized/sweeps/fla4xvjo' target=\"_blank\">https://wandb.ai/xkretinin/uncategorized/sweeps/fla4xvjo</a>"
      ],
      "text/plain": [
       "<IPython.core.display.HTML object>"
      ]
     },
     "metadata": {},
     "output_type": "display_data"
    },
    {
     "data": {
      "text/html": [
       " View run at <a href='https://wandb.ai/xkretinin/uncategorized/runs/v2ki5iw8' target=\"_blank\">https://wandb.ai/xkretinin/uncategorized/runs/v2ki5iw8</a>"
      ],
      "text/plain": [
       "<IPython.core.display.HTML object>"
      ]
     },
     "metadata": {},
     "output_type": "display_data"
    },
    {
     "name": "stdout",
     "output_type": "stream",
     "text": [
      "Model: \"model\"\n",
      "_________________________________________________________________\n",
      " Layer (type)                Output Shape              Param #   \n",
      "=================================================================\n",
      " input_1 (InputLayer)        [(None, 512)]             0         \n",
      "                                                                 \n",
      " embedding (Embedding)       (None, 512, 100)          95134600  \n",
      "                                                                 \n",
      " bidirectional (Bidirectiona  (None, 512, 200)         160800    \n",
      " l)                                                              \n",
      "                                                                 \n",
      " dropout (Dropout)           (None, 512, 200)          0         \n",
      "                                                                 \n",
      " bidirectional_1 (Bidirectio  (None, 512, 200)         240800    \n",
      " nal)                                                            \n",
      "                                                                 \n",
      " time_distributed (TimeDistr  (None, 512, 500)         100500    \n",
      " ibuted)                                                         \n",
      "                                                                 \n",
      " time_distributed_1 (TimeDis  (None, 512, 250)         125250    \n",
      " tributed)                                                       \n",
      "                                                                 \n",
      " dense_2 (Dense)             (None, 512, 125)          31375     \n",
      "                                                                 \n",
      "=================================================================\n",
      "Total params: 95,793,325\n",
      "Trainable params: 95,793,325\n",
      "Non-trainable params: 0\n",
      "_________________________________________________________________\n",
      "Epoch 1/6\n",
      "394/394 [==============================] - 153s 365ms/step - loss: 1.0067 - accuracy: 0.7969 - val_loss: 0.6783 - val_accuracy: 0.8293\n",
      "Epoch 2/6\n",
      "394/394 [==============================] - 138s 350ms/step - loss: 0.5625 - accuracy: 0.8534 - val_loss: 0.4411 - val_accuracy: 0.8832\n",
      "Epoch 3/6\n",
      "394/394 [==============================] - 144s 367ms/step - loss: 0.4086 - accuracy: 0.8892 - val_loss: 0.3704 - val_accuracy: 0.8988\n",
      "Epoch 4/6\n",
      "394/394 [==============================] - 149s 378ms/step - loss: 0.3500 - accuracy: 0.9020 - val_loss: 0.3403 - val_accuracy: 0.9050\n",
      "Epoch 5/6\n",
      "394/394 [==============================] - 147s 374ms/step - loss: 0.3136 - accuracy: 0.9103 - val_loss: 0.3180 - val_accuracy: 0.9111\n",
      "Epoch 6/6\n",
      "394/394 [==============================] - 151s 382ms/step - loss: 0.2865 - accuracy: 0.9167 - val_loss: 0.3037 - val_accuracy: 0.9145\n"
     ]
    },
    {
     "data": {
      "text/html": [
       "Waiting for W&B process to finish... <strong style=\"color:green\">(success).</strong>"
      ],
      "text/plain": [
       "<IPython.core.display.HTML object>"
      ]
     },
     "metadata": {},
     "output_type": "display_data"
    },
    {
     "data": {
      "application/vnd.jupyter.widget-view+json": {
       "model_id": "1562b7c66de141188628f1a0fb191fa1",
       "version_major": 2,
       "version_minor": 0
      },
      "text/plain": [
       "VBox(children=(Label(value='0.001 MB of 0.008 MB uploaded (0.000 MB deduped)\\r'), FloatProgress(value=0.163788…"
      ]
     },
     "metadata": {},
     "output_type": "display_data"
    },
    {
     "data": {
      "text/html": [
       "<style>\n",
       "    table.wandb td:nth-child(1) { padding: 0 10px; text-align: left ; width: auto;} td:nth-child(2) {text-align: left ; width: 100%}\n",
       "    .wandb-row { display: flex; flex-direction: row; flex-wrap: wrap; justify-content: flex-start; width: 100% }\n",
       "    .wandb-col { display: flex; flex-direction: column; flex-basis: 100%; flex: 1; padding: 10px; }\n",
       "    </style>\n",
       "<div class=\"wandb-row\"><div class=\"wandb-col\"><h3>Run history:</h3><br/><table class=\"wandb\"><tr><td>val_accuracy</td><td>▁</td></tr><tr><td>val_loss</td><td>▁</td></tr></table><br/></div><div class=\"wandb-col\"><h3>Run summary:</h3><br/><table class=\"wandb\"><tr><td>val_accuracy</td><td>0.91446</td></tr><tr><td>val_loss</td><td>0.30374</td></tr></table><br/></div></div>"
      ],
      "text/plain": [
       "<IPython.core.display.HTML object>"
      ]
     },
     "metadata": {},
     "output_type": "display_data"
    },
    {
     "data": {
      "text/html": [
       " View run <strong style=\"color:#cdcd00\">pretty-sweep-3</strong> at: <a href='https://wandb.ai/xkretinin/uncategorized/runs/v2ki5iw8' target=\"_blank\">https://wandb.ai/xkretinin/uncategorized/runs/v2ki5iw8</a><br/>Synced 5 W&B file(s), 0 media file(s), 0 artifact file(s) and 0 other file(s)"
      ],
      "text/plain": [
       "<IPython.core.display.HTML object>"
      ]
     },
     "metadata": {},
     "output_type": "display_data"
    },
    {
     "data": {
      "text/html": [
       "Find logs at: <code>.\\wandb\\run-20230505_142913-v2ki5iw8\\logs</code>"
      ],
      "text/plain": [
       "<IPython.core.display.HTML object>"
      ]
     },
     "metadata": {},
     "output_type": "display_data"
    },
    {
     "name": "stderr",
     "output_type": "stream",
     "text": [
      "\u001b[34m\u001b[1mwandb\u001b[0m: Agent Starting Run: o3fu9jgo with config:\n",
      "\u001b[34m\u001b[1mwandb\u001b[0m: \tbatch_size_divisor: 2\n",
      "\u001b[34m\u001b[1mwandb\u001b[0m: \tdropout: 0.3\n",
      "\u001b[34m\u001b[1mwandb\u001b[0m: \tepochs: 6\n",
      "\u001b[34m\u001b[1mwandb\u001b[0m: \tlearning_rate: 0.0001223515052788552\n",
      "\u001b[34m\u001b[1mwandb\u001b[0m: \toptimizer: Adam\n"
     ]
    },
    {
     "data": {
      "text/html": [
       "wandb version 0.15.1 is available!  To upgrade, please run:\n",
       " $ pip install wandb --upgrade"
      ],
      "text/plain": [
       "<IPython.core.display.HTML object>"
      ]
     },
     "metadata": {},
     "output_type": "display_data"
    },
    {
     "data": {
      "text/html": [
       "Tracking run with wandb version 0.13.10"
      ],
      "text/plain": [
       "<IPython.core.display.HTML object>"
      ]
     },
     "metadata": {},
     "output_type": "display_data"
    },
    {
     "data": {
      "text/html": [
       "Run data is saved locally in <code>C:\\Programming\\NN_cvika\\NN2023_MLP_abalone_age_prediction\\wandb\\run-20230505_144408-o3fu9jgo</code>"
      ],
      "text/plain": [
       "<IPython.core.display.HTML object>"
      ]
     },
     "metadata": {},
     "output_type": "display_data"
    },
    {
     "data": {
      "text/html": [
       "Syncing run <strong><a href='https://wandb.ai/xkretinin/uncategorized/runs/o3fu9jgo' target=\"_blank\">fluent-sweep-4</a></strong> to <a href='https://wandb.ai/xkretinin/uncategorized' target=\"_blank\">Weights & Biases</a> (<a href='https://wandb.me/run' target=\"_blank\">docs</a>)<br/>Sweep page: <a href='https://wandb.ai/xkretinin/uncategorized/sweeps/fla4xvjo' target=\"_blank\">https://wandb.ai/xkretinin/uncategorized/sweeps/fla4xvjo</a>"
      ],
      "text/plain": [
       "<IPython.core.display.HTML object>"
      ]
     },
     "metadata": {},
     "output_type": "display_data"
    },
    {
     "data": {
      "text/html": [
       " View project at <a href='https://wandb.ai/xkretinin/uncategorized' target=\"_blank\">https://wandb.ai/xkretinin/uncategorized</a>"
      ],
      "text/plain": [
       "<IPython.core.display.HTML object>"
      ]
     },
     "metadata": {},
     "output_type": "display_data"
    },
    {
     "data": {
      "text/html": [
       " View sweep at <a href='https://wandb.ai/xkretinin/uncategorized/sweeps/fla4xvjo' target=\"_blank\">https://wandb.ai/xkretinin/uncategorized/sweeps/fla4xvjo</a>"
      ],
      "text/plain": [
       "<IPython.core.display.HTML object>"
      ]
     },
     "metadata": {},
     "output_type": "display_data"
    },
    {
     "data": {
      "text/html": [
       " View run at <a href='https://wandb.ai/xkretinin/uncategorized/runs/o3fu9jgo' target=\"_blank\">https://wandb.ai/xkretinin/uncategorized/runs/o3fu9jgo</a>"
      ],
      "text/plain": [
       "<IPython.core.display.HTML object>"
      ]
     },
     "metadata": {},
     "output_type": "display_data"
    },
    {
     "name": "stdout",
     "output_type": "stream",
     "text": [
      "Model: \"model\"\n",
      "_________________________________________________________________\n",
      " Layer (type)                Output Shape              Param #   \n",
      "=================================================================\n",
      " input_1 (InputLayer)        [(None, 512)]             0         \n",
      "                                                                 \n",
      " embedding (Embedding)       (None, 512, 100)          95134600  \n",
      "                                                                 \n",
      " bidirectional (Bidirectiona  (None, 512, 200)         160800    \n",
      " l)                                                              \n",
      "                                                                 \n",
      " dropout (Dropout)           (None, 512, 200)          0         \n",
      "                                                                 \n",
      " bidirectional_1 (Bidirectio  (None, 512, 200)         240800    \n",
      " nal)                                                            \n",
      "                                                                 \n",
      " time_distributed (TimeDistr  (None, 512, 500)         100500    \n",
      " ibuted)                                                         \n",
      "                                                                 \n",
      " time_distributed_1 (TimeDis  (None, 512, 250)         125250    \n",
      " tributed)                                                       \n",
      "                                                                 \n",
      " dense_2 (Dense)             (None, 512, 125)          31375     \n",
      "                                                                 \n",
      "=================================================================\n",
      "Total params: 95,793,325\n",
      "Trainable params: 95,793,325\n",
      "Non-trainable params: 0\n",
      "_________________________________________________________________\n",
      "Epoch 1/6\n",
      "394/394 [==============================] - 161s 392ms/step - loss: 1.5510 - accuracy: 0.7847 - val_loss: 1.1433 - val_accuracy: 0.7875\n",
      "Epoch 2/6\n",
      "394/394 [==============================] - 152s 386ms/step - loss: 0.9683 - accuracy: 0.7896 - val_loss: 0.8586 - val_accuracy: 0.7997\n",
      "Epoch 3/6\n",
      "394/394 [==============================] - 154s 391ms/step - loss: 0.8199 - accuracy: 0.8079 - val_loss: 0.7670 - val_accuracy: 0.8176\n",
      "Epoch 4/6\n",
      "394/394 [==============================] - 154s 392ms/step - loss: 0.7054 - accuracy: 0.8287 - val_loss: 0.6417 - val_accuracy: 0.8414\n",
      "Epoch 5/6\n",
      "394/394 [==============================] - 154s 390ms/step - loss: 0.5974 - accuracy: 0.8506 - val_loss: 0.5530 - val_accuracy: 0.8634\n",
      "Epoch 6/6\n",
      "394/394 [==============================] - 154s 392ms/step - loss: 0.5228 - accuracy: 0.8679 - val_loss: 0.4960 - val_accuracy: 0.8750\n"
     ]
    },
    {
     "data": {
      "text/html": [
       "Waiting for W&B process to finish... <strong style=\"color:green\">(success).</strong>"
      ],
      "text/plain": [
       "<IPython.core.display.HTML object>"
      ]
     },
     "metadata": {},
     "output_type": "display_data"
    },
    {
     "data": {
      "text/html": [
       "<style>\n",
       "    table.wandb td:nth-child(1) { padding: 0 10px; text-align: left ; width: auto;} td:nth-child(2) {text-align: left ; width: 100%}\n",
       "    .wandb-row { display: flex; flex-direction: row; flex-wrap: wrap; justify-content: flex-start; width: 100% }\n",
       "    .wandb-col { display: flex; flex-direction: column; flex-basis: 100%; flex: 1; padding: 10px; }\n",
       "    </style>\n",
       "<div class=\"wandb-row\"><div class=\"wandb-col\"><h3>Run history:</h3><br/><table class=\"wandb\"><tr><td>val_accuracy</td><td>▁</td></tr><tr><td>val_loss</td><td>▁</td></tr></table><br/></div><div class=\"wandb-col\"><h3>Run summary:</h3><br/><table class=\"wandb\"><tr><td>val_accuracy</td><td>0.87501</td></tr><tr><td>val_loss</td><td>0.49599</td></tr></table><br/></div></div>"
      ],
      "text/plain": [
       "<IPython.core.display.HTML object>"
      ]
     },
     "metadata": {},
     "output_type": "display_data"
    },
    {
     "data": {
      "text/html": [
       " View run <strong style=\"color:#cdcd00\">fluent-sweep-4</strong> at: <a href='https://wandb.ai/xkretinin/uncategorized/runs/o3fu9jgo' target=\"_blank\">https://wandb.ai/xkretinin/uncategorized/runs/o3fu9jgo</a><br/>Synced 5 W&B file(s), 0 media file(s), 0 artifact file(s) and 0 other file(s)"
      ],
      "text/plain": [
       "<IPython.core.display.HTML object>"
      ]
     },
     "metadata": {},
     "output_type": "display_data"
    },
    {
     "data": {
      "text/html": [
       "Find logs at: <code>.\\wandb\\run-20230505_144408-o3fu9jgo\\logs</code>"
      ],
      "text/plain": [
       "<IPython.core.display.HTML object>"
      ]
     },
     "metadata": {},
     "output_type": "display_data"
    },
    {
     "name": "stderr",
     "output_type": "stream",
     "text": [
      "\u001b[34m\u001b[1mwandb\u001b[0m: Agent Starting Run: 8cv7e0bd with config:\n",
      "\u001b[34m\u001b[1mwandb\u001b[0m: \tbatch_size_divisor: 2\n",
      "\u001b[34m\u001b[1mwandb\u001b[0m: \tdropout: 0.2\n",
      "\u001b[34m\u001b[1mwandb\u001b[0m: \tepochs: 6\n",
      "\u001b[34m\u001b[1mwandb\u001b[0m: \tlearning_rate: 0.0007422336101051181\n",
      "\u001b[34m\u001b[1mwandb\u001b[0m: \toptimizer: RMSprop\n"
     ]
    },
    {
     "data": {
      "text/html": [
       "wandb version 0.15.1 is available!  To upgrade, please run:\n",
       " $ pip install wandb --upgrade"
      ],
      "text/plain": [
       "<IPython.core.display.HTML object>"
      ]
     },
     "metadata": {},
     "output_type": "display_data"
    },
    {
     "data": {
      "text/html": [
       "Tracking run with wandb version 0.13.10"
      ],
      "text/plain": [
       "<IPython.core.display.HTML object>"
      ]
     },
     "metadata": {},
     "output_type": "display_data"
    },
    {
     "data": {
      "text/html": [
       "Run data is saved locally in <code>C:\\Programming\\NN_cvika\\NN2023_MLP_abalone_age_prediction\\wandb\\run-20230505_145952-8cv7e0bd</code>"
      ],
      "text/plain": [
       "<IPython.core.display.HTML object>"
      ]
     },
     "metadata": {},
     "output_type": "display_data"
    },
    {
     "data": {
      "text/html": [
       "Syncing run <strong><a href='https://wandb.ai/xkretinin/uncategorized/runs/8cv7e0bd' target=\"_blank\">laced-sweep-5</a></strong> to <a href='https://wandb.ai/xkretinin/uncategorized' target=\"_blank\">Weights & Biases</a> (<a href='https://wandb.me/run' target=\"_blank\">docs</a>)<br/>Sweep page: <a href='https://wandb.ai/xkretinin/uncategorized/sweeps/fla4xvjo' target=\"_blank\">https://wandb.ai/xkretinin/uncategorized/sweeps/fla4xvjo</a>"
      ],
      "text/plain": [
       "<IPython.core.display.HTML object>"
      ]
     },
     "metadata": {},
     "output_type": "display_data"
    },
    {
     "data": {
      "text/html": [
       " View project at <a href='https://wandb.ai/xkretinin/uncategorized' target=\"_blank\">https://wandb.ai/xkretinin/uncategorized</a>"
      ],
      "text/plain": [
       "<IPython.core.display.HTML object>"
      ]
     },
     "metadata": {},
     "output_type": "display_data"
    },
    {
     "data": {
      "text/html": [
       " View sweep at <a href='https://wandb.ai/xkretinin/uncategorized/sweeps/fla4xvjo' target=\"_blank\">https://wandb.ai/xkretinin/uncategorized/sweeps/fla4xvjo</a>"
      ],
      "text/plain": [
       "<IPython.core.display.HTML object>"
      ]
     },
     "metadata": {},
     "output_type": "display_data"
    },
    {
     "data": {
      "text/html": [
       " View run at <a href='https://wandb.ai/xkretinin/uncategorized/runs/8cv7e0bd' target=\"_blank\">https://wandb.ai/xkretinin/uncategorized/runs/8cv7e0bd</a>"
      ],
      "text/plain": [
       "<IPython.core.display.HTML object>"
      ]
     },
     "metadata": {},
     "output_type": "display_data"
    },
    {
     "name": "stdout",
     "output_type": "stream",
     "text": [
      "Model: \"model\"\n",
      "_________________________________________________________________\n",
      " Layer (type)                Output Shape              Param #   \n",
      "=================================================================\n",
      " input_1 (InputLayer)        [(None, 512)]             0         \n",
      "                                                                 \n",
      " embedding (Embedding)       (None, 512, 100)          95134600  \n",
      "                                                                 \n",
      " bidirectional (Bidirectiona  (None, 512, 200)         160800    \n",
      " l)                                                              \n",
      "                                                                 \n",
      " dropout (Dropout)           (None, 512, 200)          0         \n",
      "                                                                 \n",
      " bidirectional_1 (Bidirectio  (None, 512, 200)         240800    \n",
      " nal)                                                            \n",
      "                                                                 \n",
      " time_distributed (TimeDistr  (None, 512, 500)         100500    \n",
      " ibuted)                                                         \n",
      "                                                                 \n",
      " time_distributed_1 (TimeDis  (None, 512, 250)         125250    \n",
      " tributed)                                                       \n",
      "                                                                 \n",
      " dense_2 (Dense)             (None, 512, 125)          31375     \n",
      "                                                                 \n",
      "=================================================================\n",
      "Total params: 95,793,325\n",
      "Trainable params: 95,793,325\n",
      "Non-trainable params: 0\n",
      "_________________________________________________________________\n",
      "Epoch 1/6\n",
      "394/394 [==============================] - 156s 377ms/step - loss: 0.9849 - accuracy: 0.7976 - val_loss: 0.7159 - val_accuracy: 0.8157\n",
      "Epoch 2/6\n",
      "394/394 [==============================] - 142s 361ms/step - loss: 0.5844 - accuracy: 0.8501 - val_loss: 0.4951 - val_accuracy: 0.8715\n",
      "Epoch 3/6\n",
      "394/394 [==============================] - 142s 360ms/step - loss: 0.4437 - accuracy: 0.8833 - val_loss: 0.4148 - val_accuracy: 0.8881\n",
      "Epoch 4/6\n",
      "394/394 [==============================] - 145s 369ms/step - loss: 0.3717 - accuracy: 0.8990 - val_loss: 0.3541 - val_accuracy: 0.9021\n",
      "Epoch 5/6\n",
      "394/394 [==============================] - 147s 373ms/step - loss: 0.3274 - accuracy: 0.9086 - val_loss: 0.3222 - val_accuracy: 0.9090\n",
      "Epoch 6/6\n",
      "394/394 [==============================] - 147s 374ms/step - loss: 0.2971 - accuracy: 0.9155 - val_loss: 0.3049 - val_accuracy: 0.9134\n"
     ]
    },
    {
     "data": {
      "text/html": [
       "Waiting for W&B process to finish... <strong style=\"color:green\">(success).</strong>"
      ],
      "text/plain": [
       "<IPython.core.display.HTML object>"
      ]
     },
     "metadata": {},
     "output_type": "display_data"
    },
    {
     "data": {
      "text/html": [
       "<style>\n",
       "    table.wandb td:nth-child(1) { padding: 0 10px; text-align: left ; width: auto;} td:nth-child(2) {text-align: left ; width: 100%}\n",
       "    .wandb-row { display: flex; flex-direction: row; flex-wrap: wrap; justify-content: flex-start; width: 100% }\n",
       "    .wandb-col { display: flex; flex-direction: column; flex-basis: 100%; flex: 1; padding: 10px; }\n",
       "    </style>\n",
       "<div class=\"wandb-row\"><div class=\"wandb-col\"><h3>Run history:</h3><br/><table class=\"wandb\"><tr><td>val_accuracy</td><td>▁</td></tr><tr><td>val_loss</td><td>▁</td></tr></table><br/></div><div class=\"wandb-col\"><h3>Run summary:</h3><br/><table class=\"wandb\"><tr><td>val_accuracy</td><td>0.91336</td></tr><tr><td>val_loss</td><td>0.30488</td></tr></table><br/></div></div>"
      ],
      "text/plain": [
       "<IPython.core.display.HTML object>"
      ]
     },
     "metadata": {},
     "output_type": "display_data"
    },
    {
     "data": {
      "text/html": [
       " View run <strong style=\"color:#cdcd00\">laced-sweep-5</strong> at: <a href='https://wandb.ai/xkretinin/uncategorized/runs/8cv7e0bd' target=\"_blank\">https://wandb.ai/xkretinin/uncategorized/runs/8cv7e0bd</a><br/>Synced 5 W&B file(s), 0 media file(s), 0 artifact file(s) and 0 other file(s)"
      ],
      "text/plain": [
       "<IPython.core.display.HTML object>"
      ]
     },
     "metadata": {},
     "output_type": "display_data"
    },
    {
     "data": {
      "text/html": [
       "Find logs at: <code>.\\wandb\\run-20230505_145952-8cv7e0bd\\logs</code>"
      ],
      "text/plain": [
       "<IPython.core.display.HTML object>"
      ]
     },
     "metadata": {},
     "output_type": "display_data"
    },
    {
     "name": "stderr",
     "output_type": "stream",
     "text": [
      "\u001b[34m\u001b[1mwandb\u001b[0m: Agent Starting Run: b6cpzcjv with config:\n",
      "\u001b[34m\u001b[1mwandb\u001b[0m: \tbatch_size_divisor: 2\n",
      "\u001b[34m\u001b[1mwandb\u001b[0m: \tdropout: 0.4\n",
      "\u001b[34m\u001b[1mwandb\u001b[0m: \tepochs: 6\n",
      "\u001b[34m\u001b[1mwandb\u001b[0m: \tlearning_rate: 0.0006131957130971668\n",
      "\u001b[34m\u001b[1mwandb\u001b[0m: \toptimizer: Adam\n"
     ]
    },
    {
     "data": {
      "text/html": [
       "wandb version 0.15.1 is available!  To upgrade, please run:\n",
       " $ pip install wandb --upgrade"
      ],
      "text/plain": [
       "<IPython.core.display.HTML object>"
      ]
     },
     "metadata": {},
     "output_type": "display_data"
    },
    {
     "data": {
      "text/html": [
       "Tracking run with wandb version 0.13.10"
      ],
      "text/plain": [
       "<IPython.core.display.HTML object>"
      ]
     },
     "metadata": {},
     "output_type": "display_data"
    },
    {
     "data": {
      "text/html": [
       "Run data is saved locally in <code>C:\\Programming\\NN_cvika\\NN2023_MLP_abalone_age_prediction\\wandb\\run-20230505_151445-b6cpzcjv</code>"
      ],
      "text/plain": [
       "<IPython.core.display.HTML object>"
      ]
     },
     "metadata": {},
     "output_type": "display_data"
    },
    {
     "data": {
      "text/html": [
       "Syncing run <strong><a href='https://wandb.ai/xkretinin/uncategorized/runs/b6cpzcjv' target=\"_blank\">prime-sweep-6</a></strong> to <a href='https://wandb.ai/xkretinin/uncategorized' target=\"_blank\">Weights & Biases</a> (<a href='https://wandb.me/run' target=\"_blank\">docs</a>)<br/>Sweep page: <a href='https://wandb.ai/xkretinin/uncategorized/sweeps/fla4xvjo' target=\"_blank\">https://wandb.ai/xkretinin/uncategorized/sweeps/fla4xvjo</a>"
      ],
      "text/plain": [
       "<IPython.core.display.HTML object>"
      ]
     },
     "metadata": {},
     "output_type": "display_data"
    },
    {
     "data": {
      "text/html": [
       " View project at <a href='https://wandb.ai/xkretinin/uncategorized' target=\"_blank\">https://wandb.ai/xkretinin/uncategorized</a>"
      ],
      "text/plain": [
       "<IPython.core.display.HTML object>"
      ]
     },
     "metadata": {},
     "output_type": "display_data"
    },
    {
     "data": {
      "text/html": [
       " View sweep at <a href='https://wandb.ai/xkretinin/uncategorized/sweeps/fla4xvjo' target=\"_blank\">https://wandb.ai/xkretinin/uncategorized/sweeps/fla4xvjo</a>"
      ],
      "text/plain": [
       "<IPython.core.display.HTML object>"
      ]
     },
     "metadata": {},
     "output_type": "display_data"
    },
    {
     "data": {
      "text/html": [
       " View run at <a href='https://wandb.ai/xkretinin/uncategorized/runs/b6cpzcjv' target=\"_blank\">https://wandb.ai/xkretinin/uncategorized/runs/b6cpzcjv</a>"
      ],
      "text/plain": [
       "<IPython.core.display.HTML object>"
      ]
     },
     "metadata": {},
     "output_type": "display_data"
    },
    {
     "name": "stdout",
     "output_type": "stream",
     "text": [
      "Model: \"model\"\n",
      "_________________________________________________________________\n",
      " Layer (type)                Output Shape              Param #   \n",
      "=================================================================\n",
      " input_1 (InputLayer)        [(None, 512)]             0         \n",
      "                                                                 \n",
      " embedding (Embedding)       (None, 512, 100)          95134600  \n",
      "                                                                 \n",
      " bidirectional (Bidirectiona  (None, 512, 200)         160800    \n",
      " l)                                                              \n",
      "                                                                 \n",
      " dropout (Dropout)           (None, 512, 200)          0         \n",
      "                                                                 \n",
      " bidirectional_1 (Bidirectio  (None, 512, 200)         240800    \n",
      " nal)                                                            \n",
      "                                                                 \n",
      " time_distributed (TimeDistr  (None, 512, 500)         100500    \n",
      " ibuted)                                                         \n",
      "                                                                 \n",
      " time_distributed_1 (TimeDis  (None, 512, 250)         125250    \n",
      " tributed)                                                       \n",
      "                                                                 \n",
      " dense_2 (Dense)             (None, 512, 125)          31375     \n",
      "                                                                 \n",
      "=================================================================\n",
      "Total params: 95,793,325\n",
      "Trainable params: 95,793,325\n",
      "Non-trainable params: 0\n",
      "_________________________________________________________________\n",
      "Epoch 1/6\n",
      "394/394 [==============================] - 162s 397ms/step - loss: 1.0977 - accuracy: 0.7917 - val_loss: 0.7371 - val_accuracy: 0.8178\n",
      "Epoch 2/6\n",
      "394/394 [==============================] - 153s 390ms/step - loss: 0.5975 - accuracy: 0.8467 - val_loss: 0.4808 - val_accuracy: 0.8776\n",
      "Epoch 3/6\n",
      "394/394 [==============================] - 155s 393ms/step - loss: 0.4324 - accuracy: 0.8865 - val_loss: 0.3954 - val_accuracy: 0.8951\n",
      "Epoch 4/6\n",
      "394/394 [==============================] - 154s 392ms/step - loss: 0.3606 - accuracy: 0.9018 - val_loss: 0.3548 - val_accuracy: 0.9039\n",
      "Epoch 5/6\n",
      "394/394 [==============================] - 155s 393ms/step - loss: 0.3176 - accuracy: 0.9110 - val_loss: 0.3325 - val_accuracy: 0.9077\n",
      "Epoch 6/6\n",
      "394/394 [==============================] - 156s 396ms/step - loss: 0.2860 - accuracy: 0.9179 - val_loss: 0.3194 - val_accuracy: 0.9112\n"
     ]
    },
    {
     "data": {
      "text/html": [
       "Waiting for W&B process to finish... <strong style=\"color:green\">(success).</strong>"
      ],
      "text/plain": [
       "<IPython.core.display.HTML object>"
      ]
     },
     "metadata": {},
     "output_type": "display_data"
    },
    {
     "data": {
      "application/vnd.jupyter.widget-view+json": {
       "model_id": "2c77fe04d1e44079a2bfbd92c6c7b477",
       "version_major": 2,
       "version_minor": 0
      },
      "text/plain": [
       "VBox(children=(Label(value='0.001 MB of 0.001 MB uploaded (0.000 MB deduped)\\r'), FloatProgress(value=1.0, max…"
      ]
     },
     "metadata": {},
     "output_type": "display_data"
    },
    {
     "data": {
      "text/html": [
       "<style>\n",
       "    table.wandb td:nth-child(1) { padding: 0 10px; text-align: left ; width: auto;} td:nth-child(2) {text-align: left ; width: 100%}\n",
       "    .wandb-row { display: flex; flex-direction: row; flex-wrap: wrap; justify-content: flex-start; width: 100% }\n",
       "    .wandb-col { display: flex; flex-direction: column; flex-basis: 100%; flex: 1; padding: 10px; }\n",
       "    </style>\n",
       "<div class=\"wandb-row\"><div class=\"wandb-col\"><h3>Run history:</h3><br/><table class=\"wandb\"><tr><td>val_accuracy</td><td>▁</td></tr><tr><td>val_loss</td><td>▁</td></tr></table><br/></div><div class=\"wandb-col\"><h3>Run summary:</h3><br/><table class=\"wandb\"><tr><td>val_accuracy</td><td>0.91122</td></tr><tr><td>val_loss</td><td>0.31941</td></tr></table><br/></div></div>"
      ],
      "text/plain": [
       "<IPython.core.display.HTML object>"
      ]
     },
     "metadata": {},
     "output_type": "display_data"
    },
    {
     "data": {
      "text/html": [
       " View run <strong style=\"color:#cdcd00\">prime-sweep-6</strong> at: <a href='https://wandb.ai/xkretinin/uncategorized/runs/b6cpzcjv' target=\"_blank\">https://wandb.ai/xkretinin/uncategorized/runs/b6cpzcjv</a><br/>Synced 5 W&B file(s), 0 media file(s), 0 artifact file(s) and 0 other file(s)"
      ],
      "text/plain": [
       "<IPython.core.display.HTML object>"
      ]
     },
     "metadata": {},
     "output_type": "display_data"
    },
    {
     "data": {
      "text/html": [
       "Find logs at: <code>.\\wandb\\run-20230505_151445-b6cpzcjv\\logs</code>"
      ],
      "text/plain": [
       "<IPython.core.display.HTML object>"
      ]
     },
     "metadata": {},
     "output_type": "display_data"
    },
    {
     "name": "stderr",
     "output_type": "stream",
     "text": [
      "\u001b[34m\u001b[1mwandb\u001b[0m: Agent Starting Run: 3kxhrds1 with config:\n",
      "\u001b[34m\u001b[1mwandb\u001b[0m: \tbatch_size_divisor: 2\n",
      "\u001b[34m\u001b[1mwandb\u001b[0m: \tdropout: 0.3\n",
      "\u001b[34m\u001b[1mwandb\u001b[0m: \tepochs: 6\n",
      "\u001b[34m\u001b[1mwandb\u001b[0m: \tlearning_rate: 0.0009508729384534216\n",
      "\u001b[34m\u001b[1mwandb\u001b[0m: \toptimizer: RMSprop\n"
     ]
    },
    {
     "data": {
      "text/html": [
       "wandb version 0.15.1 is available!  To upgrade, please run:\n",
       " $ pip install wandb --upgrade"
      ],
      "text/plain": [
       "<IPython.core.display.HTML object>"
      ]
     },
     "metadata": {},
     "output_type": "display_data"
    },
    {
     "data": {
      "text/html": [
       "Tracking run with wandb version 0.13.10"
      ],
      "text/plain": [
       "<IPython.core.display.HTML object>"
      ]
     },
     "metadata": {},
     "output_type": "display_data"
    },
    {
     "data": {
      "text/html": [
       "Run data is saved locally in <code>C:\\Programming\\NN_cvika\\NN2023_MLP_abalone_age_prediction\\wandb\\run-20230505_153035-3kxhrds1</code>"
      ],
      "text/plain": [
       "<IPython.core.display.HTML object>"
      ]
     },
     "metadata": {},
     "output_type": "display_data"
    },
    {
     "data": {
      "text/html": [
       "Syncing run <strong><a href='https://wandb.ai/xkretinin/uncategorized/runs/3kxhrds1' target=\"_blank\">glamorous-sweep-7</a></strong> to <a href='https://wandb.ai/xkretinin/uncategorized' target=\"_blank\">Weights & Biases</a> (<a href='https://wandb.me/run' target=\"_blank\">docs</a>)<br/>Sweep page: <a href='https://wandb.ai/xkretinin/uncategorized/sweeps/fla4xvjo' target=\"_blank\">https://wandb.ai/xkretinin/uncategorized/sweeps/fla4xvjo</a>"
      ],
      "text/plain": [
       "<IPython.core.display.HTML object>"
      ]
     },
     "metadata": {},
     "output_type": "display_data"
    },
    {
     "data": {
      "text/html": [
       " View project at <a href='https://wandb.ai/xkretinin/uncategorized' target=\"_blank\">https://wandb.ai/xkretinin/uncategorized</a>"
      ],
      "text/plain": [
       "<IPython.core.display.HTML object>"
      ]
     },
     "metadata": {},
     "output_type": "display_data"
    },
    {
     "data": {
      "text/html": [
       " View sweep at <a href='https://wandb.ai/xkretinin/uncategorized/sweeps/fla4xvjo' target=\"_blank\">https://wandb.ai/xkretinin/uncategorized/sweeps/fla4xvjo</a>"
      ],
      "text/plain": [
       "<IPython.core.display.HTML object>"
      ]
     },
     "metadata": {},
     "output_type": "display_data"
    },
    {
     "data": {
      "text/html": [
       " View run at <a href='https://wandb.ai/xkretinin/uncategorized/runs/3kxhrds1' target=\"_blank\">https://wandb.ai/xkretinin/uncategorized/runs/3kxhrds1</a>"
      ],
      "text/plain": [
       "<IPython.core.display.HTML object>"
      ]
     },
     "metadata": {},
     "output_type": "display_data"
    },
    {
     "name": "stdout",
     "output_type": "stream",
     "text": [
      "Model: \"model\"\n",
      "_________________________________________________________________\n",
      " Layer (type)                Output Shape              Param #   \n",
      "=================================================================\n",
      " input_1 (InputLayer)        [(None, 512)]             0         \n",
      "                                                                 \n",
      " embedding (Embedding)       (None, 512, 100)          95134600  \n",
      "                                                                 \n",
      " bidirectional (Bidirectiona  (None, 512, 200)         160800    \n",
      " l)                                                              \n",
      "                                                                 \n",
      " dropout (Dropout)           (None, 512, 200)          0         \n",
      "                                                                 \n",
      " bidirectional_1 (Bidirectio  (None, 512, 200)         240800    \n",
      " nal)                                                            \n",
      "                                                                 \n",
      " time_distributed (TimeDistr  (None, 512, 500)         100500    \n",
      " ibuted)                                                         \n",
      "                                                                 \n",
      " time_distributed_1 (TimeDis  (None, 512, 250)         125250    \n",
      " tributed)                                                       \n",
      "                                                                 \n",
      " dense_2 (Dense)             (None, 512, 125)          31375     \n",
      "                                                                 \n",
      "=================================================================\n",
      "Total params: 95,793,325\n",
      "Trainable params: 95,793,325\n",
      "Non-trainable params: 0\n",
      "_________________________________________________________________\n",
      "Epoch 1/6\n",
      "394/394 [==============================] - 151s 369ms/step - loss: 0.9309 - accuracy: 0.8036 - val_loss: 0.6563 - val_accuracy: 0.8312\n",
      "Epoch 2/6\n",
      "394/394 [==============================] - 138s 351ms/step - loss: 0.5459 - accuracy: 0.8591 - val_loss: 0.4494 - val_accuracy: 0.8827\n",
      "Epoch 3/6\n",
      "394/394 [==============================] - 145s 369ms/step - loss: 0.4074 - accuracy: 0.8910 - val_loss: 0.3699 - val_accuracy: 0.8984\n",
      "Epoch 4/6\n",
      "394/394 [==============================] - 138s 350ms/step - loss: 0.3426 - accuracy: 0.9051 - val_loss: 0.3307 - val_accuracy: 0.9074\n",
      "Epoch 5/6\n",
      "394/394 [==============================] - 143s 364ms/step - loss: 0.3030 - accuracy: 0.9141 - val_loss: 0.3038 - val_accuracy: 0.9136\n",
      "Epoch 6/6\n",
      "394/394 [==============================] - 143s 363ms/step - loss: 0.2764 - accuracy: 0.9203 - val_loss: 0.2872 - val_accuracy: 0.9177\n"
     ]
    },
    {
     "data": {
      "text/html": [
       "Waiting for W&B process to finish... <strong style=\"color:green\">(success).</strong>"
      ],
      "text/plain": [
       "<IPython.core.display.HTML object>"
      ]
     },
     "metadata": {},
     "output_type": "display_data"
    },
    {
     "data": {
      "application/vnd.jupyter.widget-view+json": {
       "model_id": "3ea4b5684e354e449d6b6a2675aac58f",
       "version_major": 2,
       "version_minor": 0
      },
      "text/plain": [
       "VBox(children=(Label(value='0.001 MB of 0.001 MB uploaded (0.000 MB deduped)\\r'), FloatProgress(value=1.0, max…"
      ]
     },
     "metadata": {},
     "output_type": "display_data"
    },
    {
     "data": {
      "text/html": [
       "<style>\n",
       "    table.wandb td:nth-child(1) { padding: 0 10px; text-align: left ; width: auto;} td:nth-child(2) {text-align: left ; width: 100%}\n",
       "    .wandb-row { display: flex; flex-direction: row; flex-wrap: wrap; justify-content: flex-start; width: 100% }\n",
       "    .wandb-col { display: flex; flex-direction: column; flex-basis: 100%; flex: 1; padding: 10px; }\n",
       "    </style>\n",
       "<div class=\"wandb-row\"><div class=\"wandb-col\"><h3>Run history:</h3><br/><table class=\"wandb\"><tr><td>val_accuracy</td><td>▁</td></tr><tr><td>val_loss</td><td>▁</td></tr></table><br/></div><div class=\"wandb-col\"><h3>Run summary:</h3><br/><table class=\"wandb\"><tr><td>val_accuracy</td><td>0.91766</td></tr><tr><td>val_loss</td><td>0.28723</td></tr></table><br/></div></div>"
      ],
      "text/plain": [
       "<IPython.core.display.HTML object>"
      ]
     },
     "metadata": {},
     "output_type": "display_data"
    },
    {
     "data": {
      "text/html": [
       " View run <strong style=\"color:#cdcd00\">glamorous-sweep-7</strong> at: <a href='https://wandb.ai/xkretinin/uncategorized/runs/3kxhrds1' target=\"_blank\">https://wandb.ai/xkretinin/uncategorized/runs/3kxhrds1</a><br/>Synced 5 W&B file(s), 0 media file(s), 0 artifact file(s) and 0 other file(s)"
      ],
      "text/plain": [
       "<IPython.core.display.HTML object>"
      ]
     },
     "metadata": {},
     "output_type": "display_data"
    },
    {
     "data": {
      "text/html": [
       "Find logs at: <code>.\\wandb\\run-20230505_153035-3kxhrds1\\logs</code>"
      ],
      "text/plain": [
       "<IPython.core.display.HTML object>"
      ]
     },
     "metadata": {},
     "output_type": "display_data"
    },
    {
     "name": "stderr",
     "output_type": "stream",
     "text": [
      "\u001b[34m\u001b[1mwandb\u001b[0m: Agent Starting Run: 2ogrhb2u with config:\n",
      "\u001b[34m\u001b[1mwandb\u001b[0m: \tbatch_size_divisor: 2\n",
      "\u001b[34m\u001b[1mwandb\u001b[0m: \tdropout: 0.2\n",
      "\u001b[34m\u001b[1mwandb\u001b[0m: \tepochs: 6\n",
      "\u001b[34m\u001b[1mwandb\u001b[0m: \tlearning_rate: 0.0008788700890802599\n",
      "\u001b[34m\u001b[1mwandb\u001b[0m: \toptimizer: RMSprop\n"
     ]
    },
    {
     "data": {
      "text/html": [
       "wandb version 0.15.1 is available!  To upgrade, please run:\n",
       " $ pip install wandb --upgrade"
      ],
      "text/plain": [
       "<IPython.core.display.HTML object>"
      ]
     },
     "metadata": {},
     "output_type": "display_data"
    },
    {
     "data": {
      "text/html": [
       "Tracking run with wandb version 0.13.10"
      ],
      "text/plain": [
       "<IPython.core.display.HTML object>"
      ]
     },
     "metadata": {},
     "output_type": "display_data"
    },
    {
     "data": {
      "text/html": [
       "Run data is saved locally in <code>C:\\Programming\\NN_cvika\\NN2023_MLP_abalone_age_prediction\\wandb\\run-20230505_154508-2ogrhb2u</code>"
      ],
      "text/plain": [
       "<IPython.core.display.HTML object>"
      ]
     },
     "metadata": {},
     "output_type": "display_data"
    },
    {
     "data": {
      "text/html": [
       "Syncing run <strong><a href='https://wandb.ai/xkretinin/uncategorized/runs/2ogrhb2u' target=\"_blank\">celestial-sweep-8</a></strong> to <a href='https://wandb.ai/xkretinin/uncategorized' target=\"_blank\">Weights & Biases</a> (<a href='https://wandb.me/run' target=\"_blank\">docs</a>)<br/>Sweep page: <a href='https://wandb.ai/xkretinin/uncategorized/sweeps/fla4xvjo' target=\"_blank\">https://wandb.ai/xkretinin/uncategorized/sweeps/fla4xvjo</a>"
      ],
      "text/plain": [
       "<IPython.core.display.HTML object>"
      ]
     },
     "metadata": {},
     "output_type": "display_data"
    },
    {
     "data": {
      "text/html": [
       " View project at <a href='https://wandb.ai/xkretinin/uncategorized' target=\"_blank\">https://wandb.ai/xkretinin/uncategorized</a>"
      ],
      "text/plain": [
       "<IPython.core.display.HTML object>"
      ]
     },
     "metadata": {},
     "output_type": "display_data"
    },
    {
     "data": {
      "text/html": [
       " View sweep at <a href='https://wandb.ai/xkretinin/uncategorized/sweeps/fla4xvjo' target=\"_blank\">https://wandb.ai/xkretinin/uncategorized/sweeps/fla4xvjo</a>"
      ],
      "text/plain": [
       "<IPython.core.display.HTML object>"
      ]
     },
     "metadata": {},
     "output_type": "display_data"
    },
    {
     "data": {
      "text/html": [
       " View run at <a href='https://wandb.ai/xkretinin/uncategorized/runs/2ogrhb2u' target=\"_blank\">https://wandb.ai/xkretinin/uncategorized/runs/2ogrhb2u</a>"
      ],
      "text/plain": [
       "<IPython.core.display.HTML object>"
      ]
     },
     "metadata": {},
     "output_type": "display_data"
    },
    {
     "name": "stdout",
     "output_type": "stream",
     "text": [
      "Model: \"model\"\n",
      "_________________________________________________________________\n",
      " Layer (type)                Output Shape              Param #   \n",
      "=================================================================\n",
      " input_1 (InputLayer)        [(None, 512)]             0         \n",
      "                                                                 \n",
      " embedding (Embedding)       (None, 512, 100)          95134600  \n",
      "                                                                 \n",
      " bidirectional (Bidirectiona  (None, 512, 200)         160800    \n",
      " l)                                                              \n",
      "                                                                 \n",
      " dropout (Dropout)           (None, 512, 200)          0         \n",
      "                                                                 \n",
      " bidirectional_1 (Bidirectio  (None, 512, 200)         240800    \n",
      " nal)                                                            \n",
      "                                                                 \n",
      " time_distributed (TimeDistr  (None, 512, 500)         100500    \n",
      " ibuted)                                                         \n",
      "                                                                 \n",
      " time_distributed_1 (TimeDis  (None, 512, 250)         125250    \n",
      " tributed)                                                       \n",
      "                                                                 \n",
      " dense_2 (Dense)             (None, 512, 125)          31375     \n",
      "                                                                 \n",
      "=================================================================\n",
      "Total params: 95,793,325\n",
      "Trainable params: 95,793,325\n",
      "Non-trainable params: 0\n",
      "_________________________________________________________________\n",
      "Epoch 1/6\n",
      "394/394 [==============================] - 153s 366ms/step - loss: 0.9513 - accuracy: 0.8011 - val_loss: 0.6907 - val_accuracy: 0.8255\n",
      "Epoch 2/6\n",
      "394/394 [==============================] - 145s 367ms/step - loss: 0.5386 - accuracy: 0.8619 - val_loss: 0.4615 - val_accuracy: 0.8796\n",
      "Epoch 3/6\n",
      "394/394 [==============================] - 144s 367ms/step - loss: 0.3966 - accuracy: 0.8937 - val_loss: 0.3688 - val_accuracy: 0.8987\n",
      "Epoch 4/6\n",
      "394/394 [==============================] - 146s 370ms/step - loss: 0.3346 - accuracy: 0.9068 - val_loss: 0.3287 - val_accuracy: 0.9078\n",
      "Epoch 5/6\n",
      "394/394 [==============================] - 145s 369ms/step - loss: 0.2973 - accuracy: 0.9152 - val_loss: 0.3050 - val_accuracy: 0.9129\n",
      "Epoch 6/6\n",
      "394/394 [==============================] - 145s 368ms/step - loss: 0.2714 - accuracy: 0.9214 - val_loss: 0.2927 - val_accuracy: 0.9164\n"
     ]
    },
    {
     "data": {
      "text/html": [
       "Waiting for W&B process to finish... <strong style=\"color:green\">(success).</strong>"
      ],
      "text/plain": [
       "<IPython.core.display.HTML object>"
      ]
     },
     "metadata": {},
     "output_type": "display_data"
    },
    {
     "data": {
      "application/vnd.jupyter.widget-view+json": {
       "model_id": "25343f17b64d4668996ec0d5a7cf4ba5",
       "version_major": 2,
       "version_minor": 0
      },
      "text/plain": [
       "VBox(children=(Label(value='0.001 MB of 0.001 MB uploaded (0.000 MB deduped)\\r'), FloatProgress(value=1.0, max…"
      ]
     },
     "metadata": {},
     "output_type": "display_data"
    },
    {
     "data": {
      "text/html": [
       "<style>\n",
       "    table.wandb td:nth-child(1) { padding: 0 10px; text-align: left ; width: auto;} td:nth-child(2) {text-align: left ; width: 100%}\n",
       "    .wandb-row { display: flex; flex-direction: row; flex-wrap: wrap; justify-content: flex-start; width: 100% }\n",
       "    .wandb-col { display: flex; flex-direction: column; flex-basis: 100%; flex: 1; padding: 10px; }\n",
       "    </style>\n",
       "<div class=\"wandb-row\"><div class=\"wandb-col\"><h3>Run history:</h3><br/><table class=\"wandb\"><tr><td>val_accuracy</td><td>▁</td></tr><tr><td>val_loss</td><td>▁</td></tr></table><br/></div><div class=\"wandb-col\"><h3>Run summary:</h3><br/><table class=\"wandb\"><tr><td>val_accuracy</td><td>0.91637</td></tr><tr><td>val_loss</td><td>0.29266</td></tr></table><br/></div></div>"
      ],
      "text/plain": [
       "<IPython.core.display.HTML object>"
      ]
     },
     "metadata": {},
     "output_type": "display_data"
    },
    {
     "data": {
      "text/html": [
       " View run <strong style=\"color:#cdcd00\">celestial-sweep-8</strong> at: <a href='https://wandb.ai/xkretinin/uncategorized/runs/2ogrhb2u' target=\"_blank\">https://wandb.ai/xkretinin/uncategorized/runs/2ogrhb2u</a><br/>Synced 5 W&B file(s), 0 media file(s), 0 artifact file(s) and 0 other file(s)"
      ],
      "text/plain": [
       "<IPython.core.display.HTML object>"
      ]
     },
     "metadata": {},
     "output_type": "display_data"
    },
    {
     "data": {
      "text/html": [
       "Find logs at: <code>.\\wandb\\run-20230505_154508-2ogrhb2u\\logs</code>"
      ],
      "text/plain": [
       "<IPython.core.display.HTML object>"
      ]
     },
     "metadata": {},
     "output_type": "display_data"
    }
   ],
   "source": [
    "sweep_config = {\n",
    "    'method': 'random',\n",
    "    'metric': {\n",
    "        'name': 'val_accuracy',\n",
    "        'goal': 'maximize'\n",
    "    },\n",
    "    'parameters': {\n",
    "        'dropout': {\n",
    "            'values': [0.2, 0.3, 0.4, 0.5, 0.6]\n",
    "        },\n",
    "        'batch_size_divisor': {\n",
    "            'values': [2]\n",
    "        },\n",
    "        'optimizer': {\n",
    "            'values': ['Nadam', 'Adam', 'RMSprop']\n",
    "        },\n",
    "        'learning_rate': {\n",
    "            'min': 0.0001,\n",
    "            'max': 0.001\n",
    "        },\n",
    "        'epochs': {\n",
    "            'values': [6]\n",
    "        }\n",
    "    }\n",
    "}\n",
    "\n",
    "sweep_id = wandb.sweep(sweep_config)\n",
    "\n",
    "wandb.agent(sweep_id, function=train, count=8)"
   ]
  },
  {
   "cell_type": "code",
   "execution_count": 11,
   "id": "d7e4e032",
   "metadata": {},
   "outputs": [
    {
     "name": "stderr",
     "output_type": "stream",
     "text": [
      "\u001b[34m\u001b[1mwandb\u001b[0m: Sorting runs by -summary_metrics.val_accuracy\n",
      "\u001b[34m\u001b[1mwandb\u001b[0m: Sorting runs by -summary_metrics.val_accuracy\n"
     ]
    },
    {
     "name": "stdout",
     "output_type": "stream",
     "text": [
      "Best run config:\n",
      "{'epochs': 6, 'dropout': 0.3, 'optimizer': 'RMSprop', 'learning_rate': 0.0009508729384534216, 'batch_size_divisor': 2}\n",
      "Validation accuracy: 0.9176594018936156\n"
     ]
    }
   ],
   "source": [
    "# sweep_obj = wandb.Api().sweep('peter-kudela/uncategorized/sweeps/' + sweep_id)\n",
    "sweep_obj = wandb.Api().sweep('xkretinin/uncategorized/sweeps/' + sweep_id)\n",
    "best_config = sweep_obj.best_run().config\n",
    "\n",
    "print(\"Best run config:\")\n",
    "print(best_config)\n",
    "print(f\"Validation accuracy: {sweep_obj.best_run().summary['val_accuracy']}\")"
   ]
  },
  {
   "cell_type": "code",
   "execution_count": 12,
   "id": "2e665628",
   "metadata": {},
   "outputs": [
    {
     "name": "stdout",
     "output_type": "stream",
     "text": [
      "Model: \"model\"\n",
      "_________________________________________________________________\n",
      " Layer (type)                Output Shape              Param #   \n",
      "=================================================================\n",
      " input_1 (InputLayer)        [(None, 512)]             0         \n",
      "                                                                 \n",
      " embedding (Embedding)       (None, 512, 100)          95134600  \n",
      "                                                                 \n",
      " bidirectional (Bidirectiona  (None, 512, 200)         160800    \n",
      " l)                                                              \n",
      "                                                                 \n",
      " dropout (Dropout)           (None, 512, 200)          0         \n",
      "                                                                 \n",
      " bidirectional_1 (Bidirectio  (None, 512, 200)         240800    \n",
      " nal)                                                            \n",
      "                                                                 \n",
      " time_distributed (TimeDistr  (None, 512, 500)         100500    \n",
      " ibuted)                                                         \n",
      "                                                                 \n",
      " time_distributed_1 (TimeDis  (None, 512, 250)         125250    \n",
      " tributed)                                                       \n",
      "                                                                 \n",
      " dense_2 (Dense)             (None, 512, 125)          31375     \n",
      "                                                                 \n",
      "=================================================================\n",
      "Total params: 95,793,325\n",
      "Trainable params: 95,793,325\n",
      "Non-trainable params: 0\n",
      "_________________________________________________________________\n",
      "Epoch 1/6\n",
      "394/394 [==============================] - 144s 348ms/step - loss: 0.9381 - accuracy: 0.8029 - val_loss: 0.6756 - val_accuracy: 0.8261\n",
      "Epoch 2/6\n",
      "394/394 [==============================] - 88s 224ms/step - loss: 0.5359 - accuracy: 0.8611 - val_loss: 0.4294 - val_accuracy: 0.8864\n",
      "Epoch 3/6\n",
      "394/394 [==============================] - 82s 209ms/step - loss: 0.3968 - accuracy: 0.8935 - val_loss: 0.3700 - val_accuracy: 0.8983\n",
      "Epoch 4/6\n",
      "394/394 [==============================] - 82s 207ms/step - loss: 0.3382 - accuracy: 0.9061 - val_loss: 0.3251 - val_accuracy: 0.9088\n",
      "Epoch 5/6\n",
      "394/394 [==============================] - 82s 208ms/step - loss: 0.3006 - accuracy: 0.9146 - val_loss: 0.3045 - val_accuracy: 0.9126\n",
      "Epoch 6/6\n",
      "394/394 [==============================] - 82s 208ms/step - loss: 0.2740 - accuracy: 0.9208 - val_loss: 0.2904 - val_accuracy: 0.9154\n"
     ]
    }
   ],
   "source": [
    "model = build_model(best_config['dropout'], best_config['optimizer'], best_config['learning_rate'])\n",
    "history = model.fit(\n",
    "            x=x_train,\n",
    "            y=y_train,\n",
    "            validation_split=0.1,\n",
    "            batch_size=int(max_len/best_config['batch_size_divisor']),\n",
    "            epochs=best_config['epochs'],\n",
    "            verbose=1\n",
    "        )"
   ]
  },
  {
   "cell_type": "code",
   "execution_count": 13,
   "id": "68dd0524",
   "metadata": {},
   "outputs": [],
   "source": [
    "idx2tag = {v: k for k, v in tag2idx.items()}\n",
    "idx2word = {i: w for w, i in word2idx.items()}"
   ]
  },
  {
   "cell_type": "code",
   "execution_count": 14,
   "id": "303c8776",
   "metadata": {},
   "outputs": [],
   "source": [
    "def visualize_history(history):\n",
    "    plt.plot(history.history['accuracy'])\n",
    "    plt.plot(history.history['val_accuracy'])\n",
    "    plt.title('Model accuracy')\n",
    "    plt.ylabel('Accuracy')\n",
    "    plt.xlabel('Epoch')\n",
    "    plt.legend(['Training', 'Validation'])\n",
    "    plt.show()"
   ]
  },
  {
   "cell_type": "code",
   "execution_count": 15,
   "id": "9a16aa03",
   "metadata": {},
   "outputs": [],
   "source": [
    "def plot_history(history):\n",
    "    plt.style.use('ggplot')\n",
    "    accuracy = history.history['accuracy']\n",
    "    val_accuracy = history.history['val_accuracy']\n",
    "    loss = history.history['loss']\n",
    "    val_loss = history.history['val_loss']\n",
    "    x = range(1, len(accuracy) + 1)\n",
    "\n",
    "    plt.figure(figsize=(12, 5))\n",
    "    plt.subplot(1, 2, 1)\n",
    "    plt.plot(x, accuracy, 'b', label='Training acc')\n",
    "    plt.plot(x, val_accuracy, 'r', label='Validation acc')\n",
    "    plt.title('Training and validation accuracy')\n",
    "    plt.xlabel('Epoch')\n",
    "    plt.legend()\n",
    "    plt.subplot(1, 2, 2)\n",
    "    plt.plot(x, loss, 'b', label='Training loss')\n",
    "    plt.plot(x, val_loss, 'r', label='Validation loss')\n",
    "    plt.title('Training and validation loss')\n",
    "    plt.xlabel('Epoch')\n",
    "    plt.legend()\n",
    "    plt.show()"
   ]
  },
  {
   "cell_type": "code",
   "execution_count": 16,
   "id": "95852439",
   "metadata": {},
   "outputs": [
    {
     "data": {
      "image/png": "[encoded data removed]",
      "text/plain": [
       "<Figure size 640x480 with 1 Axes>"
      ]
     },
     "metadata": {},
     "output_type": "display_data"
    }
   ],
   "source": [
    "visualize_history(history)"
   ]
  },
  {
   "cell_type": "code",
   "execution_count": 17,
   "id": "b43da323",
   "metadata": {},
   "outputs": [
    {
     "data": {
      "image/png": "[encoded data removed]",
      "text/plain": [
       "<Figure size 1200x500 with 2 Axes>"
      ]
     },
     "metadata": {},
     "output_type": "display_data"
    }
   ],
   "source": [
    "plot_history(history)"
   ]
  },
  {
   "cell_type": "code",
   "execution_count": 18,
   "id": "330798fa",
   "metadata": {},
   "outputs": [
    {
     "name": "stdout",
     "output_type": "stream",
     "text": [
      "1/1 [==============================] - 1s 705ms/step\n",
      "Word           True \t Pred\n",
      "\n",
      "------------------------------\n",
      "ranked         Other\tOther\n",
      "either         Other\tOther\n",
      "by             Other\tOther\n",
      "p              B-GENE_OR_GENOME\tB-GENE_OR_GENOME\n",
      "value          I-GENE_OR_GENOME\tI-GENE_OR_GENOME\n",
      "(eigenstrat,   Other\tOther\n",
      "emmax-grm      B-CHEMICAL\tB-CHEMICAL\n",
      "and            Other\tOther\n",
      "fvr            B-GENE_OR_GENOME\tB-GENE_OR_GENOME\n",
      "or             Other\tOther\n",
      "by             Other\tOther\n",
      "pve            B-GENE_OR_GENOME\tB-GENE_OR_GENOME\n",
      "gblup          B-CHEMICAL\tB-CHEMICAL\n",
      "from           Other\tOther\n",
      "1              Other\tOther\n",
      "(most          Other\tOther\n",
      "significant    Other\tOther\n",
      "snp)           Other\tOther\n",
      "to             Other\tOther\n",
      "2,000.         Other\tOther\n",
      "for            Other\tOther\n",
      "comparisons    Other\tOther\n",
      "of             Other\tOther\n",
      "snps           Other\tOther\n",
      "that           Other\tOther\n",
      "were           Other\tOther\n",
      "associated     Other\tOther\n",
      "with           Other\tOther\n",
      "brdc           Other\tOther\n",
      "susceptibility Other\tOther\n",
      "across         Other\tOther\n",
      "all            Other\tOther\n",
      "statistical    Other\tOther\n",
      "methodologies  Other\tOther\n",
      "(eigenstrat,   Other\tOther\n",
      "emmax-grm      B-CHEMICAL\tB-CHEMICAL\n",
      "fvr            B-GENE_OR_GENOME\tB-GENE_OR_GENOME\n",
      "and            Other\tOther\n",
      "gblup          B-CHEMICAL\tB-CHEMICAL\n",
      "as             Other\tOther\n",
      "shown          Other\tOther\n",
      "in             Other\tOther\n",
      "tables         Other\tOther\n",
      "3,             Other\tOther\n",
      "4              Other\tOther\n",
      "and            Other\tOther\n",
      "5              B-DATE\tOther\n",
      "the            Other\tOther\n",
      "ranking        Other\tOther\n",
      "of             Other\tOther\n",
      "the            Other\tOther\n",
      "snp            Other\tOther\n",
      "in             Other\tOther\n",
      "each           Other\tOther\n",
      "method         Other\tOther\n",
      "was            Other\tOther\n",
      "summed         Other\tOther\n",
      "to             Other\tOther\n",
      "arrive         Other\tOther\n",
      "at             Other\tOther\n",
      "a              Other\tOther\n",
      "composite      Other\tOther\n",
      "ranking.       Other\tOther\n",
      "snps           Other\tOther\n",
      "with           Other\tOther\n",
      "a              Other\tOther\n",
      "composite      Other\tOther\n",
      "ranking        Other\tOther\n",
      "that           Other\tOther\n",
      "was            Other\tOther\n",
      "less           B-CARDINAL\tB-CARDINAL\n",
      "than           I-CARDINAL\tI-CARDINAL\n",
      "1000           I-CARDINAL\tI-CARDINAL\n",
      "across         Other\tOther\n",
      "all            Other\tOther\n",
      "methods        Other\tOther\n",
      "are            Other\tOther\n",
      "provided       Other\tOther\n",
      "in             Other\tOther\n",
      "tables         Other\tOther\n",
      "3,             Other\tOther\n",
      "4              Other\tOther\n",
      "and            Other\tOther\n",
      "5              B-DATE\tOther\n",
      "qtl            B-GENE_OR_GENOME\tB-GENE_OR_GENOME\n",
      "were           Other\tOther\n",
      "defined        Other\tOther\n",
      "by             Other\tOther\n",
      "the            Other\tOther\n",
      "number         Other\tOther\n",
      "of             Other\tOther\n",
      "top            Other\tOther\n",
      "ranked         Other\tOther\n",
      "snps           Other\tOther\n",
      "that           Other\tOther\n",
      "were           Other\tOther\n",
      "associated     Other\tOther\n",
      "with           Other\tOther\n",
      "brdc           Other\tOther\n",
      "susceptibility Other\tOther\n",
      "for            Other\tOther\n",
      "a              Other\tOther\n",
      "genomic        Other\tOther\n",
      "region         Other\tOther\n",
      "within         Other\tOther\n",
      "each           Other\tOther\n",
      "statistical    Other\tOther\n",
      "method.        Other\tOther\n",
      "for            Other\tOther\n",
      "example,       Other\tOther\n",
      "if             Other\tOther\n",
      "a              Other\tOther\n",
      "single         Other\tOther\n",
      "snp            Other\tOther\n",
      "within         Other\tOther\n",
      "a              Other\tOther\n",
      "region         Other\tOther\n",
      "was            Other\tOther\n",
      "among          Other\tOther\n",
      "the            Other\tOther\n",
      "top            Other\tOther\n",
      "ranked         Other\tOther\n",
      "snps,          Other\tOther\n",
      "the            Other\tOther\n",
      "locus          Other\tOther\n",
      "would          Other\tOther\n",
      "be             Other\tOther\n",
      "defined        Other\tOther\n",
      "by             Other\tOther\n",
      "the            Other\tOther\n",
      "single         Other\tOther\n",
      "snp.           Other\tOther\n",
      "however,       Other\tOther\n",
      "if             Other\tOther\n",
      "several        Other\tOther\n",
      "highly         B-GENE_OR_GENOME\tOther\n",
      "ranked         I-GENE_OR_GENOME\tI-GENE_OR_GENOME\n",
      "snps           Other\tOther\n",
      "were           Other\tOther\n",
      "in             Other\tOther\n",
      "close          Other\tOther\n",
      "proximity      Other\tOther\n",
      "to             Other\tOther\n",
      "one            Other\tOther\n",
      "another,       Other\tOther\n",
      "the            Other\tOther\n",
      "qtl            B-GENE_OR_GENOME\tB-GENE_OR_GENOME\n",
      "would          Other\tOther\n",
      "be             Other\tOther\n",
      "defined        Other\tOther\n",
      "by             Other\tOther\n",
      "the            Other\tOther\n",
      "chromosomal    B-CELL_COMPONENT\tB-CELL_COMPONENT\n",
      "location       Other\tOther\n",
      "of             Other\tOther\n",
      "the            Other\tOther\n",
      "outermost      B-CELL_COMPONENT\tB-CELL_COMPONENT\n",
      "snps           Other\tOther\n",
      "in             Other\tOther\n",
      "that           Other\tOther\n",
      "region.        Other\tOther\n",
      "an             Other\tOther\n",
      "example        Other\tOther\n",
      "of             Other\tOther\n",
      "this           Other\tOther\n",
      "would          Other\tOther\n",
      "be             Other\tOther\n",
      "the            Other\tOther\n",
      "qtl            B-GENE_OR_GENOME\tB-GENE_OR_GENOME\n",
      "on             Other\tOther\n",
      "bta4           B-GENE_OR_GENOME\tB-DATE\n",
      "48             B-DATE\tB-DATE\n",
      "(49)           Other\tOther\n",
      "in             Other\tOther\n",
      "the            Other\tOther\n",
      "ca             Other\tOther\n",
      "+              Other\tOther\n",
      "nm             Other\tOther\n",
      "population     Other\tOther\n",
      "where          Other\tOther\n",
      "the            Other\tOther\n",
      "qtl            B-GENE_OR_GENOME\tB-GENE_OR_GENOME\n",
      "is             Other\tOther\n",
      "defined        Other\tOther\n",
      "by             Other\tOther\n",
      "7              Other\tOther\n",
      "snps           Other\tOther\n",
      "within         Other\tOther\n",
      "the            Other\tOther\n",
      "region         Other\tOther\n",
      "48             Other\tB-DATE\n",
      "052            B-DATE\tOther\n",
      "484            B-CARDINAL\tB-CARDINAL\n",
      "to             Other\tOther\n",
      "48             Other\tOther\n",
      "149            B-CARDINAL\tB-CARDINAL\n",
      "487            B-CARDINAL\tB-CARDINAL\n",
      "----------------------------\n",
      "1/1 [==============================] - 0s 45ms/step\n",
      "Word           True \t Pred\n",
      "\n",
      "------------------------------\n",
      "and            Other\tOther\n",
      "imaged         Other\tOther\n",
      "as             Other\tOther\n",
      "described      Other\tOther\n",
      "above.         Other\tOther\n",
      "sections       B-TISSUE\tB-TISSUE\n",
      "were           Other\tOther\n",
      "subsequently   Other\tOther\n",
      "stained        Other\tOther\n",
      "with           Other\tOther\n",
      "hematoxylin    B-CHEMICAL\tB-CHEMICAL\n",
      "and            Other\tOther\n",
      "eosin          B-CHEMICAL\tB-CHEMICAL\n",
      "and            Other\tOther\n",
      "reimaged.      Other\tB-GENE_OR_GENOME\n",
      "nucleotide     B-GENE_OR_GENOME\tI-CHEMICAL\n",
      "sequence       I-GENE_OR_GENOME\tI-GENE_OR_GENOME\n",
      "accession      I-GENE_OR_GENOME\tI-GENE_OR_GENOME\n",
      "numbers        I-GENE_OR_GENOME\tI-GENE_OR_GENOME\n",
      "the            Other\tOther\n",
      "complete       Other\tOther\n",
      "data           Other\tOther\n",
      "set            Other\tOther\n",
      "for            Other\tOther\n",
      "all            Other\tOther\n",
      "samples        Other\tOther\n",
      "is             Other\tOther\n",
      "available      Other\tOther\n",
      "from           Other\tOther\n",
      "the            Other\tOther\n",
      "ncbi           Other\tOther\n",
      "short          Other\tOther\n",
      "read           Other\tOther\n",
      "archive        Other\tOther\n",
      "(accession     Other\tOther\n",
      "no.            Other\tOther\n",
      "sra053624      B-CHEMICAL\tB-CHEMICAL\n",
      ".              Other\tOther\n",
      "the            Other\tOther\n",
      "complete       B-CELL_COMPONENT\tOther\n",
      "genome         I-CELL_COMPONENT\tOther\n",
      "sequences      I-CELL_COMPONENT\tOther\n",
      "of             Other\tOther\n",
      "casv           B-CHEMICAL\tB-CHEMICAL\n",
      "and            Other\tOther\n",
      "ggv            B-CHEMICAL\tB-CHEMICAL\n",
      "have           Other\tOther\n",
      "been           Other\tOther\n",
      "deposited      Other\tOther\n",
      "with           Other\tOther\n",
      "the            Other\tOther\n",
      "ncbi           Other\tOther\n",
      "under          Other\tOther\n",
      "accession      Other\tB-GENE_OR_GENOME\n",
      "numbers        Other\tI-GENE_OR_GENOME\n",
      "jq717261       B-PRODUCT\tOther\n",
      "to             Other\tOther\n",
      "jq717264       B-ORG\tOther\n",
      "supplemental   B-GENE_OR_GENOME\tB-GENE_OR_GENOME\n",
      "material       I-GENE_OR_GENOME\tI-GENE_OR_GENOME\n",
      "for            Other\tOther\n",
      "this           Other\tOther\n",
      "article        Other\tOther\n",
      "may            Other\tOther\n",
      "be             Other\tOther\n",
      "found          Other\tOther\n",
      "at             Other\tOther\n",
      "http://mbio    Other\tOther\n",
      "asm            B-GENE_OR_GENOME\tB-GENE_OR_GENOME\n",
      "org            B-CHEMICAL\tB-CHEMICAL\n",
      "/lookup/suppl/doi:10I-CHEMICAL\tI-CHEMICAL\n",
      "1128           B-DATE\tB-DATE\n",
      "mbio           Other\tOther\n",
      "00180-12       B-DATE\tB-DATE\n",
      "-/dcsupplemental.Other\tOther\n",
      "table          B-CHEMICAL\tB-GENE_OR_GENOME\n",
      "s1             I-CHEMICAL\tI-GENE_OR_GENOME\n",
      ",              Other\tOther\n",
      "pdf            Other\tOther\n",
      "file,          Other\tOther\n",
      "0.1            B-QUANTITY\tB-QUANTITY\n",
      "mb             I-QUANTITY\tI-QUANTITY\n",
      "figure         B-GENE_OR_GENOME\tB-CHEMICAL\n",
      "s1             I-GENE_OR_GENOME\tI-CHEMICAL\n",
      ",              Other\tOther\n",
      "pdf            Other\tOther\n",
      "file,          Other\tOther\n",
      "0.3            B-QUANTITY\tB-QUANTITY\n",
      "mb             I-QUANTITY\tI-QUANTITY\n",
      "----------------------------\n"
     ]
    },
    {
     "name": "stdout",
     "output_type": "stream",
     "text": [
      "1/1 [==============================] - 0s 46ms/step\n",
      "Word           True \t Pred\n",
      "\n",
      "------------------------------\n",
      "cytrx          I-ORG\tB-ORG\n",
      "corporation    I-ORG\tI-ORG\n",
      "are            Other\tOther\n",
      "concentrated   Other\tOther\n",
      "in             Other\tOther\n",
      "the            Other\tOther\n",
      "development    Other\tOther\n",
      "of             Other\tOther\n",
      "small          B-PERSON\tB-GENE_OR_GENOME\n",
      "molecule       I-PERSON\tI-GENE_OR_GENOME\n",
      "drugs          B-THERAPEUTIC_OR_PREVENTIVE_PROCEDURE\tB-THERAPEUTIC_OR_PREVENTIVE_PROCEDURE\n",
      "rnai           B-MOLECULAR_FUNCTION\tB-MOLECULAR_FUNCTION\n",
      "drug           Other\tOther\n",
      "discovery      Other\tOther\n",
      "and            Other\tOther\n",
      "dna            B-CELL_COMPONENT\tB-CELL_COMPONENT\n",
      "vaccines       B-CHEMICAL\tB-CHEMICAL\n",
      "and            Other\tOther\n",
      "a              Other\tOther\n",
      "delivery       Other\tOther\n",
      "technology     Other\tOther\n",
      "with           Other\tOther\n",
      "multiple       Other\tOther\n",
      "applications   B-THERAPEUTIC_OR_PREVENTIVE_PROCEDURE\tB-THERAPEUTIC_OR_PREVENTIVE_PROCEDURE\n",
      "in             Other\tOther\n",
      "the            Other\tOther\n",
      "area           Other\tOther\n",
      "of             Other\tOther\n",
      "dna            B-CELL_COMPONENT\tB-CELL_COMPONENT\n",
      "vaccine        B-CHEMICAL\tB-CHEMICAL\n",
      "and            Other\tOther\n",
      "gene           B-THERAPEUTIC_OR_PREVENTIVE_PROCEDURE\tB-THERAPEUTIC_OR_PREVENTIVE_PROCEDURE\n",
      "therapy        I-THERAPEUTIC_OR_PREVENTIVE_PROCEDURE\tI-THERAPEUTIC_OR_PREVENTIVE_PROCEDURE\n",
      "its            Other\tOther\n",
      "proprietary    Other\tOther\n",
      "poloxamer      B-CHEMICAL\tB-CHEMICAL\n",
      "compound       I-CHEMICAL\tI-CHEMICAL\n",
      "tranzfect      B-CHEMICAL\tB-CHEMICAL\n",
      "has            Other\tOther\n",
      "revealed       Other\tOther\n",
      "good           Other\tOther\n",
      "results        Other\tOther\n",
      "regarding      Other\tOther\n",
      "its            Other\tOther\n",
      "transfection   B-RESEARCH_ACTIVITY\tB-RESEARCH_ACTIVITY\n",
      "ability,       Other\tOther\n",
      "immunoadjuvant B-CHEMICAL\tB-CHEMICAL\n",
      "activity       Other\tOther\n",
      "and            Other\tOther\n",
      "toxicity       B-DISEASE_OR_SYNDROME\tB-DISEASE_OR_SYNDROME\n",
      "profi          B-CELL_COMPONENT\tB-GENE_OR_GENOME\n",
      "le             I-CELL_COMPONENT\tOther\n",
      "as             Other\tOther\n",
      "prerequisites  Other\tOther\n",
      "for            Other\tOther\n",
      "dna-based      B-CELL_COMPONENT\tB-CELL_COMPONENT\n",
      "vaccines       I-CELL_COMPONENT\tI-CELL_COMPONENT\n",
      "this           Other\tOther\n",
      "company        Other\tOther\n",
      "also           Other\tOther\n",
      "participates   Other\tOther\n",
      "in             Other\tOther\n",
      "the            Other\tOther\n",
      "development    Other\tOther\n",
      "of             Other\tOther\n",
      "gene-silencing Other\tOther\n",
      "technologies   Other\tOther\n",
      "for            Other\tOther\n",
      "treatment      Other\tOther\n",
      "of             Other\tOther\n",
      "amyotrophic    B-DISEASE_OR_SYNDROME\tB-LOC\n",
      "lateral        I-DISEASE_OR_SYNDROME\tI-LOC\n",
      "sclerosis      I-DISEASE_OR_SYNDROME\tI-DISEASE_OR_SYNDROME\n",
      "type           B-CHEMICAL\tOther\n",
      "ii             I-CHEMICAL\tOther\n",
      "diabetes       I-CHEMICAL\tB-DISEASE_OR_SYNDROME\n",
      "cmv            B-CHEMICAL\tB-GENE_OR_GENOME\n",
      "retinitis      I-CHEMICAL\tB-DISEASE_OR_SYNDROME\n",
      "obesity        B-DISEASE_OR_SYNDROME\tB-DISEASE_OR_SYNDROME\n",
      "and            Other\tOther\n",
      "cancer         B-DISEASE_OR_SYNDROME\tB-DISEASE_OR_SYNDROME\n",
      "targeting      Other\tOther\n",
      "of             Other\tOther\n",
      "the            Other\tOther\n",
      "epidermal      B-GENE_OR_GENOME\tB-GENE_OR_GENOME\n",
      "growth         I-GENE_OR_GENOME\tI-GENE_OR_GENOME\n",
      "factor         I-GENE_OR_GENOME\tI-GENE_OR_GENOME\n",
      "(egf)          Other\tOther\n",
      "receptor       B-CHEMICAL\tB-CHEMICAL\n",
      "by             Other\tOther\n",
      "pegylated      B-CHEMICAL\tB-CHEMICAL\n",
      "immunoliposomesOther\tOther\n",
      "carrying       Other\tOther\n",
      "a              Other\tOther\n",
      "plasmid        B-CHEMICAL\tB-CHEMICAL\n",
      "coding         Other\tOther\n",
      "for            Other\tOther\n",
      "the            Other\tOther\n",
      "shrna          B-CHEMICAL\tB-CHEMICAL\n",
      "prolonged      Other\tOther\n",
      "the            Other\tOther\n",
      "survival       Other\tOther\n",
      "of             Other\tOther\n",
      "mice           B-ORGANISM\tB-ORGANISM\n",
      "with           Other\tOther\n",
      "intracranial   B-DISEASE_OR_SYNDROME\tOther\n",
      "human          I-DISEASE_OR_SYNDROME\tI-DISEASE_OR_SYNDROME\n",
      "brain          I-DISEASE_OR_SYNDROME\tB-DISEASE_OR_SYNDROME\n",
      "cancer         I-DISEASE_OR_SYNDROME\tI-DISEASE_OR_SYNDROME\n",
      "zhang          B-PERSON\tB-PERSON\n",
      "et             I-PERSON\tI-PERSON\n",
      "al             I-PERSON\tI-PERSON\n",
      "2004           B-DATE\tB-DATE\n",
      ").             Other\tOther\n",
      "the            Other\tOther\n",
      "observation    Other\tOther\n",
      "that           Other\tOther\n",
      "encapsulated   Other\tOther\n",
      "oligonucleotidesB-CHEMICAL\tB-CHEMICAL\n",
      "readily        Other\tOther\n",
      "passed         Other\tOther\n",
      "the            Other\tOther\n",
      "blood          B-SUBSTRATE\tB-SUBSTRATE\n",
      "brain          Other\tOther\n",
      "barrier,       Other\tOther\n",
      "encourages     Other\tOther\n",
      "the            Other\tOther\n",
      "development    Other\tOther\n",
      "of             Other\tOther\n",
      "na-based       B-CHEMICAL\tB-CHEMICAL\n",
      "therapies      I-CHEMICAL\tB-THERAPEUTIC_OR_PREVENTIVE_PROCEDURE\n",
      "for            Other\tOther\n",
      "neurodegenerativeB-GENE_OR_GENOME\tB-GENE_OR_GENOME\n",
      "diseases       I-GENE_OR_GENOME\tI-GENE_OR_GENOME\n",
      "(reviewed      Other\tOther\n",
      "by             Other\tOther\n",
      "sa             B-ORG\tB-ORG\n",
      "2004           B-DATE\tB-DATE\n",
      ".              Other\tOther\n",
      "in             Other\tOther\n",
      "the            Other\tOther\n",
      "nanotechnology Other\tOther\n",
      "fi             Other\tOther\n",
      "eld,           Other\tOther\n",
      "aptamers       B-CHEMICAL\tB-CHEMICAL\n",
      "have           Other\tOther\n",
      "the            Other\tOther\n",
      "potential      Other\tOther\n",
      "to             Other\tOther\n",
      "act            Other\tOther\n",
      "as             Other\tOther\n",
      "targeting      Other\tOther\n",
      "molecules      Other\tOther\n",
      "by             Other\tOther\n",
      "directing      Other\tOther\n",
      "the            Other\tOther\n",
      "delivery       Other\tOther\n",
      "of             Other\tOther\n",
      "nanoparticles  Other\tOther\n",
      "to             Other\tOther\n",
      "antigens       B-CHEMICAL\tB-CHEMICAL\n",
      "present        Other\tOther\n",
      "on             Other\tOther\n",
      "the            Other\tOther\n",
      "surface        B-CELL_COMPONENT\tB-CELL_COMPONENT\n",
      "of             Other\tOther\n",
      "target         Other\tOther\n",
      "cells          B-CELL\tB-CELL\n",
      "in             Other\tOther\n",
      "general        Other\tOther\n",
      "terms,         Other\tOther\n",
      "therapeutic    Other\tOther\n",
      "nanoparticles  Other\tOther\n",
      "are            Other\tOther\n",
      "components     Other\tOther\n",
      "of             Other\tOther\n",
      "specialized    B-ORG\tOther\n",
      "delivery       I-ORG\tOther\n",
      "vehicles       I-ORG\tB-CHEMICAL\n",
      "of             I-ORG\tOther\n",
      "an             I-ORG\tOther\n",
      "encapsulated   I-ORG\tOther\n",
      "drug           I-ORG\tOther\n",
      "drug           Other\tOther\n",
      "release        Other\tOther\n",
      "should         Other\tOther\n",
      "occur          Other\tOther\n",
      "in             Other\tOther\n",
      "a              Other\tOther\n",
      "regulated      Other\tOther\n",
      "and            Other\tOther\n",
      "defi           B-GENE_OR_GENOME\tB-GENE_OR_GENOME\n",
      "ned            I-GENE_OR_GENOME\tI-GENE_OR_GENOME\n",
      "manner.        Other\tOther\n",
      "depending      Other\tOther\n",
      "on             Other\tOther\n",
      "the            Other\tOther\n",
      "therapeutic    Other\tOther\n",
      "demand,        Other\tOther\n",
      "such           Other\tOther\n",
      "devices        Other\tOther\n",
      "are            Other\tOther\n",
      "designed       Other\tOther\n",
      "to             Other\tOther\n",
      "ensure         Other\tOther\n",
      "continuous     Other\tOther\n",
      "or             Other\tOther\n",
      "immediate      Other\tOther\n",
      "drug           Other\tOther\n",
      "release.       Other\tOther\n",
      "the            Other\tOther\n",
      "combination    Other\tOther\n",
      "of             Other\tOther\n",
      "targeted       Other\tOther\n",
      "delivery       Other\tOther\n",
      "and            Other\tOther\n",
      "controlled     B-GENE_OR_GENOME\tB-GENE_OR_GENOME\n",
      "release        I-GENE_OR_GENOME\tI-GENE_OR_GENOME\n",
      "of             Other\tOther\n",
      "drugs          B-THERAPEUTIC_OR_PREVENTIVE_PROCEDURE\tB-THERAPEUTIC_OR_PREVENTIVE_PROCEDURE\n",
      "at             Other\tOther\n",
      "affected       Other\tOther\n",
      "tissue         B-TISSUE\tB-GENE_OR_GENOME\n",
      "sites          I-TISSUE\tI-GENE_OR_GENOME\n",
      "will           Other\tOther\n",
      "lead           Other\tOther\n",
      "to             Other\tOther\n",
      "the            Other\tOther\n",
      "development    Other\tOther\n",
      "of             Other\tOther\n",
      "\"smart         Other\tOther\n",
      "therapeutics   B-CHEMICAL\tB-CHEMICAL\n",
      ",              Other\tOther\n",
      "which          Other\tOther\n",
      "are            Other\tOther\n",
      "more           Other\tOther\n",
      "effective      Other\tOther\n",
      "and            Other\tOther\n",
      "will           Other\tOther\n",
      "have           Other\tOther\n",
      "less           Other\tOther\n",
      "undesired      Other\tOther\n",
      "side           Other\tOther\n",
      "effects        Other\tOther\n",
      "than           Other\tOther\n",
      "drugs          B-THERAPEUTIC_OR_PREVENTIVE_PROCEDURE\tB-THERAPEUTIC_OR_PREVENTIVE_PROCEDURE\n",
      "available      Other\tOther\n",
      "today          B-DATE\tB-DATE\n",
      "several        Other\tOther\n",
      "studies        Other\tOther\n",
      "have           Other\tOther\n",
      "shown          Other\tOther\n",
      "that           Other\tOther\n",
      "nanoparticles  Other\tOther\n",
      "can            Other\tOther\n",
      "be             Other\tOther\n",
      "attached       Other\tOther\n",
      "to             Other\tOther\n",
      "nas            B-GPE\tB-ORG\n",
      "in             Other\tOther\n",
      "a              Other\tOther\n",
      "way            Other\tOther\n",
      "that           Other\tOther\n",
      "na-binding     B-CHEMICAL\tB-CHEMICAL\n",
      "properties     I-CHEMICAL\tOther\n",
      "to             Other\tOther\n",
      "their          Other\tOther\n",
      "targets        Other\tOther\n",
      "are            Other\tOther\n",
      "preserved,     Other\tOther\n",
      "thus           Other\tOther\n",
      "reducing       Other\tOther\n",
      "their          Other\tOther\n",
      "potentially    Other\tOther\n",
      "associated     Other\tOther\n",
      "deleterious    Other\tOther\n",
      "side           Other\tOther\n",
      "effects.       Other\tOther\n",
      "these          Other\tOther\n",
      "new            Other\tOther\n",
      "approaches     Other\tOther\n",
      "can            Other\tOther\n",
      "supplement     Other\tOther\n",
      "the            Other\tOther\n",
      "conventional   Other\tOther\n",
      "chemotherapy   B-THERAPEUTIC_OR_PREVENTIVE_PROCEDURE\tB-THERAPEUTIC_OR_PREVENTIVE_PROCEDURE\n",
      "and            Other\tOther\n",
      "radiotherapy   B-THERAPEUTIC_OR_PREVENTIVE_PROCEDURE\tB-THERAPEUTIC_OR_PREVENTIVE_PROCEDURE\n",
      "in             Other\tOther\n",
      "cancer         B-DISEASE_OR_SYNDROME\tB-DISEASE_OR_SYNDROME\n",
      "treatment,     Other\tOther\n",
      "prevent        Other\tOther\n",
      "drug           Other\tOther\n",
      "resistance     Other\tOther\n",
      "and            Other\tOther\n",
      "damage         Other\tOther\n",
      "to             Other\tOther\n",
      "normal         Other\tOther\n",
      "tissues.       Other\tOther\n",
      "in             Other\tOther\n",
      "view           Other\tOther\n",
      "of             Other\tOther\n",
      "the            Other\tOther\n",
      "impact         Other\tOther\n",
      "of             Other\tOther\n",
      "the            Other\tOther\n",
      "genomic        Other\tOther\n",
      "revolution     Other\tOther\n",
      "on             Other\tOther\n",
      "improving      Other\tOther\n",
      "medicines      B-CHEMICAL\tB-CHEMICAL\n",
      "and            Other\tOther\n",
      "healthcare,    Other\tOther\n",
      "state-of-theartOther\tB-CARDINAL\n",
      "na             B-CHEMICAL\tB-CHEMICAL\n",
      "carriers       Other\tOther\n",
      "together       Other\tOther\n",
      "with           Other\tOther\n",
      "highly         Other\tOther\n",
      "specifi        Other\tOther\n",
      "c              Other\tOther\n",
      "oligonucleotideB-CHEMICAL\tB-CHEMICAL\n",
      "drugs          B-THERAPEUTIC_OR_PREVENTIVE_PROCEDURE\tB-THERAPEUTIC_OR_PREVENTIVE_PROCEDURE\n",
      "may            Other\tOther\n",
      "help           Other\tOther\n",
      "in             Other\tOther\n",
      "reducing       Other\tOther\n",
      "the            Other\tOther\n",
      "side           Other\tOther\n",
      "effects        Other\tOther\n",
      "of             Other\tOther\n",
      "drugs          B-THERAPEUTIC_OR_PREVENTIVE_PROCEDURE\tB-THERAPEUTIC_OR_PREVENTIVE_PROCEDURE\n",
      "----------------------------\n"
     ]
    }
   ],
   "source": [
    "for i in range(3):\n",
    "    p = model.predict(np.array([x_test[i]]))\n",
    "    p = np.argmax(p, axis=-1)\n",
    "    y_true = y_test[i]\n",
    "    print(\"{:15}{:5}\\t {}\\n\".format(\"Word\", \"True\", \"Pred\"))\n",
    "    print(\"-\" * 30)\n",
    "    for w, true, pred in zip(x_test[i], y_true, p[0]):\n",
    "        if words[w] == \"ENDPAD\":\n",
    "            break\n",
    "        print(\"{:15}{}\\t{}\".format(words[w], tags[true], tags[pred]))\n",
    "    print(\"----------------------------\")"
   ]
  },
  {
   "cell_type": "code",
   "execution_count": null,
   "id": "1f01e05c",
   "metadata": {},
   "outputs": [],
   "source": []
  }
 ],
 "metadata": {
  "kernelspec": {
   "display_name": "Python 3 (ipykernel)",
   "language": "python",
   "name": "python3"
  },
  "language_info": {
   "codemirror_mode": {
    "name": "ipython",
    "version": 3
   },
   "file_extension": ".py",
   "mimetype": "text/x-python",
   "name": "python",
   "nbconvert_exporter": "python",
   "pygments_lexer": "ipython3",
   "version": "3.9.15"
  }
 },
 "nbformat": 4,
 "nbformat_minor": 5
}
